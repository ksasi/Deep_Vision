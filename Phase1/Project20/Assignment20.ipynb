{
 "cells": [
  {
   "cell_type": "markdown",
   "metadata": {
    "colab_type": "text",
    "id": "view-in-github"
   },
   "source": [
    "<a href=\"https://colab.research.google.com/github/ksasi/EVA/blob/master/Project20/Assignment20.ipynb\" target=\"_parent\"><img src=\"https://colab.research.google.com/assets/colab-badge.svg\" alt=\"Open In Colab\"/></a>"
   ]
  },
  {
   "cell_type": "markdown",
   "metadata": {
    "colab_type": "text",
    "id": "HVeAL_b01JaU"
   },
   "source": [
    "# Transfer Learning for CIFAR10 Using ImageNet Weights"
   ]
  },
  {
   "cell_type": "code",
   "execution_count": 1,
   "metadata": {
    "colab": {
     "base_uri": "https://localhost:8080/",
     "height": 306
    },
    "colab_type": "code",
    "id": "qOepNhcgQ_0i",
    "outputId": "047f7983-77fb-4ee6-90de-d7802b139b5b"
   },
   "outputs": [
    {
     "name": "stdout",
     "output_type": "stream",
     "text": [
      "Thu Nov 28 08:42:47 2019       \n",
      "+-----------------------------------------------------------------------------+\n",
      "| NVIDIA-SMI 440.33.01    Driver Version: 418.67       CUDA Version: 10.1     |\n",
      "|-------------------------------+----------------------+----------------------+\n",
      "| GPU  Name        Persistence-M| Bus-Id        Disp.A | Volatile Uncorr. ECC |\n",
      "| Fan  Temp  Perf  Pwr:Usage/Cap|         Memory-Usage | GPU-Util  Compute M. |\n",
      "|===============================+======================+======================|\n",
      "|   0  Tesla P100-PCIE...  Off  | 00000000:00:04.0 Off |                    0 |\n",
      "| N/A   35C    P0    25W / 250W |      0MiB / 16280MiB |      0%      Default |\n",
      "+-------------------------------+----------------------+----------------------+\n",
      "                                                                               \n",
      "+-----------------------------------------------------------------------------+\n",
      "| Processes:                                                       GPU Memory |\n",
      "|  GPU       PID   Type   Process name                             Usage      |\n",
      "|=============================================================================|\n",
      "|  No running processes found                                                 |\n",
      "+-----------------------------------------------------------------------------+\n"
     ]
    }
   ],
   "source": [
    "# Obtain GPU details\n",
    "\n",
    "!nvidia-smi"
   ]
  },
  {
   "cell_type": "code",
   "execution_count": 2,
   "metadata": {
    "colab": {
     "base_uri": "https://localhost:8080/",
     "height": 1000
    },
    "colab_type": "code",
    "id": "Z2yr-i2CnGjD",
    "outputId": "3d8964ce-4f69-4451-f701-802be27e5e77"
   },
   "outputs": [
    {
     "name": "stdout",
     "output_type": "stream",
     "text": [
      "Collecting tensorflow-gpu\n",
      "\u001b[?25l  Downloading https://files.pythonhosted.org/packages/25/44/47f0722aea081697143fbcf5d2aa60d1aee4aaacb5869aee2b568974777b/tensorflow_gpu-2.0.0-cp36-cp36m-manylinux2010_x86_64.whl (380.8MB)\n",
      "\u001b[K     |████████████████████████████████| 380.8MB 43kB/s \n",
      "\u001b[?25hRequirement already satisfied: termcolor>=1.1.0 in /usr/local/lib/python3.6/dist-packages (from tensorflow-gpu) (1.1.0)\n",
      "Requirement already satisfied: keras-preprocessing>=1.0.5 in /usr/local/lib/python3.6/dist-packages (from tensorflow-gpu) (1.1.0)\n",
      "Requirement already satisfied: six>=1.10.0 in /usr/local/lib/python3.6/dist-packages (from tensorflow-gpu) (1.12.0)\n",
      "Requirement already satisfied: google-pasta>=0.1.6 in /usr/local/lib/python3.6/dist-packages (from tensorflow-gpu) (0.1.8)\n",
      "Requirement already satisfied: wrapt>=1.11.1 in /usr/local/lib/python3.6/dist-packages (from tensorflow-gpu) (1.11.2)\n",
      "Collecting tensorboard<2.1.0,>=2.0.0\n",
      "\u001b[?25l  Downloading https://files.pythonhosted.org/packages/76/54/99b9d5d52d5cb732f099baaaf7740403e83fe6b0cedde940fabd2b13d75a/tensorboard-2.0.2-py3-none-any.whl (3.8MB)\n",
      "\u001b[K     |████████████████████████████████| 3.8MB 37.6MB/s \n",
      "\u001b[?25hCollecting tensorflow-estimator<2.1.0,>=2.0.0\n",
      "\u001b[?25l  Downloading https://files.pythonhosted.org/packages/fc/08/8b927337b7019c374719145d1dceba21a8bb909b93b1ad6f8fb7d22c1ca1/tensorflow_estimator-2.0.1-py2.py3-none-any.whl (449kB)\n",
      "\u001b[K     |████████████████████████████████| 450kB 64.4MB/s \n",
      "\u001b[?25hRequirement already satisfied: opt-einsum>=2.3.2 in /usr/local/lib/python3.6/dist-packages (from tensorflow-gpu) (3.1.0)\n",
      "Requirement already satisfied: grpcio>=1.8.6 in /usr/local/lib/python3.6/dist-packages (from tensorflow-gpu) (1.15.0)\n",
      "Requirement already satisfied: absl-py>=0.7.0 in /usr/local/lib/python3.6/dist-packages (from tensorflow-gpu) (0.8.1)\n",
      "Requirement already satisfied: protobuf>=3.6.1 in /usr/local/lib/python3.6/dist-packages (from tensorflow-gpu) (3.10.0)\n",
      "Requirement already satisfied: numpy<2.0,>=1.16.0 in /usr/local/lib/python3.6/dist-packages (from tensorflow-gpu) (1.17.4)\n",
      "Requirement already satisfied: keras-applications>=1.0.8 in /usr/local/lib/python3.6/dist-packages (from tensorflow-gpu) (1.0.8)\n",
      "Requirement already satisfied: astor>=0.6.0 in /usr/local/lib/python3.6/dist-packages (from tensorflow-gpu) (0.8.0)\n",
      "Requirement already satisfied: gast==0.2.2 in /usr/local/lib/python3.6/dist-packages (from tensorflow-gpu) (0.2.2)\n",
      "Requirement already satisfied: wheel>=0.26 in /usr/local/lib/python3.6/dist-packages (from tensorflow-gpu) (0.33.6)\n",
      "Requirement already satisfied: setuptools>=41.0.0 in /usr/local/lib/python3.6/dist-packages (from tensorboard<2.1.0,>=2.0.0->tensorflow-gpu) (41.6.0)\n",
      "Collecting google-auth<2,>=1.6.3\n",
      "\u001b[?25l  Downloading https://files.pythonhosted.org/packages/7b/cb/786dc53d93494784935a62947643b48250b84a882474e714f9af5e1a1928/google_auth-1.7.1-py2.py3-none-any.whl (74kB)\n",
      "\u001b[K     |████████████████████████████████| 81kB 11.1MB/s \n",
      "\u001b[?25hRequirement already satisfied: google-auth-oauthlib<0.5,>=0.4.1 in /usr/local/lib/python3.6/dist-packages (from tensorboard<2.1.0,>=2.0.0->tensorflow-gpu) (0.4.1)\n",
      "Requirement already satisfied: werkzeug>=0.11.15 in /usr/local/lib/python3.6/dist-packages (from tensorboard<2.1.0,>=2.0.0->tensorflow-gpu) (0.16.0)\n",
      "Requirement already satisfied: markdown>=2.6.8 in /usr/local/lib/python3.6/dist-packages (from tensorboard<2.1.0,>=2.0.0->tensorflow-gpu) (3.1.1)\n",
      "Requirement already satisfied: requests<3,>=2.21.0 in /usr/local/lib/python3.6/dist-packages (from tensorboard<2.1.0,>=2.0.0->tensorflow-gpu) (2.21.0)\n",
      "Requirement already satisfied: h5py in /usr/local/lib/python3.6/dist-packages (from keras-applications>=1.0.8->tensorflow-gpu) (2.8.0)\n",
      "Requirement already satisfied: pyasn1-modules>=0.2.1 in /usr/local/lib/python3.6/dist-packages (from google-auth<2,>=1.6.3->tensorboard<2.1.0,>=2.0.0->tensorflow-gpu) (0.2.7)\n",
      "Requirement already satisfied: cachetools<3.2,>=2.0.0 in /usr/local/lib/python3.6/dist-packages (from google-auth<2,>=1.6.3->tensorboard<2.1.0,>=2.0.0->tensorflow-gpu) (3.1.1)\n",
      "Requirement already satisfied: rsa<4.1,>=3.1.4 in /usr/local/lib/python3.6/dist-packages (from google-auth<2,>=1.6.3->tensorboard<2.1.0,>=2.0.0->tensorflow-gpu) (4.0)\n",
      "Requirement already satisfied: requests-oauthlib>=0.7.0 in /usr/local/lib/python3.6/dist-packages (from google-auth-oauthlib<0.5,>=0.4.1->tensorboard<2.1.0,>=2.0.0->tensorflow-gpu) (1.3.0)\n",
      "Requirement already satisfied: urllib3<1.25,>=1.21.1 in /usr/local/lib/python3.6/dist-packages (from requests<3,>=2.21.0->tensorboard<2.1.0,>=2.0.0->tensorflow-gpu) (1.24.3)\n",
      "Requirement already satisfied: certifi>=2017.4.17 in /usr/local/lib/python3.6/dist-packages (from requests<3,>=2.21.0->tensorboard<2.1.0,>=2.0.0->tensorflow-gpu) (2019.9.11)\n",
      "Requirement already satisfied: idna<2.9,>=2.5 in /usr/local/lib/python3.6/dist-packages (from requests<3,>=2.21.0->tensorboard<2.1.0,>=2.0.0->tensorflow-gpu) (2.8)\n",
      "Requirement already satisfied: chardet<3.1.0,>=3.0.2 in /usr/local/lib/python3.6/dist-packages (from requests<3,>=2.21.0->tensorboard<2.1.0,>=2.0.0->tensorflow-gpu) (3.0.4)\n",
      "Requirement already satisfied: pyasn1<0.5.0,>=0.4.6 in /usr/local/lib/python3.6/dist-packages (from pyasn1-modules>=0.2.1->google-auth<2,>=1.6.3->tensorboard<2.1.0,>=2.0.0->tensorflow-gpu) (0.4.7)\n",
      "Requirement already satisfied: oauthlib>=3.0.0 in /usr/local/lib/python3.6/dist-packages (from requests-oauthlib>=0.7.0->google-auth-oauthlib<0.5,>=0.4.1->tensorboard<2.1.0,>=2.0.0->tensorflow-gpu) (3.1.0)\n",
      "\u001b[31mERROR: tensorflow 1.15.0 has requirement tensorboard<1.16.0,>=1.15.0, but you'll have tensorboard 2.0.2 which is incompatible.\u001b[0m\n",
      "\u001b[31mERROR: tensorflow 1.15.0 has requirement tensorflow-estimator==1.15.1, but you'll have tensorflow-estimator 2.0.1 which is incompatible.\u001b[0m\n",
      "\u001b[31mERROR: tensorboard 2.0.2 has requirement grpcio>=1.24.3, but you'll have grpcio 1.15.0 which is incompatible.\u001b[0m\n",
      "\u001b[31mERROR: google-colab 1.0.0 has requirement google-auth~=1.4.0, but you'll have google-auth 1.7.1 which is incompatible.\u001b[0m\n",
      "Installing collected packages: google-auth, tensorboard, tensorflow-estimator, tensorflow-gpu\n",
      "  Found existing installation: google-auth 1.4.2\n",
      "    Uninstalling google-auth-1.4.2:\n",
      "      Successfully uninstalled google-auth-1.4.2\n",
      "  Found existing installation: tensorboard 1.15.0\n",
      "    Uninstalling tensorboard-1.15.0:\n",
      "      Successfully uninstalled tensorboard-1.15.0\n",
      "  Found existing installation: tensorflow-estimator 1.15.1\n",
      "    Uninstalling tensorflow-estimator-1.15.1:\n",
      "      Successfully uninstalled tensorflow-estimator-1.15.1\n",
      "Successfully installed google-auth-1.7.1 tensorboard-2.0.2 tensorflow-estimator-2.0.1 tensorflow-gpu-2.0.0\n"
     ]
    },
    {
     "data": {
      "application/vnd.colab-display-data+json": {
       "pip_warning": {
        "packages": [
         "google"
        ]
       }
      }
     },
     "metadata": {
      "tags": []
     },
     "output_type": "display_data"
    }
   ],
   "source": [
    "# Install Tensorflow 2.0 GPU version\n",
    "\n",
    "!pip install tensorflow-gpu"
   ]
  },
  {
   "cell_type": "code",
   "execution_count": 3,
   "metadata": {
    "colab": {
     "base_uri": "https://localhost:8080/",
     "height": 51
    },
    "colab_type": "code",
    "id": "EAR1cclbnV6G",
    "outputId": "c4131109-fbf0-4b2a-cb6f-b2919ae4d42f"
   },
   "outputs": [
    {
     "name": "stdout",
     "output_type": "stream",
     "text": [
      "2.0.0\n",
      "2.2.4-tf\n"
     ]
    }
   ],
   "source": [
    "# Import all the necessary libraties i.e. numpy, matplotlib, tensorflow\n",
    "# Print tensorflow and tf.keras versions\n",
    "\n",
    "import tensorflow as tf\n",
    "from tensorflow.keras import layers\n",
    "from tensorflow.keras.datasets import cifar100\n",
    "from tensorflow.keras.models import Model, Sequential\n",
    "from tensorflow.keras.layers import Dense, Dropout, Flatten, Input, AveragePooling2D, Activation\n",
    "from tensorflow.keras.layers import Conv2D, MaxPooling2D, BatchNormalization\n",
    "from tensorflow.keras.layers import Concatenate\n",
    "from tensorflow.keras.optimizers import Adam\n",
    "from tensorflow.keras.callbacks import LambdaCallback\n",
    "from tensorflow.keras.preprocessing.image import ImageDataGenerator\n",
    "from tensorflow.keras.backend import eval\n",
    "from __future__ import absolute_import, division, print_function, unicode_literals\n",
    "from tensorflow.keras import backend as k\n",
    "import matplotlib.pyplot as plt\n",
    "import numpy as np\n",
    "\n",
    "\n",
    "print(tf.version.VERSION)\n",
    "print(tf.keras.__version__)"
   ]
  },
  {
   "cell_type": "code",
   "execution_count": 0,
   "metadata": {
    "colab": {},
    "colab_type": "code",
    "id": "Qy-EvHKy_yIz"
   },
   "outputs": [],
   "source": [
    "# Number of classes for CIFAR100 set as 100\n",
    "\n",
    "num_classes = 100"
   ]
  },
  {
   "cell_type": "code",
   "execution_count": 5,
   "metadata": {
    "colab": {
     "base_uri": "https://localhost:8080/",
     "height": 51
    },
    "colab_type": "code",
    "id": "cFzdEjglnaYA",
    "outputId": "a763466d-a23f-40fa-cc4c-40aea8ef05c3"
   },
   "outputs": [
    {
     "name": "stdout",
     "output_type": "stream",
     "text": [
      "Downloading data from https://www.cs.toronto.edu/~kriz/cifar-100-python.tar.gz\n",
      "169009152/169001437 [==============================] - 11s 0us/step\n"
     ]
    }
   ],
   "source": [
    "# Obtain train and test dataset for CIFAR100\n",
    "\n",
    "(x_train, y_train), (x_test, y_test) = tf.keras.datasets.cifar100.load_data(label_mode='fine')"
   ]
  },
  {
   "cell_type": "code",
   "execution_count": 6,
   "metadata": {
    "colab": {
     "base_uri": "https://localhost:8080/",
     "height": 197
    },
    "colab_type": "code",
    "id": "tCY1ozNkt8Q3",
    "outputId": "4caaa0e0-fd66-4901-9ac1-c684d2b40af4"
   },
   "outputs": [
    {
     "data": {
      "image/png": "[encoded data removed]",
      "text/plain": [
       "<Figure size 576x216 with 10 Axes>"
      ]
     },
     "metadata": {
      "tags": []
     },
     "output_type": "display_data"
    }
   ],
   "source": [
    "# Show few images from training dataset of CIFAR100\n",
    "\n",
    "fig = plt.figure(figsize=(8,3))\n",
    "for i in range(10):\n",
    "    ax = fig.add_subplot(2, 5, 1 + i, xticks=[], yticks=[])\n",
    "    idx = np.where(y_train[:]==i)[0]\n",
    "    features_idx = x_train[idx,::]\n",
    "    img_num = np.random.randint(features_idx.shape[0])\n",
    "    im = features_idx[img_num]\n",
    "    #ax.set_title(class_names[i])\n",
    "    plt.imshow(im)\n",
    "plt.show()"
   ]
  },
  {
   "cell_type": "code",
   "execution_count": 0,
   "metadata": {
    "colab": {},
    "colab_type": "code",
    "id": "Du63rMvj-554"
   },
   "outputs": [],
   "source": [
    "# Convert labels into one-hot vectors\n",
    "\n",
    "img_height, img_width, channel = x_train.shape[1],x_train.shape[2],x_train.shape[3]\n",
    "\n",
    "# convert to one hot encoing \n",
    "y_train = tf.keras.utils.to_categorical(y_train, num_classes)\n",
    "y_test = tf.keras.utils.to_categorical(y_test, num_classes)"
   ]
  },
  {
   "cell_type": "code",
   "execution_count": 8,
   "metadata": {
    "colab": {
     "base_uri": "https://localhost:8080/",
     "height": 229
    },
    "colab_type": "code",
    "id": "q0mikukA_vCl",
    "outputId": "709b3271-2046-481a-952e-56ce5514749a"
   },
   "outputs": [
    {
     "data": {
      "text/plain": [
       "<matplotlib.image.AxesImage at 0x7fa0f48f2be0>"
      ]
     },
     "execution_count": 8,
     "metadata": {
      "tags": []
     },
     "output_type": "execute_result"
    },
    {
     "data": {
      "image/png": "[encoded data removed]",
      "text/plain": [
       "<Figure size 216x216 with 1 Axes>"
      ]
     },
     "metadata": {
      "tags": []
     },
     "output_type": "display_data"
    }
   ],
   "source": [
    "# Show sample image from train dataset\n",
    "\n",
    "fig = plt.figure(figsize=(3,3))\n",
    "plt.imshow(x_train[1,:,:,:])"
   ]
  },
  {
   "cell_type": "code",
   "execution_count": 9,
   "metadata": {
    "colab": {
     "base_uri": "https://localhost:8080/",
     "height": 34
    },
    "colab_type": "code",
    "id": "pukeE7e0WykC",
    "outputId": "feedd449-9c7c-4468-9bae-3fcf560f4bd9"
   },
   "outputs": [
    {
     "data": {
      "text/plain": [
       "(50000, 32, 32, 3)"
      ]
     },
     "execution_count": 9,
     "metadata": {
      "tags": []
     },
     "output_type": "execute_result"
    }
   ],
   "source": [
    "# Display shape of x_train\n",
    "\n",
    "x_train.shape"
   ]
  },
  {
   "cell_type": "code",
   "execution_count": 0,
   "metadata": {
    "colab": {},
    "colab_type": "code",
    "id": "XmlyzuxW6n47"
   },
   "outputs": [],
   "source": [
    "# Image Augmenters\n",
    "from albumentations import (Compose, HorizontalFlip, Cutout, PadIfNeeded, RandomCrop)\n",
    "\n",
    "def CustomImageDataGen(input_img):\n",
    "    seq = Compose([PadIfNeeded(40,40, p=1),\n",
    "                   RandomCrop(32,32, p=1),\n",
    "                   HorizontalFlip(p=0.5),\n",
    "                   Cutout(num_holes=1, max_h_size=8, max_w_size=8, p=0.5)\n",
    "                  ], p=1)\n",
    "    output_img = seq(image = input_img)['image']\n",
    "    return output_img"
   ]
  },
  {
   "cell_type": "code",
   "execution_count": 0,
   "metadata": {
    "colab": {},
    "colab_type": "code",
    "id": "9sygkk7og6QD"
   },
   "outputs": [],
   "source": [
    "# Create image data generators for train and validation/test datasets seperately\n",
    "# Fit the image data generators to train dataset to obtain mean and standard deviations, so that image standardization can be performed.\n",
    "\n",
    "from tensorflow.keras.preprocessing.image import ImageDataGenerator\n",
    "datagen = ImageDataGenerator(\n",
    "    featurewise_center=True,\n",
    "    featurewise_std_normalization=True,\n",
    "    rotation_range=0,\n",
    "    width_shift_range=0,\n",
    "    height_shift_range=0,\n",
    "    preprocessing_function = CustomImageDataGen,\n",
    "    horizontal_flip=True)\n",
    "datagen.fit(x_train)\n",
    "\n",
    "datagen_val = ImageDataGenerator(\n",
    "    featurewise_center=True,\n",
    "    featurewise_std_normalization=True,\n",
    "    rotation_range=0,\n",
    "    width_shift_range=0,\n",
    "    height_shift_range=0)\n",
    "\n",
    "datagen_val.fit(x_train)"
   ]
  },
  {
   "cell_type": "code",
   "execution_count": 12,
   "metadata": {
    "colab": {
     "base_uri": "https://localhost:8080/",
     "height": 51
    },
    "colab_type": "code",
    "id": "_9E2ijtUg6Yf",
    "outputId": "f2bf9088-eb60-4b67-950e-e5f51b9de798"
   },
   "outputs": [
    {
     "name": "stdout",
     "output_type": "stream",
     "text": [
      "[[[129.30386 124.06987 112.43356]]]\n",
      "[[[68.1702  65.39176 70.41806]]]\n"
     ]
    }
   ],
   "source": [
    "# Print mean and standard deviation of pixel values\n",
    "\n",
    "print(datagen.mean)\n",
    "print(datagen.std)"
   ]
  },
  {
   "cell_type": "code",
   "execution_count": 13,
   "metadata": {
    "colab": {
     "base_uri": "https://localhost:8080/",
     "height": 34
    },
    "colab_type": "code",
    "id": "kc5mY1GOswSv",
    "outputId": "edd56740-6bde-4ebc-cee3-057f4fc7efe3"
   },
   "outputs": [
    {
     "data": {
      "text/plain": [
       "array([[[129.30386, 124.06987, 112.43356]]], dtype=float32)"
      ]
     },
     "execution_count": 13,
     "metadata": {
      "tags": []
     },
     "output_type": "execute_result"
    }
   ],
   "source": [
    "datagen.mean"
   ]
  },
  {
   "cell_type": "code",
   "execution_count": 0,
   "metadata": {
    "colab": {},
    "colab_type": "code",
    "id": "hBncxZGlhYCq"
   },
   "outputs": [],
   "source": [
    "# Set the mean and std of both the image data generators to ImageNet mean & std. These values are then used for image standardization.\n",
    "\n",
    "import numpy as np\n",
    "\n",
    "datagen.mean = np.array([[[0.485, 0.456, 0.406]]], dtype = np.float32)\n",
    "datagen.std = np.array([[[0.229, 0.224, 0.225]]], dtype = np.float32)\n",
    "\n",
    "\n",
    "datagen_val.mean = np.array([[[0.485, 0.456, 0.406]]], dtype = np.float32)\n",
    "datagen_val.std = np.array([[[0.229, 0.224, 0.225]]], dtype = np.float32)"
   ]
  },
  {
   "cell_type": "code",
   "execution_count": 15,
   "metadata": {
    "colab": {
     "base_uri": "https://localhost:8080/",
     "height": 51
    },
    "colab_type": "code",
    "id": "FeSYMGFhtJCn",
    "outputId": "ce8843f5-a6ed-4b3b-9dc7-16e7a5cf14fe"
   },
   "outputs": [
    {
     "name": "stdout",
     "output_type": "stream",
     "text": [
      "[[[0.485 0.456 0.406]]]\n",
      "[[[0.485 0.456 0.406]]]\n"
     ]
    }
   ],
   "source": [
    "# Display updated mean and std values\n",
    "\n",
    "print(datagen.mean)\n",
    "print(datagen_val.mean)"
   ]
  },
  {
   "cell_type": "code",
   "execution_count": 0,
   "metadata": {
    "colab": {},
    "colab_type": "code",
    "id": "QfqLupKXvowB"
   },
   "outputs": [],
   "source": []
  },
  {
   "cell_type": "code",
   "execution_count": 0,
   "metadata": {
    "colab": {},
    "colab_type": "code",
    "id": "TZotxHfmzxaQ"
   },
   "outputs": [],
   "source": []
  },
  {
   "cell_type": "markdown",
   "metadata": {
    "colab_type": "text",
    "id": "8JPyQ9kQOl4u"
   },
   "source": [
    "#### Classification models Zoo - Keras (and TensorFlow Keras) - https://github.com/qubvel/classification_models, forked and modified to https://github.com/ksasi/classification_models"
   ]
  },
  {
   "cell_type": "code",
   "execution_count": 16,
   "metadata": {
    "colab": {
     "base_uri": "https://localhost:8080/",
     "height": 292
    },
    "colab_type": "code",
    "id": "YBMKHh5iOnVT",
    "outputId": "589d7d62-5d91-4427-966c-9585244f5fdf"
   },
   "outputs": [
    {
     "name": "stdout",
     "output_type": "stream",
     "text": [
      "Collecting git+https://github.com/ksasi/classification_models.git\n",
      "  Cloning https://github.com/ksasi/classification_models.git to /tmp/pip-req-build-q79dadno\n",
      "  Running command git clone -q https://github.com/ksasi/classification_models.git /tmp/pip-req-build-q79dadno\n",
      "  Running command git submodule update --init --recursive -q\n",
      "Requirement already satisfied: keras_applications<=1.0.8,>=1.0.7 in /usr/local/lib/python3.6/dist-packages (from image-classifiers==1.0.0) (1.0.8)\n",
      "Requirement already satisfied: h5py in /usr/local/lib/python3.6/dist-packages (from keras_applications<=1.0.8,>=1.0.7->image-classifiers==1.0.0) (2.8.0)\n",
      "Requirement already satisfied: numpy>=1.9.1 in /usr/local/lib/python3.6/dist-packages (from keras_applications<=1.0.8,>=1.0.7->image-classifiers==1.0.0) (1.17.4)\n",
      "Requirement already satisfied: six in /usr/local/lib/python3.6/dist-packages (from h5py->keras_applications<=1.0.8,>=1.0.7->image-classifiers==1.0.0) (1.12.0)\n",
      "Building wheels for collected packages: image-classifiers\n",
      "  Building wheel for image-classifiers (setup.py) ... \u001b[?25l\u001b[?25hdone\n",
      "  Created wheel for image-classifiers: filename=image_classifiers-1.0.0-cp36-none-any.whl size=19952 sha256=050bb9479f7da749a3a3e3db010434dbba43df568ad1740cdf7438e2a0c782ff\n",
      "  Stored in directory: /tmp/pip-ephem-wheel-cache-zr1duq24/wheels/a1/d5/94/e536af3b04571f3b182a50e31622b3d9d1c24b7c172b086ae4\n",
      "Successfully built image-classifiers\n",
      "Installing collected packages: image-classifiers\n",
      "Successfully installed image-classifiers-1.0.0\n"
     ]
    }
   ],
   "source": [
    "# Install the below repo. This repo is forked as above and ResNet18 is modified to remove Initial maxpool and set the strides of initial 7x7 to stride of 1\n",
    "\n",
    "!pip install git+https://github.com/ksasi/classification_models.git"
   ]
  },
  {
   "cell_type": "code",
   "execution_count": 17,
   "metadata": {
    "colab": {
     "base_uri": "https://localhost:8080/",
     "height": 51
    },
    "colab_type": "code",
    "id": "NQncC49S3q0j",
    "outputId": "3f94c931-4460-497a-f4dd-314fb0d5976a"
   },
   "outputs": [
    {
     "name": "stdout",
     "output_type": "stream",
     "text": [
      "Downloading data from https://github.com/qubvel/classification_models/releases/download/0.0.1/resnet18_imagenet_1000_no_top.h5\n",
      "44924928/44920640 [==============================] - 4s 0us/step\n"
     ]
    }
   ],
   "source": [
    "# Obtain ResNet18 pre-trained model with ImageNet weights without the classification head\n",
    "\n",
    "from classification_models.tfkeras import Classifiers\n",
    "ResNet18, preprocess_input = Classifiers.get('resnet18')\n",
    "base_model_cifar = ResNet18((32, 32, 3), weights='imagenet', include_top=False)\n",
    "base_model_cifar.trainable = False"
   ]
  },
  {
   "cell_type": "code",
   "execution_count": 18,
   "metadata": {
    "colab": {
     "base_uri": "https://localhost:8080/",
     "height": 1000
    },
    "colab_type": "code",
    "id": "Tw6uEkx09R0l",
    "outputId": "bfecc3cd-35cc-4987-a58d-ac25ed433e23"
   },
   "outputs": [
    {
     "name": "stdout",
     "output_type": "stream",
     "text": [
      "Model: \"model\"\n",
      "__________________________________________________________________________________________________\n",
      "Layer (type)                    Output Shape         Param #     Connected to                     \n",
      "==================================================================================================\n",
      "data (InputLayer)               [(None, 32, 32, 3)]  0                                            \n",
      "__________________________________________________________________________________________________\n",
      "bn_data (BatchNormalization)    (None, 32, 32, 3)    9           data[0][0]                       \n",
      "__________________________________________________________________________________________________\n",
      "zero_padding2d (ZeroPadding2D)  (None, 38, 38, 3)    0           bn_data[0][0]                    \n",
      "__________________________________________________________________________________________________\n",
      "conv0 (Conv2D)                  (None, 32, 32, 64)   9408        zero_padding2d[0][0]             \n",
      "__________________________________________________________________________________________________\n",
      "bn0 (BatchNormalization)        (None, 32, 32, 64)   256         conv0[0][0]                      \n",
      "__________________________________________________________________________________________________\n",
      "relu0 (Activation)              (None, 32, 32, 64)   0           bn0[0][0]                        \n",
      "__________________________________________________________________________________________________\n",
      "zero_padding2d_1 (ZeroPadding2D (None, 34, 34, 64)   0           relu0[0][0]                      \n",
      "__________________________________________________________________________________________________\n",
      "stage1_unit1_bn1 (BatchNormaliz (None, 34, 34, 64)   256         zero_padding2d_1[0][0]           \n",
      "__________________________________________________________________________________________________\n",
      "stage1_unit1_relu1 (Activation) (None, 34, 34, 64)   0           stage1_unit1_bn1[0][0]           \n",
      "__________________________________________________________________________________________________\n",
      "zero_padding2d_2 (ZeroPadding2D (None, 36, 36, 64)   0           stage1_unit1_relu1[0][0]         \n",
      "__________________________________________________________________________________________________\n",
      "stage1_unit1_conv1 (Conv2D)     (None, 34, 34, 64)   36864       zero_padding2d_2[0][0]           \n",
      "__________________________________________________________________________________________________\n",
      "stage1_unit1_bn2 (BatchNormaliz (None, 34, 34, 64)   256         stage1_unit1_conv1[0][0]         \n",
      "__________________________________________________________________________________________________\n",
      "stage1_unit1_relu2 (Activation) (None, 34, 34, 64)   0           stage1_unit1_bn2[0][0]           \n",
      "__________________________________________________________________________________________________\n",
      "zero_padding2d_3 (ZeroPadding2D (None, 36, 36, 64)   0           stage1_unit1_relu2[0][0]         \n",
      "__________________________________________________________________________________________________\n",
      "stage1_unit1_conv2 (Conv2D)     (None, 34, 34, 64)   36864       zero_padding2d_3[0][0]           \n",
      "__________________________________________________________________________________________________\n",
      "stage1_unit1_sc (Conv2D)        (None, 34, 34, 64)   4096        stage1_unit1_relu1[0][0]         \n",
      "__________________________________________________________________________________________________\n",
      "add (Add)                       (None, 34, 34, 64)   0           stage1_unit1_conv2[0][0]         \n",
      "                                                                 stage1_unit1_sc[0][0]            \n",
      "__________________________________________________________________________________________________\n",
      "stage1_unit2_bn1 (BatchNormaliz (None, 34, 34, 64)   256         add[0][0]                        \n",
      "__________________________________________________________________________________________________\n",
      "stage1_unit2_relu1 (Activation) (None, 34, 34, 64)   0           stage1_unit2_bn1[0][0]           \n",
      "__________________________________________________________________________________________________\n",
      "zero_padding2d_4 (ZeroPadding2D (None, 36, 36, 64)   0           stage1_unit2_relu1[0][0]         \n",
      "__________________________________________________________________________________________________\n",
      "stage1_unit2_conv1 (Conv2D)     (None, 34, 34, 64)   36864       zero_padding2d_4[0][0]           \n",
      "__________________________________________________________________________________________________\n",
      "stage1_unit2_bn2 (BatchNormaliz (None, 34, 34, 64)   256         stage1_unit2_conv1[0][0]         \n",
      "__________________________________________________________________________________________________\n",
      "stage1_unit2_relu2 (Activation) (None, 34, 34, 64)   0           stage1_unit2_bn2[0][0]           \n",
      "__________________________________________________________________________________________________\n",
      "zero_padding2d_5 (ZeroPadding2D (None, 36, 36, 64)   0           stage1_unit2_relu2[0][0]         \n",
      "__________________________________________________________________________________________________\n",
      "stage1_unit2_conv2 (Conv2D)     (None, 34, 34, 64)   36864       zero_padding2d_5[0][0]           \n",
      "__________________________________________________________________________________________________\n",
      "add_1 (Add)                     (None, 34, 34, 64)   0           stage1_unit2_conv2[0][0]         \n",
      "                                                                 add[0][0]                        \n",
      "__________________________________________________________________________________________________\n",
      "stage2_unit1_bn1 (BatchNormaliz (None, 34, 34, 64)   256         add_1[0][0]                      \n",
      "__________________________________________________________________________________________________\n",
      "stage2_unit1_relu1 (Activation) (None, 34, 34, 64)   0           stage2_unit1_bn1[0][0]           \n",
      "__________________________________________________________________________________________________\n",
      "zero_padding2d_6 (ZeroPadding2D (None, 36, 36, 64)   0           stage2_unit1_relu1[0][0]         \n",
      "__________________________________________________________________________________________________\n",
      "stage2_unit1_conv1 (Conv2D)     (None, 17, 17, 128)  73728       zero_padding2d_6[0][0]           \n",
      "__________________________________________________________________________________________________\n",
      "stage2_unit1_bn2 (BatchNormaliz (None, 17, 17, 128)  512         stage2_unit1_conv1[0][0]         \n",
      "__________________________________________________________________________________________________\n",
      "stage2_unit1_relu2 (Activation) (None, 17, 17, 128)  0           stage2_unit1_bn2[0][0]           \n",
      "__________________________________________________________________________________________________\n",
      "zero_padding2d_7 (ZeroPadding2D (None, 19, 19, 128)  0           stage2_unit1_relu2[0][0]         \n",
      "__________________________________________________________________________________________________\n",
      "stage2_unit1_conv2 (Conv2D)     (None, 17, 17, 128)  147456      zero_padding2d_7[0][0]           \n",
      "__________________________________________________________________________________________________\n",
      "stage2_unit1_sc (Conv2D)        (None, 17, 17, 128)  8192        stage2_unit1_relu1[0][0]         \n",
      "__________________________________________________________________________________________________\n",
      "add_2 (Add)                     (None, 17, 17, 128)  0           stage2_unit1_conv2[0][0]         \n",
      "                                                                 stage2_unit1_sc[0][0]            \n",
      "__________________________________________________________________________________________________\n",
      "stage2_unit2_bn1 (BatchNormaliz (None, 17, 17, 128)  512         add_2[0][0]                      \n",
      "__________________________________________________________________________________________________\n",
      "stage2_unit2_relu1 (Activation) (None, 17, 17, 128)  0           stage2_unit2_bn1[0][0]           \n",
      "__________________________________________________________________________________________________\n",
      "zero_padding2d_8 (ZeroPadding2D (None, 19, 19, 128)  0           stage2_unit2_relu1[0][0]         \n",
      "__________________________________________________________________________________________________\n",
      "stage2_unit2_conv1 (Conv2D)     (None, 17, 17, 128)  147456      zero_padding2d_8[0][0]           \n",
      "__________________________________________________________________________________________________\n",
      "stage2_unit2_bn2 (BatchNormaliz (None, 17, 17, 128)  512         stage2_unit2_conv1[0][0]         \n",
      "__________________________________________________________________________________________________\n",
      "stage2_unit2_relu2 (Activation) (None, 17, 17, 128)  0           stage2_unit2_bn2[0][0]           \n",
      "__________________________________________________________________________________________________\n",
      "zero_padding2d_9 (ZeroPadding2D (None, 19, 19, 128)  0           stage2_unit2_relu2[0][0]         \n",
      "__________________________________________________________________________________________________\n",
      "stage2_unit2_conv2 (Conv2D)     (None, 17, 17, 128)  147456      zero_padding2d_9[0][0]           \n",
      "__________________________________________________________________________________________________\n",
      "add_3 (Add)                     (None, 17, 17, 128)  0           stage2_unit2_conv2[0][0]         \n",
      "                                                                 add_2[0][0]                      \n",
      "__________________________________________________________________________________________________\n",
      "stage3_unit1_bn1 (BatchNormaliz (None, 17, 17, 128)  512         add_3[0][0]                      \n",
      "__________________________________________________________________________________________________\n",
      "stage3_unit1_relu1 (Activation) (None, 17, 17, 128)  0           stage3_unit1_bn1[0][0]           \n",
      "__________________________________________________________________________________________________\n",
      "zero_padding2d_10 (ZeroPadding2 (None, 19, 19, 128)  0           stage3_unit1_relu1[0][0]         \n",
      "__________________________________________________________________________________________________\n",
      "stage3_unit1_conv1 (Conv2D)     (None, 9, 9, 256)    294912      zero_padding2d_10[0][0]          \n",
      "__________________________________________________________________________________________________\n",
      "stage3_unit1_bn2 (BatchNormaliz (None, 9, 9, 256)    1024        stage3_unit1_conv1[0][0]         \n",
      "__________________________________________________________________________________________________\n",
      "stage3_unit1_relu2 (Activation) (None, 9, 9, 256)    0           stage3_unit1_bn2[0][0]           \n",
      "__________________________________________________________________________________________________\n",
      "zero_padding2d_11 (ZeroPadding2 (None, 11, 11, 256)  0           stage3_unit1_relu2[0][0]         \n",
      "__________________________________________________________________________________________________\n",
      "stage3_unit1_conv2 (Conv2D)     (None, 9, 9, 256)    589824      zero_padding2d_11[0][0]          \n",
      "__________________________________________________________________________________________________\n",
      "stage3_unit1_sc (Conv2D)        (None, 9, 9, 256)    32768       stage3_unit1_relu1[0][0]         \n",
      "__________________________________________________________________________________________________\n",
      "add_4 (Add)                     (None, 9, 9, 256)    0           stage3_unit1_conv2[0][0]         \n",
      "                                                                 stage3_unit1_sc[0][0]            \n",
      "__________________________________________________________________________________________________\n",
      "stage3_unit2_bn1 (BatchNormaliz (None, 9, 9, 256)    1024        add_4[0][0]                      \n",
      "__________________________________________________________________________________________________\n",
      "stage3_unit2_relu1 (Activation) (None, 9, 9, 256)    0           stage3_unit2_bn1[0][0]           \n",
      "__________________________________________________________________________________________________\n",
      "zero_padding2d_12 (ZeroPadding2 (None, 11, 11, 256)  0           stage3_unit2_relu1[0][0]         \n",
      "__________________________________________________________________________________________________\n",
      "stage3_unit2_conv1 (Conv2D)     (None, 9, 9, 256)    589824      zero_padding2d_12[0][0]          \n",
      "__________________________________________________________________________________________________\n",
      "stage3_unit2_bn2 (BatchNormaliz (None, 9, 9, 256)    1024        stage3_unit2_conv1[0][0]         \n",
      "__________________________________________________________________________________________________\n",
      "stage3_unit2_relu2 (Activation) (None, 9, 9, 256)    0           stage3_unit2_bn2[0][0]           \n",
      "__________________________________________________________________________________________________\n",
      "zero_padding2d_13 (ZeroPadding2 (None, 11, 11, 256)  0           stage3_unit2_relu2[0][0]         \n",
      "__________________________________________________________________________________________________\n",
      "stage3_unit2_conv2 (Conv2D)     (None, 9, 9, 256)    589824      zero_padding2d_13[0][0]          \n",
      "__________________________________________________________________________________________________\n",
      "add_5 (Add)                     (None, 9, 9, 256)    0           stage3_unit2_conv2[0][0]         \n",
      "                                                                 add_4[0][0]                      \n",
      "__________________________________________________________________________________________________\n",
      "stage4_unit1_bn1 (BatchNormaliz (None, 9, 9, 256)    1024        add_5[0][0]                      \n",
      "__________________________________________________________________________________________________\n",
      "stage4_unit1_relu1 (Activation) (None, 9, 9, 256)    0           stage4_unit1_bn1[0][0]           \n",
      "__________________________________________________________________________________________________\n",
      "zero_padding2d_14 (ZeroPadding2 (None, 11, 11, 256)  0           stage4_unit1_relu1[0][0]         \n",
      "__________________________________________________________________________________________________\n",
      "stage4_unit1_conv1 (Conv2D)     (None, 5, 5, 512)    1179648     zero_padding2d_14[0][0]          \n",
      "__________________________________________________________________________________________________\n",
      "stage4_unit1_bn2 (BatchNormaliz (None, 5, 5, 512)    2048        stage4_unit1_conv1[0][0]         \n",
      "__________________________________________________________________________________________________\n",
      "stage4_unit1_relu2 (Activation) (None, 5, 5, 512)    0           stage4_unit1_bn2[0][0]           \n",
      "__________________________________________________________________________________________________\n",
      "zero_padding2d_15 (ZeroPadding2 (None, 7, 7, 512)    0           stage4_unit1_relu2[0][0]         \n",
      "__________________________________________________________________________________________________\n",
      "stage4_unit1_conv2 (Conv2D)     (None, 5, 5, 512)    2359296     zero_padding2d_15[0][0]          \n",
      "__________________________________________________________________________________________________\n",
      "stage4_unit1_sc (Conv2D)        (None, 5, 5, 512)    131072      stage4_unit1_relu1[0][0]         \n",
      "__________________________________________________________________________________________________\n",
      "add_6 (Add)                     (None, 5, 5, 512)    0           stage4_unit1_conv2[0][0]         \n",
      "                                                                 stage4_unit1_sc[0][0]            \n",
      "__________________________________________________________________________________________________\n",
      "stage4_unit2_bn1 (BatchNormaliz (None, 5, 5, 512)    2048        add_6[0][0]                      \n",
      "__________________________________________________________________________________________________\n",
      "stage4_unit2_relu1 (Activation) (None, 5, 5, 512)    0           stage4_unit2_bn1[0][0]           \n",
      "__________________________________________________________________________________________________\n",
      "zero_padding2d_16 (ZeroPadding2 (None, 7, 7, 512)    0           stage4_unit2_relu1[0][0]         \n",
      "__________________________________________________________________________________________________\n",
      "stage4_unit2_conv1 (Conv2D)     (None, 5, 5, 512)    2359296     zero_padding2d_16[0][0]          \n",
      "__________________________________________________________________________________________________\n",
      "stage4_unit2_bn2 (BatchNormaliz (None, 5, 5, 512)    2048        stage4_unit2_conv1[0][0]         \n",
      "__________________________________________________________________________________________________\n",
      "stage4_unit2_relu2 (Activation) (None, 5, 5, 512)    0           stage4_unit2_bn2[0][0]           \n",
      "__________________________________________________________________________________________________\n",
      "zero_padding2d_17 (ZeroPadding2 (None, 7, 7, 512)    0           stage4_unit2_relu2[0][0]         \n",
      "__________________________________________________________________________________________________\n",
      "stage4_unit2_conv2 (Conv2D)     (None, 5, 5, 512)    2359296     zero_padding2d_17[0][0]          \n",
      "__________________________________________________________________________________________________\n",
      "add_7 (Add)                     (None, 5, 5, 512)    0           stage4_unit2_conv2[0][0]         \n",
      "                                                                 add_6[0][0]                      \n",
      "__________________________________________________________________________________________________\n",
      "bn1 (BatchNormalization)        (None, 5, 5, 512)    2048        add_7[0][0]                      \n",
      "__________________________________________________________________________________________________\n",
      "relu1 (Activation)              (None, 5, 5, 512)    0           bn1[0][0]                        \n",
      "==================================================================================================\n",
      "Total params: 11,186,889\n",
      "Trainable params: 0\n",
      "Non-trainable params: 11,186,889\n",
      "__________________________________________________________________________________________________\n"
     ]
    }
   ],
   "source": [
    "# Display model summary\n",
    "\n",
    "base_model_cifar.summary()"
   ]
  },
  {
   "cell_type": "markdown",
   "metadata": {
    "colab_type": "text",
    "id": "8FDZatept3gI"
   },
   "source": [
    "### Transfer Learning"
   ]
  },
  {
   "cell_type": "code",
   "execution_count": 0,
   "metadata": {
    "colab": {},
    "colab_type": "code",
    "id": "RJVFzHLVStZU"
   },
   "outputs": [],
   "source": [
    "# Define layers to be used in classification head\n",
    "\n",
    "global_average_layer = tf.keras.layers.GlobalAveragePooling2D()\n",
    "point_wise_conv2d_layer = tf.keras.layers.Conv2D(filters = 100, kernel_size = 1, use_bias = False)\n",
    "dense_layer = tf.keras.layers.Dense(100)\n",
    "softmax_layer = tf.keras.layers.Softmax()"
   ]
  },
  {
   "cell_type": "code",
   "execution_count": 0,
   "metadata": {
    "colab": {},
    "colab_type": "code",
    "id": "PNyyedeNNQeM"
   },
   "outputs": [],
   "source": [
    "# Define the model where custom classification head is attached to previously obtained pre-trained ResNet18\n",
    "\n",
    "model = tf.keras.Sequential([\n",
    "  base_model_cifar,\n",
    "  point_wise_conv2d_layer,\n",
    "  global_average_layer,\n",
    "  dense_layer,\n",
    "  softmax_layer\n",
    "])"
   ]
  },
  {
   "cell_type": "code",
   "execution_count": 0,
   "metadata": {
    "colab": {},
    "colab_type": "code",
    "id": "vcQ7iV6Bvfee"
   },
   "outputs": [],
   "source": [
    "# Compile the model\n",
    "\n",
    "model.compile(optimizer=tf.keras.optimizers.SGD(learning_rate=0.1, momentum=0.9, nesterov=True), loss = 'categorical_crossentropy', metrics = [tf.keras.metrics.CategoricalAccuracy()])"
   ]
  },
  {
   "cell_type": "code",
   "execution_count": 22,
   "metadata": {
    "colab": {
     "base_uri": "https://localhost:8080/",
     "height": 323
    },
    "colab_type": "code",
    "id": "ucgzpaH9vq9y",
    "outputId": "491da423-794d-4330-809f-a700e60af56d"
   },
   "outputs": [
    {
     "name": "stdout",
     "output_type": "stream",
     "text": [
      "Model: \"sequential\"\n",
      "_________________________________________________________________\n",
      "Layer (type)                 Output Shape              Param #   \n",
      "=================================================================\n",
      "model (Model)                (None, 5, 5, 512)         11186889  \n",
      "_________________________________________________________________\n",
      "conv2d (Conv2D)              (None, 5, 5, 100)         51200     \n",
      "_________________________________________________________________\n",
      "global_average_pooling2d (Gl (None, 100)               0         \n",
      "_________________________________________________________________\n",
      "dense (Dense)                (None, 100)               10100     \n",
      "_________________________________________________________________\n",
      "softmax (Softmax)            (None, 100)               0         \n",
      "=================================================================\n",
      "Total params: 11,248,189\n",
      "Trainable params: 61,300\n",
      "Non-trainable params: 11,186,889\n",
      "_________________________________________________________________\n"
     ]
    }
   ],
   "source": [
    "# Display model summary\n",
    "\n",
    "model.summary()"
   ]
  },
  {
   "cell_type": "code",
   "execution_count": 23,
   "metadata": {
    "colab": {
     "base_uri": "https://localhost:8080/",
     "height": 34
    },
    "colab_type": "code",
    "id": "-uJF5d6UXefX",
    "outputId": "712d3330-b47e-4594-d07c-e8530e135951"
   },
   "outputs": [
    {
     "data": {
      "text/plain": [
       "3"
      ]
     },
     "execution_count": 23,
     "metadata": {
      "tags": []
     },
     "output_type": "execute_result"
    }
   ],
   "source": [
    "len(model.trainable_variables)"
   ]
  },
  {
   "cell_type": "code",
   "execution_count": 24,
   "metadata": {
    "colab": {
     "base_uri": "https://localhost:8080/",
     "height": 102
    },
    "colab_type": "code",
    "id": "84Elbtpu7xAD",
    "outputId": "2e994e62-daf2-49d3-ce70-f433c473d81e"
   },
   "outputs": [
    {
     "name": "stdout",
     "output_type": "stream",
     "text": [
      "<tensorflow.python.keras.engine.training.Model object at 0x7fa00e09dfd0> False\n",
      "<tensorflow.python.keras.layers.convolutional.Conv2D object at 0x7f9ff77a27f0> True\n",
      "<tensorflow.python.keras.layers.pooling.GlobalAveragePooling2D object at 0x7f9ff77a2a20> True\n",
      "<tensorflow.python.keras.layers.core.Dense object at 0x7fa061d0dfd0> True\n",
      "<tensorflow.python.keras.layers.advanced_activations.Softmax object at 0x7fa061d0da20> True\n"
     ]
    }
   ],
   "source": [
    "# Display layers and trainable status. The convolution layers are frozen and classification layers were set as Trainable.\n",
    "\n",
    "for i in model.layers:\n",
    "  print(i, i.trainable)"
   ]
  },
  {
   "cell_type": "code",
   "execution_count": 25,
   "metadata": {
    "colab": {
     "base_uri": "https://localhost:8080/",
     "height": 122
    },
    "colab_type": "code",
    "id": "yn50CmXCEUPB",
    "outputId": "266aefa6-8c1e-46a4-e642-eed0ec97e6b6"
   },
   "outputs": [
    {
     "name": "stdout",
     "output_type": "stream",
     "text": [
      "Go to this URL in a browser: https://accounts.google.com/o/oauth2/auth?client_id=947318989803-6bn6qk8qdgf4n4g3pfee6491hc0brc4i.apps.googleusercontent.com&redirect_uri=urn%3aietf%3awg%3aoauth%3a2.0%3aoob&response_type=code&scope=email%20https%3a%2f%2fwww.googleapis.com%2fauth%2fdocs.test%20https%3a%2f%2fwww.googleapis.com%2fauth%2fdrive%20https%3a%2f%2fwww.googleapis.com%2fauth%2fdrive.photos.readonly%20https%3a%2f%2fwww.googleapis.com%2fauth%2fpeopleapi.readonly\n",
      "\n",
      "Enter your authorization code:\n",
      "··········\n",
      "Mounted at /content/drive\n"
     ]
    }
   ],
   "source": [
    "# Mount google drive to colab\n",
    "\n",
    "from google.colab import drive\n",
    "drive.mount('/content/drive', force_remount=True)"
   ]
  },
  {
   "cell_type": "code",
   "execution_count": 26,
   "metadata": {
    "colab": {
     "base_uri": "https://localhost:8080/",
     "height": 1000
    },
    "colab_type": "code",
    "id": "2MzDz-L4ikX2",
    "outputId": "d85d8cb0-6341-42a3-d692-9bd8604826c2"
   },
   "outputs": [
    {
     "name": "stdout",
     "output_type": "stream",
     "text": [
      "Epoch 1/30\n",
      "97/98 [============================>.] - ETA: 0s - loss: 4.2666 - categorical_accuracy: 0.0703\n",
      "Epoch 00001: val_categorical_accuracy improved from -inf to 0.11610, saving model to /content/drive/My Drive/models/resnet18_cifar100_transfer_learn.h5\n",
      "98/98 [==============================] - 54s 548ms/step - loss: 4.2628 - categorical_accuracy: 0.0707 - val_loss: 3.8434 - val_categorical_accuracy: 0.1161\n",
      "Epoch 2/30\n",
      "97/98 [============================>.] - ETA: 0s - loss: 3.8766 - categorical_accuracy: 0.1141\n",
      "Epoch 00002: val_categorical_accuracy improved from 0.11610 to 0.15340, saving model to /content/drive/My Drive/models/resnet18_cifar100_transfer_learn.h5\n",
      "98/98 [==============================] - 47s 476ms/step - loss: 3.8747 - categorical_accuracy: 0.1142 - val_loss: 3.6693 - val_categorical_accuracy: 0.1534\n",
      "Epoch 3/30\n",
      "97/98 [============================>.] - ETA: 0s - loss: 3.7573 - categorical_accuracy: 0.1359\n",
      "Epoch 00003: val_categorical_accuracy improved from 0.15340 to 0.15360, saving model to /content/drive/My Drive/models/resnet18_cifar100_transfer_learn.h5\n",
      "98/98 [==============================] - 46s 473ms/step - loss: 3.7574 - categorical_accuracy: 0.1356 - val_loss: 3.6774 - val_categorical_accuracy: 0.1536\n",
      "Epoch 4/30\n",
      "97/98 [============================>.] - ETA: 0s - loss: 3.7204 - categorical_accuracy: 0.1397\n",
      "Epoch 00004: val_categorical_accuracy improved from 0.15360 to 0.17070, saving model to /content/drive/My Drive/models/resnet18_cifar100_transfer_learn.h5\n",
      "98/98 [==============================] - 47s 475ms/step - loss: 3.7210 - categorical_accuracy: 0.1399 - val_loss: 3.5471 - val_categorical_accuracy: 0.1707\n",
      "Epoch 5/30\n",
      "97/98 [============================>.] - ETA: 0s - loss: 3.6451 - categorical_accuracy: 0.1543\n",
      "Epoch 00005: val_categorical_accuracy did not improve from 0.17070\n",
      "98/98 [==============================] - 45s 464ms/step - loss: 3.6461 - categorical_accuracy: 0.1541 - val_loss: 3.5851 - val_categorical_accuracy: 0.1651\n",
      "Epoch 6/30\n",
      "97/98 [============================>.] - ETA: 0s - loss: 3.6195 - categorical_accuracy: 0.1590\n",
      "Epoch 00006: val_categorical_accuracy improved from 0.17070 to 0.19090, saving model to /content/drive/My Drive/models/resnet18_cifar100_transfer_learn.h5\n",
      "98/98 [==============================] - 47s 475ms/step - loss: 3.6176 - categorical_accuracy: 0.1595 - val_loss: 3.4509 - val_categorical_accuracy: 0.1909\n",
      "Epoch 7/30\n",
      "97/98 [============================>.] - ETA: 0s - loss: 3.5861 - categorical_accuracy: 0.1627\n",
      "Epoch 00007: val_categorical_accuracy did not improve from 0.19090\n",
      "98/98 [==============================] - 46s 466ms/step - loss: 3.5869 - categorical_accuracy: 0.1627 - val_loss: 3.5834 - val_categorical_accuracy: 0.1680\n",
      "Epoch 8/30\n",
      "97/98 [============================>.] - ETA: 0s - loss: 3.5513 - categorical_accuracy: 0.1707\n",
      "Epoch 00008: val_categorical_accuracy improved from 0.19090 to 0.19330, saving model to /content/drive/My Drive/models/resnet18_cifar100_transfer_learn.h5\n",
      "98/98 [==============================] - 46s 472ms/step - loss: 3.5503 - categorical_accuracy: 0.1710 - val_loss: 3.4294 - val_categorical_accuracy: 0.1933\n",
      "Epoch 9/30\n",
      "97/98 [============================>.] - ETA: 0s - loss: 3.5510 - categorical_accuracy: 0.1682\n",
      "Epoch 00009: val_categorical_accuracy improved from 0.19330 to 0.19690, saving model to /content/drive/My Drive/models/resnet18_cifar100_transfer_learn.h5\n",
      "98/98 [==============================] - 46s 471ms/step - loss: 3.5504 - categorical_accuracy: 0.1681 - val_loss: 3.4065 - val_categorical_accuracy: 0.1969\n",
      "Epoch 10/30\n",
      "97/98 [============================>.] - ETA: 0s - loss: 3.5060 - categorical_accuracy: 0.1775\n",
      "Epoch 00010: val_categorical_accuracy did not improve from 0.19690\n",
      "98/98 [==============================] - 45s 461ms/step - loss: 3.5063 - categorical_accuracy: 0.1775 - val_loss: 3.4075 - val_categorical_accuracy: 0.1965\n",
      "Epoch 11/30\n",
      "97/98 [============================>.] - ETA: 0s - loss: 3.5248 - categorical_accuracy: 0.1750\n",
      "Epoch 00011: val_categorical_accuracy did not improve from 0.19690\n",
      "98/98 [==============================] - 45s 464ms/step - loss: 3.5259 - categorical_accuracy: 0.1747 - val_loss: 3.4207 - val_categorical_accuracy: 0.1942\n",
      "Epoch 12/30\n",
      "97/98 [============================>.] - ETA: 0s - loss: 3.4870 - categorical_accuracy: 0.1804\n",
      "Epoch 00012: val_categorical_accuracy improved from 0.19690 to 0.20170, saving model to /content/drive/My Drive/models/resnet18_cifar100_transfer_learn.h5\n",
      "98/98 [==============================] - 46s 471ms/step - loss: 3.4880 - categorical_accuracy: 0.1805 - val_loss: 3.3778 - val_categorical_accuracy: 0.2017\n",
      "Epoch 13/30\n",
      "97/98 [============================>.] - ETA: 0s - loss: 3.4813 - categorical_accuracy: 0.1829\n",
      "Epoch 00013: val_categorical_accuracy improved from 0.20170 to 0.20520, saving model to /content/drive/My Drive/models/resnet18_cifar100_transfer_learn.h5\n",
      "98/98 [==============================] - 46s 468ms/step - loss: 3.4810 - categorical_accuracy: 0.1831 - val_loss: 3.3515 - val_categorical_accuracy: 0.2052\n",
      "Epoch 14/30\n",
      "97/98 [============================>.] - ETA: 0s - loss: 3.4710 - categorical_accuracy: 0.1823\n",
      "Epoch 00014: val_categorical_accuracy did not improve from 0.20520\n",
      "98/98 [==============================] - 45s 461ms/step - loss: 3.4706 - categorical_accuracy: 0.1825 - val_loss: 3.3676 - val_categorical_accuracy: 0.2012\n",
      "Epoch 15/30\n",
      "97/98 [============================>.] - ETA: 0s - loss: 3.4295 - categorical_accuracy: 0.1903\n",
      "Epoch 00015: val_categorical_accuracy did not improve from 0.20520\n",
      "98/98 [==============================] - 45s 463ms/step - loss: 3.4302 - categorical_accuracy: 0.1906 - val_loss: 3.4739 - val_categorical_accuracy: 0.1973\n",
      "Epoch 16/30\n",
      "97/98 [============================>.] - ETA: 0s - loss: 3.4523 - categorical_accuracy: 0.1879\n",
      "Epoch 00016: val_categorical_accuracy improved from 0.20520 to 0.20650, saving model to /content/drive/My Drive/models/resnet18_cifar100_transfer_learn.h5\n",
      "98/98 [==============================] - 46s 469ms/step - loss: 3.4531 - categorical_accuracy: 0.1877 - val_loss: 3.3494 - val_categorical_accuracy: 0.2065\n",
      "Epoch 17/30\n",
      "97/98 [============================>.] - ETA: 0s - loss: 3.4499 - categorical_accuracy: 0.1861\n",
      "Epoch 00017: val_categorical_accuracy improved from 0.20650 to 0.21480, saving model to /content/drive/My Drive/models/resnet18_cifar100_transfer_learn.h5\n",
      "98/98 [==============================] - 46s 468ms/step - loss: 3.4493 - categorical_accuracy: 0.1862 - val_loss: 3.3263 - val_categorical_accuracy: 0.2148\n",
      "Epoch 18/30\n",
      "97/98 [============================>.] - ETA: 0s - loss: 3.4289 - categorical_accuracy: 0.1913\n",
      "Epoch 00018: val_categorical_accuracy did not improve from 0.21480\n",
      "98/98 [==============================] - 45s 457ms/step - loss: 3.4284 - categorical_accuracy: 0.1914 - val_loss: 3.3114 - val_categorical_accuracy: 0.2112\n",
      "Epoch 19/30\n",
      "97/98 [============================>.] - ETA: 0s - loss: 3.4229 - categorical_accuracy: 0.1926\n",
      "Epoch 00019: val_categorical_accuracy did not improve from 0.21480\n",
      "98/98 [==============================] - 45s 459ms/step - loss: 3.4224 - categorical_accuracy: 0.1925 - val_loss: 3.3335 - val_categorical_accuracy: 0.2117\n",
      "Epoch 20/30\n",
      "97/98 [============================>.] - ETA: 0s - loss: 3.4048 - categorical_accuracy: 0.1936\n",
      "Epoch 00020: val_categorical_accuracy did not improve from 0.21480\n",
      "98/98 [==============================] - 45s 459ms/step - loss: 3.4046 - categorical_accuracy: 0.1937 - val_loss: 3.3238 - val_categorical_accuracy: 0.2143\n",
      "Epoch 21/30\n",
      "97/98 [============================>.] - ETA: 0s - loss: 3.4076 - categorical_accuracy: 0.1945\n",
      "Epoch 00021: val_categorical_accuracy improved from 0.21480 to 0.21780, saving model to /content/drive/My Drive/models/resnet18_cifar100_transfer_learn.h5\n",
      "98/98 [==============================] - 46s 467ms/step - loss: 3.4078 - categorical_accuracy: 0.1944 - val_loss: 3.2942 - val_categorical_accuracy: 0.2178\n",
      "Epoch 22/30\n",
      "97/98 [============================>.] - ETA: 0s - loss: 3.3966 - categorical_accuracy: 0.1972\n",
      "Epoch 00022: val_categorical_accuracy improved from 0.21780 to 0.22550, saving model to /content/drive/My Drive/models/resnet18_cifar100_transfer_learn.h5\n",
      "98/98 [==============================] - 46s 469ms/step - loss: 3.3956 - categorical_accuracy: 0.1974 - val_loss: 3.2394 - val_categorical_accuracy: 0.2255\n",
      "Epoch 23/30\n",
      "97/98 [============================>.] - ETA: 0s - loss: 3.3945 - categorical_accuracy: 0.1961\n",
      "Epoch 00023: val_categorical_accuracy improved from 0.22550 to 0.22690, saving model to /content/drive/My Drive/models/resnet18_cifar100_transfer_learn.h5\n",
      "98/98 [==============================] - 46s 468ms/step - loss: 3.3946 - categorical_accuracy: 0.1961 - val_loss: 3.2786 - val_categorical_accuracy: 0.2269\n",
      "Epoch 24/30\n",
      "97/98 [============================>.] - ETA: 0s - loss: 3.3839 - categorical_accuracy: 0.1993\n",
      "Epoch 00024: val_categorical_accuracy did not improve from 0.22690\n",
      "98/98 [==============================] - 45s 458ms/step - loss: 3.3831 - categorical_accuracy: 0.1996 - val_loss: 3.3453 - val_categorical_accuracy: 0.2064\n",
      "Epoch 25/30\n",
      "97/98 [============================>.] - ETA: 0s - loss: 3.3815 - categorical_accuracy: 0.1993\n",
      "Epoch 00025: val_categorical_accuracy improved from 0.22690 to 0.22910, saving model to /content/drive/My Drive/models/resnet18_cifar100_transfer_learn.h5\n",
      "98/98 [==============================] - 46s 466ms/step - loss: 3.3820 - categorical_accuracy: 0.1989 - val_loss: 3.2465 - val_categorical_accuracy: 0.2291\n",
      "Epoch 26/30\n",
      "97/98 [============================>.] - ETA: 0s - loss: 3.3673 - categorical_accuracy: 0.1993\n",
      "Epoch 00026: val_categorical_accuracy did not improve from 0.22910\n",
      "98/98 [==============================] - 45s 459ms/step - loss: 3.3688 - categorical_accuracy: 0.1991 - val_loss: 3.3261 - val_categorical_accuracy: 0.2134\n",
      "Epoch 27/30\n",
      "97/98 [============================>.] - ETA: 0s - loss: 3.3598 - categorical_accuracy: 0.2034\n",
      "Epoch 00027: val_categorical_accuracy did not improve from 0.22910\n",
      "98/98 [==============================] - 45s 457ms/step - loss: 3.3622 - categorical_accuracy: 0.2030 - val_loss: 3.2674 - val_categorical_accuracy: 0.2254\n",
      "Epoch 28/30\n",
      "97/98 [============================>.] - ETA: 0s - loss: 3.3676 - categorical_accuracy: 0.2022\n",
      "Epoch 00028: val_categorical_accuracy did not improve from 0.22910\n",
      "98/98 [==============================] - 45s 458ms/step - loss: 3.3668 - categorical_accuracy: 0.2024 - val_loss: 3.2995 - val_categorical_accuracy: 0.2244\n",
      "Epoch 29/30\n",
      "97/98 [============================>.] - ETA: 0s - loss: 3.3498 - categorical_accuracy: 0.2033\n",
      "Epoch 00029: val_categorical_accuracy did not improve from 0.22910\n",
      "98/98 [==============================] - 45s 461ms/step - loss: 3.3500 - categorical_accuracy: 0.2034 - val_loss: 3.2534 - val_categorical_accuracy: 0.2227\n",
      "Epoch 30/30\n",
      "97/98 [============================>.] - ETA: 0s - loss: 3.3683 - categorical_accuracy: 0.2014\n",
      "Epoch 00030: val_categorical_accuracy did not improve from 0.22910\n",
      "98/98 [==============================] - 45s 461ms/step - loss: 3.3695 - categorical_accuracy: 0.2009 - val_loss: 3.2596 - val_categorical_accuracy: 0.2230\n"
     ]
    },
    {
     "data": {
      "text/plain": [
       "<tensorflow.python.keras.callbacks.History at 0x7f9ff6df21d0>"
      ]
     },
     "execution_count": 26,
     "metadata": {
      "tags": []
     },
     "output_type": "execute_result"
    }
   ],
   "source": [
    "# Define checkpoint and train the model. This is transfer learning.\n",
    "\n",
    "from math import ceil\n",
    "from tensorflow.keras.callbacks import ModelCheckpoint\n",
    "checkpointer = ModelCheckpoint(\"/content/drive/My Drive/models/resnet18_cifar100_transfer_learn.h5\", monitor='val_categorical_accuracy', verbose=1, save_best_only=True)\n",
    "\n",
    "batch_size = 512\n",
    "\n",
    "model.fit_generator(datagen.flow(x_train,y_train,batch_size=batch_size), steps_per_epoch=ceil(len(x_train)/batch_size), epochs = 30, validation_data = datagen_val.flow(x_test,y_test, batch_size=batch_size), validation_steps=ceil(len(x_test)/batch_size), callbacks=[checkpointer])\n"
   ]
  },
  {
   "cell_type": "code",
   "execution_count": 0,
   "metadata": {
    "colab": {},
    "colab_type": "code",
    "id": "Tl-GYPPyihCD"
   },
   "outputs": [],
   "source": []
  },
  {
   "cell_type": "code",
   "execution_count": 0,
   "metadata": {
    "colab": {},
    "colab_type": "code",
    "id": "VX5b_UsiihLS"
   },
   "outputs": [],
   "source": []
  },
  {
   "cell_type": "code",
   "execution_count": 0,
   "metadata": {
    "colab": {},
    "colab_type": "code",
    "id": "WAhM0SPPhXBu"
   },
   "outputs": [],
   "source": [
    "\n"
   ]
  },
  {
   "cell_type": "markdown",
   "metadata": {
    "colab_type": "text",
    "id": "gBTQV6JxuAjS"
   },
   "source": [
    "### Fine Tuning"
   ]
  },
  {
   "cell_type": "code",
   "execution_count": 0,
   "metadata": {
    "colab": {},
    "colab_type": "code",
    "id": "YIZUc-ZBsZ7X"
   },
   "outputs": [],
   "source": [
    "# Define learning rate scheduler. Step learning rate is being used.\n",
    "\n",
    "from tensorflow.keras.callbacks import LearningRateScheduler,ModelCheckpoint\n",
    "def scheduler(epoch):\n",
    "    if epoch < 30:\n",
    "        return 0.1\n",
    "    if 30 <= epoch < 60:\n",
    "        return 0.02\n",
    "    if 60 <= epoch < 80:\n",
    "        return 0.004\n",
    "    if epoch >= 80 :\n",
    "        return 0.0008"
   ]
  },
  {
   "cell_type": "code",
   "execution_count": 28,
   "metadata": {
    "colab": {
     "base_uri": "https://localhost:8080/",
     "height": 323
    },
    "colab_type": "code",
    "id": "OgkCKcCBdXs1",
    "outputId": "1d04371a-17a9-424e-dfeb-d152cebd1660"
   },
   "outputs": [
    {
     "name": "stdout",
     "output_type": "stream",
     "text": [
      "Model: \"sequential\"\n",
      "_________________________________________________________________\n",
      "Layer (type)                 Output Shape              Param #   \n",
      "=================================================================\n",
      "model (Model)                (None, 5, 5, 512)         11186889  \n",
      "_________________________________________________________________\n",
      "conv2d (Conv2D)              (None, 5, 5, 100)         51200     \n",
      "_________________________________________________________________\n",
      "global_average_pooling2d (Gl (None, 100)               0         \n",
      "_________________________________________________________________\n",
      "dense (Dense)                (None, 100)               10100     \n",
      "_________________________________________________________________\n",
      "softmax (Softmax)            (None, 100)               0         \n",
      "=================================================================\n",
      "Total params: 11,248,189\n",
      "Trainable params: 61,300\n",
      "Non-trainable params: 11,186,889\n",
      "_________________________________________________________________\n"
     ]
    }
   ],
   "source": [
    "# Display model summary\n",
    "\n",
    "model.summary()"
   ]
  },
  {
   "cell_type": "code",
   "execution_count": 0,
   "metadata": {
    "colab": {},
    "colab_type": "code",
    "id": "5yIrlCfpmWIq"
   },
   "outputs": [],
   "source": [
    "base_model_cifar.trainable = True"
   ]
  },
  {
   "cell_type": "code",
   "execution_count": 32,
   "metadata": {
    "colab": {
     "base_uri": "https://localhost:8080/",
     "height": 34
    },
    "colab_type": "code",
    "id": "8dtfvNfjmZ8D",
    "outputId": "ac8a0036-5f3c-46c4-cd34-e95cbea84dec"
   },
   "outputs": [
    {
     "data": {
      "text/plain": [
       "85"
      ]
     },
     "execution_count": 32,
     "metadata": {
      "tags": []
     },
     "output_type": "execute_result"
    }
   ],
   "source": [
    "len(base_model_cifar.layers)"
   ]
  },
  {
   "cell_type": "code",
   "execution_count": 33,
   "metadata": {
    "colab": {
     "base_uri": "https://localhost:8080/",
     "height": 34
    },
    "colab_type": "code",
    "id": "Q4K67ZfzmaD2",
    "outputId": "d85d4df4-b6b2-44d4-9514-c362a13067fb"
   },
   "outputs": [
    {
     "name": "stdout",
     "output_type": "stream",
     "text": [
      "68\n"
     ]
    }
   ],
   "source": [
    "fine_tune_at = len(base_model_cifar.layers) - 17\n",
    "print(fine_tune_at)"
   ]
  },
  {
   "cell_type": "code",
   "execution_count": 0,
   "metadata": {
    "colab": {},
    "colab_type": "code",
    "id": "t5mCPFvumaAC"
   },
   "outputs": [],
   "source": [
    "# Set last few convolution layers are trainable and remaining layers frozen\n",
    "\n",
    "for layer in base_model_cifar.layers[:fine_tune_at]:\n",
    "  layer.trainable = False"
   ]
  },
  {
   "cell_type": "code",
   "execution_count": 0,
   "metadata": {
    "colab": {},
    "colab_type": "code",
    "id": "Xj7n2vVVVbk-"
   },
   "outputs": [],
   "source": [
    "# Ensure all BN layers are trainable. Reference https://twitter.com/jeremyphoward/status/1182062808206213120?s=12\n",
    "\n",
    "for layer in base_model_cifar.layers:\n",
    "  if \"BatchNormalization\" in str(layer):\n",
    "    layer.trainable = True"
   ]
  },
  {
   "cell_type": "code",
   "execution_count": 46,
   "metadata": {
    "colab": {
     "base_uri": "https://localhost:8080/",
     "height": 1000
    },
    "colab_type": "code",
    "id": "mclBYtvNm946",
    "outputId": "d4c3b0d1-c765-4e26-ef9d-e217da7b7b7d"
   },
   "outputs": [
    {
     "name": "stdout",
     "output_type": "stream",
     "text": [
      "<tensorflow.python.keras.engine.input_layer.InputLayer object at 0x7fa061d0d780> False\n",
      "<tensorflow.python.keras.layers.normalization_v2.BatchNormalization object at 0x7fa061cafbe0> True\n",
      "<tensorflow.python.keras.layers.convolutional.ZeroPadding2D object at 0x7fa050513f60> False\n",
      "<tensorflow.python.keras.layers.convolutional.Conv2D object at 0x7fa0798ecf28> False\n",
      "<tensorflow.python.keras.layers.normalization_v2.BatchNormalization object at 0x7fa0504cde10> True\n",
      "<tensorflow.python.keras.layers.core.Activation object at 0x7fa050466940> False\n",
      "<tensorflow.python.keras.layers.convolutional.ZeroPadding2D object at 0x7fa0504666d8> False\n",
      "<tensorflow.python.keras.layers.normalization_v2.BatchNormalization object at 0x7fa0503dbda0> True\n",
      "<tensorflow.python.keras.layers.core.Activation object at 0x7fa0503ec5c0> False\n",
      "<tensorflow.python.keras.layers.convolutional.ZeroPadding2D object at 0x7fa050366ac8> False\n",
      "<tensorflow.python.keras.layers.convolutional.Conv2D object at 0x7fa0503669e8> False\n",
      "<tensorflow.python.keras.layers.normalization_v2.BatchNormalization object at 0x7fa050374dd8> True\n",
      "<tensorflow.python.keras.layers.core.Activation object at 0x7fa050341da0> False\n",
      "<tensorflow.python.keras.layers.convolutional.ZeroPadding2D object at 0x7fa0503816a0> False\n",
      "<tensorflow.python.keras.layers.convolutional.Conv2D object at 0x7fa0503817b8> False\n",
      "<tensorflow.python.keras.layers.convolutional.Conv2D object at 0x7fa0503b0eb8> False\n",
      "<tensorflow.python.keras.layers.merge.Add object at 0x7fa050309518> False\n",
      "<tensorflow.python.keras.layers.normalization_v2.BatchNormalization object at 0x7fa050309eb8> True\n",
      "<tensorflow.python.keras.layers.core.Activation object at 0x7fa05030e630> False\n",
      "<tensorflow.python.keras.layers.convolutional.ZeroPadding2D object at 0x7fa0502d8f28> False\n",
      "<tensorflow.python.keras.layers.convolutional.Conv2D object at 0x7fa05030e5f8> False\n",
      "<tensorflow.python.keras.layers.normalization_v2.BatchNormalization object at 0x7fa05028df98> True\n",
      "<tensorflow.python.keras.layers.core.Activation object at 0x7fa0501fa978> False\n",
      "<tensorflow.python.keras.layers.convolutional.ZeroPadding2D object at 0x7fa05021f9b0> False\n",
      "<tensorflow.python.keras.layers.convolutional.Conv2D object at 0x7fa05021fac8> False\n",
      "<tensorflow.python.keras.layers.merge.Add object at 0x7fa0501a87f0> False\n",
      "<tensorflow.python.keras.layers.normalization_v2.BatchNormalization object at 0x7fa0501a8da0> True\n",
      "<tensorflow.python.keras.layers.core.Activation object at 0x7fa0501b1898> False\n",
      "<tensorflow.python.keras.layers.convolutional.ZeroPadding2D object at 0x7fa05012ddd8> False\n",
      "<tensorflow.python.keras.layers.convolutional.Conv2D object at 0x7fa05012dcf8> False\n",
      "<tensorflow.python.keras.layers.normalization_v2.BatchNormalization object at 0x7fa050139f98> True\n",
      "<tensorflow.python.keras.layers.core.Activation object at 0x7fa05013c9e8> False\n",
      "<tensorflow.python.keras.layers.convolutional.ZeroPadding2D object at 0x7fa0500a7978> False\n",
      "<tensorflow.python.keras.layers.convolutional.Conv2D object at 0x7fa05013cac8> False\n",
      "<tensorflow.python.keras.layers.convolutional.Conv2D object at 0x7fa0501b1828> False\n",
      "<tensorflow.python.keras.layers.merge.Add object at 0x7fa0500d37f0> False\n",
      "<tensorflow.python.keras.layers.normalization_v2.BatchNormalization object at 0x7fa0500d3da0> True\n",
      "<tensorflow.python.keras.layers.core.Activation object at 0x7fa05005b898> False\n",
      "<tensorflow.python.keras.layers.convolutional.ZeroPadding2D object at 0x7fa05005b828> False\n",
      "<tensorflow.python.keras.layers.convolutional.Conv2D object at 0x7fa05003cef0> False\n",
      "<tensorflow.python.keras.layers.normalization_v2.BatchNormalization object at 0x7fa00e5783c8> True\n",
      "<tensorflow.python.keras.layers.core.Activation object at 0x7fa00e5820b8> False\n",
      "<tensorflow.python.keras.layers.convolutional.ZeroPadding2D object at 0x7fa00e54fc18> False\n",
      "<tensorflow.python.keras.layers.convolutional.Conv2D object at 0x7fa00e578d68> False\n",
      "<tensorflow.python.keras.layers.merge.Add object at 0x7fa00e4fbac8> False\n",
      "<tensorflow.python.keras.layers.normalization_v2.BatchNormalization object at 0x7fa00e4fba58> True\n",
      "<tensorflow.python.keras.layers.core.Activation object at 0x7fa00e567c88> False\n",
      "<tensorflow.python.keras.layers.convolutional.ZeroPadding2D object at 0x7fa00e47df28> False\n",
      "<tensorflow.python.keras.layers.convolutional.Conv2D object at 0x7fa00e47ddd8> False\n",
      "<tensorflow.python.keras.layers.normalization_v2.BatchNormalization object at 0x7fa00e4a43c8> True\n",
      "<tensorflow.python.keras.layers.core.Activation object at 0x7fa00e42e0b8> False\n",
      "<tensorflow.python.keras.layers.convolutional.ZeroPadding2D object at 0x7fa00e3f7c18> False\n",
      "<tensorflow.python.keras.layers.convolutional.Conv2D object at 0x7fa00e4a4d68> False\n",
      "<tensorflow.python.keras.layers.convolutional.Conv2D object at 0x7fa00e508b00> False\n",
      "<tensorflow.python.keras.layers.merge.Add object at 0x7fa00e3a8ac8> False\n",
      "<tensorflow.python.keras.layers.normalization_v2.BatchNormalization object at 0x7fa00e3a8a58> True\n",
      "<tensorflow.python.keras.layers.core.Activation object at 0x7fa00e412c88> False\n",
      "<tensorflow.python.keras.layers.convolutional.ZeroPadding2D object at 0x7fa00e3b7b00> False\n",
      "<tensorflow.python.keras.layers.convolutional.Conv2D object at 0x7fa00e3b7b38> False\n",
      "<tensorflow.python.keras.layers.normalization_v2.BatchNormalization object at 0x7fa00e33d668> True\n",
      "<tensorflow.python.keras.layers.core.Activation object at 0x7fa00e33def0> False\n",
      "<tensorflow.python.keras.layers.convolutional.ZeroPadding2D object at 0x7fa00e33deb8> False\n",
      "<tensorflow.python.keras.layers.convolutional.Conv2D object at 0x7fa00e346048> False\n",
      "<tensorflow.python.keras.layers.merge.Add object at 0x7fa00e2c2d68> False\n",
      "<tensorflow.python.keras.layers.normalization_v2.BatchNormalization object at 0x7fa00e2c2cf8> True\n",
      "<tensorflow.python.keras.layers.core.Activation object at 0x7fa00e2d0e10> False\n",
      "<tensorflow.python.keras.layers.convolutional.ZeroPadding2D object at 0x7fa00e25c358> False\n",
      "<tensorflow.python.keras.layers.convolutional.Conv2D object at 0x7fa00e25cdd8> False\n",
      "<tensorflow.python.keras.layers.normalization_v2.BatchNormalization object at 0x7fa00e1eb668> True\n",
      "<tensorflow.python.keras.layers.core.Activation object at 0x7fa00e1ebef0> True\n",
      "<tensorflow.python.keras.layers.convolutional.ZeroPadding2D object at 0x7fa00e1ebeb8> True\n",
      "<tensorflow.python.keras.layers.convolutional.Conv2D object at 0x7fa00e1f0048> True\n",
      "<tensorflow.python.keras.layers.convolutional.Conv2D object at 0x7fa00e2d0da0> True\n",
      "<tensorflow.python.keras.layers.merge.Add object at 0x7fa00e170d68> True\n",
      "<tensorflow.python.keras.layers.normalization_v2.BatchNormalization object at 0x7fa00e170cf8> True\n",
      "<tensorflow.python.keras.layers.core.Activation object at 0x7fa00e17fe10> True\n",
      "<tensorflow.python.keras.layers.convolutional.ZeroPadding2D object at 0x7fa00e15da58> True\n",
      "<tensorflow.python.keras.layers.convolutional.Conv2D object at 0x7fa00e17fdd8> True\n",
      "<tensorflow.python.keras.layers.normalization_v2.BatchNormalization object at 0x7fa00e109908> True\n",
      "<tensorflow.python.keras.layers.core.Activation object at 0x7fa00e114208> True\n",
      "<tensorflow.python.keras.layers.convolutional.ZeroPadding2D object at 0x7fa00e0d5e48> True\n",
      "<tensorflow.python.keras.layers.convolutional.Conv2D object at 0x7fa00e1142e8> True\n",
      "<tensorflow.python.keras.layers.merge.Add object at 0x7fa00e08dd68> True\n",
      "<tensorflow.python.keras.layers.normalization_v2.BatchNormalization object at 0x7fa05043e0b8> True\n",
      "<tensorflow.python.keras.layers.core.Activation object at 0x7fa00e09df28> True\n"
     ]
    }
   ],
   "source": [
    "# Check trainable status for all layers\n",
    "\n",
    "for i in base_model_cifar.layers:\n",
    "  print(i, i.trainable)"
   ]
  },
  {
   "cell_type": "code",
   "execution_count": 47,
   "metadata": {
    "colab": {
     "base_uri": "https://localhost:8080/",
     "height": 102
    },
    "colab_type": "code",
    "id": "OnS_0NgPnON0",
    "outputId": "eb8f9e30-399b-4dae-bd02-6fff492cce85"
   },
   "outputs": [
    {
     "name": "stdout",
     "output_type": "stream",
     "text": [
      "<tensorflow.python.keras.engine.training.Model object at 0x7fa00e09dfd0> True\n",
      "<tensorflow.python.keras.layers.convolutional.Conv2D object at 0x7f9ff77a27f0> True\n",
      "<tensorflow.python.keras.layers.pooling.GlobalAveragePooling2D object at 0x7f9ff77a2a20> True\n",
      "<tensorflow.python.keras.layers.core.Dense object at 0x7fa061d0dfd0> True\n",
      "<tensorflow.python.keras.layers.advanced_activations.Softmax object at 0x7fa061d0da20> True\n"
     ]
    }
   ],
   "source": [
    "for i in model.layers:\n",
    "  print(i, i.trainable)"
   ]
  },
  {
   "cell_type": "code",
   "execution_count": 0,
   "metadata": {
    "colab": {},
    "colab_type": "code",
    "id": "uhL4hLASpEDK"
   },
   "outputs": [],
   "source": [
    "# Compile the model\n",
    "\n",
    "model.compile(optimizer=tf.keras.optimizers.SGD(learning_rate=0.01, momentum=0.9, nesterov=True), loss = 'categorical_crossentropy', metrics = [tf.keras.metrics.CategoricalAccuracy()])"
   ]
  },
  {
   "cell_type": "code",
   "execution_count": 38,
   "metadata": {
    "colab": {
     "base_uri": "https://localhost:8080/",
     "height": 323
    },
    "colab_type": "code",
    "id": "jvzIkZj6pEAs",
    "outputId": "4273bedd-60c8-4d83-c9de-f6fcb710d93b"
   },
   "outputs": [
    {
     "name": "stdout",
     "output_type": "stream",
     "text": [
      "Model: \"sequential\"\n",
      "_________________________________________________________________\n",
      "Layer (type)                 Output Shape              Param #   \n",
      "=================================================================\n",
      "model (Model)                (None, 5, 5, 512)         11186889  \n",
      "_________________________________________________________________\n",
      "conv2d (Conv2D)              (None, 5, 5, 100)         51200     \n",
      "_________________________________________________________________\n",
      "global_average_pooling2d (Gl (None, 100)               0         \n",
      "_________________________________________________________________\n",
      "dense (Dense)                (None, 100)               10100     \n",
      "_________________________________________________________________\n",
      "softmax (Softmax)            (None, 100)               0         \n",
      "=================================================================\n",
      "Total params: 11,248,189\n",
      "Trainable params: 7,274,356\n",
      "Non-trainable params: 3,973,833\n",
      "_________________________________________________________________\n"
     ]
    }
   ],
   "source": [
    "# Display model summary\n",
    "model.summary()"
   ]
  },
  {
   "cell_type": "code",
   "execution_count": 48,
   "metadata": {
    "colab": {
     "base_uri": "https://localhost:8080/",
     "height": 34
    },
    "colab_type": "code",
    "id": "ijnzcrTnpD-C",
    "outputId": "2147872c-7fe4-4fd7-ba6d-0f50535c1fb5"
   },
   "outputs": [
    {
     "data": {
      "text/plain": [
       "44"
      ]
     },
     "execution_count": 48,
     "metadata": {
      "tags": []
     },
     "output_type": "execute_result"
    }
   ],
   "source": [
    "len(model.trainable_variables)"
   ]
  },
  {
   "cell_type": "code",
   "execution_count": 49,
   "metadata": {
    "colab": {
     "base_uri": "https://localhost:8080/",
     "height": 1000
    },
    "colab_type": "code",
    "id": "RFF1D0bn4Bfz",
    "outputId": "cca37b25-7c7c-477e-9eb9-47288efd7f6d"
   },
   "outputs": [
    {
     "name": "stdout",
     "output_type": "stream",
     "text": [
      "\n",
      "Epoch 00001: LearningRateScheduler reducing learning rate to 0.1.\n",
      "Epoch 1/60\n",
      "97/98 [============================>.] - ETA: 0s - loss: 10.2637 - categorical_accuracy: 0.0263\n",
      "Epoch 00001: val_categorical_accuracy improved from -inf to 0.01150, saving model to /content/drive/My Drive/models/resnet18_cifar100_fine_tuned.h5\n",
      "98/98 [==============================] - 49s 503ms/step - loss: 10.2129 - categorical_accuracy: 0.0263 - val_loss: 14.1322 - val_categorical_accuracy: 0.0115\n",
      "\n",
      "Epoch 00002: LearningRateScheduler reducing learning rate to 0.1.\n",
      "Epoch 2/60\n",
      "97/98 [============================>.] - ETA: 0s - loss: 4.8279 - categorical_accuracy: 0.0359\n",
      "Epoch 00002: val_categorical_accuracy improved from 0.01150 to 0.03200, saving model to /content/drive/My Drive/models/resnet18_cifar100_fine_tuned.h5\n",
      "98/98 [==============================] - 47s 482ms/step - loss: 4.8302 - categorical_accuracy: 0.0360 - val_loss: 9.7318 - val_categorical_accuracy: 0.0320\n",
      "\n",
      "Epoch 00003: LearningRateScheduler reducing learning rate to 0.1.\n",
      "Epoch 3/60\n",
      "97/98 [============================>.] - ETA: 0s - loss: 4.3599 - categorical_accuracy: 0.0838\n",
      "Epoch 00003: val_categorical_accuracy improved from 0.03200 to 0.09160, saving model to /content/drive/My Drive/models/resnet18_cifar100_fine_tuned.h5\n",
      "98/98 [==============================] - 47s 484ms/step - loss: 4.3554 - categorical_accuracy: 0.0841 - val_loss: 4.1095 - val_categorical_accuracy: 0.0916\n",
      "\n",
      "Epoch 00004: LearningRateScheduler reducing learning rate to 0.1.\n",
      "Epoch 4/60\n",
      "97/98 [============================>.] - ETA: 0s - loss: 3.8420 - categorical_accuracy: 0.1379\n",
      "Epoch 00004: val_categorical_accuracy did not improve from 0.09160\n",
      "98/98 [==============================] - 46s 470ms/step - loss: 3.8535 - categorical_accuracy: 0.1373 - val_loss: 11.7177 - val_categorical_accuracy: 0.0232\n",
      "\n",
      "Epoch 00005: LearningRateScheduler reducing learning rate to 0.1.\n",
      "Epoch 5/60\n",
      "97/98 [============================>.] - ETA: 0s - loss: 4.4047 - categorical_accuracy: 0.1026\n",
      "Epoch 00005: val_categorical_accuracy did not improve from 0.09160\n",
      "98/98 [==============================] - 46s 474ms/step - loss: 4.4025 - categorical_accuracy: 0.1029 - val_loss: 4.2736 - val_categorical_accuracy: 0.0908\n",
      "\n",
      "Epoch 00006: LearningRateScheduler reducing learning rate to 0.1.\n",
      "Epoch 6/60\n",
      "97/98 [============================>.] - ETA: 0s - loss: 3.9229 - categorical_accuracy: 0.1405\n",
      "Epoch 00006: val_categorical_accuracy improved from 0.09160 to 0.12730, saving model to /content/drive/My Drive/models/resnet18_cifar100_fine_tuned.h5\n",
      "98/98 [==============================] - 47s 478ms/step - loss: 3.9224 - categorical_accuracy: 0.1405 - val_loss: 3.8078 - val_categorical_accuracy: 0.1273\n",
      "\n",
      "Epoch 00007: LearningRateScheduler reducing learning rate to 0.1.\n",
      "Epoch 7/60\n",
      "97/98 [============================>.] - ETA: 0s - loss: 3.5219 - categorical_accuracy: 0.1830\n",
      "Epoch 00007: val_categorical_accuracy improved from 0.12730 to 0.18250, saving model to /content/drive/My Drive/models/resnet18_cifar100_fine_tuned.h5\n",
      "98/98 [==============================] - 47s 482ms/step - loss: 3.5202 - categorical_accuracy: 0.1831 - val_loss: 3.4591 - val_categorical_accuracy: 0.1825\n",
      "\n",
      "Epoch 00008: LearningRateScheduler reducing learning rate to 0.1.\n",
      "Epoch 8/60\n",
      "97/98 [============================>.] - ETA: 0s - loss: 3.5129 - categorical_accuracy: 0.1871\n",
      "Epoch 00008: val_categorical_accuracy did not improve from 0.18250\n",
      "98/98 [==============================] - 46s 469ms/step - loss: 3.5130 - categorical_accuracy: 0.1872 - val_loss: 3.6744 - val_categorical_accuracy: 0.1627\n",
      "\n",
      "Epoch 00009: LearningRateScheduler reducing learning rate to 0.1.\n",
      "Epoch 9/60\n",
      "97/98 [============================>.] - ETA: 0s - loss: 3.2965 - categorical_accuracy: 0.2201\n",
      "Epoch 00009: val_categorical_accuracy improved from 0.18250 to 0.23950, saving model to /content/drive/My Drive/models/resnet18_cifar100_fine_tuned.h5\n",
      "98/98 [==============================] - 47s 481ms/step - loss: 3.2949 - categorical_accuracy: 0.2202 - val_loss: 3.1517 - val_categorical_accuracy: 0.2395\n",
      "\n",
      "Epoch 00010: LearningRateScheduler reducing learning rate to 0.1.\n",
      "Epoch 10/60\n",
      "97/98 [============================>.] - ETA: 0s - loss: 3.3805 - categorical_accuracy: 0.2225\n",
      "Epoch 00010: val_categorical_accuracy did not improve from 0.23950\n",
      "98/98 [==============================] - 46s 471ms/step - loss: 3.3800 - categorical_accuracy: 0.2223 - val_loss: 3.5593 - val_categorical_accuracy: 0.2124\n",
      "\n",
      "Epoch 00011: LearningRateScheduler reducing learning rate to 0.1.\n",
      "Epoch 11/60\n",
      "97/98 [============================>.] - ETA: 0s - loss: 3.1739 - categorical_accuracy: 0.2428\n",
      "Epoch 00011: val_categorical_accuracy improved from 0.23950 to 0.26660, saving model to /content/drive/My Drive/models/resnet18_cifar100_fine_tuned.h5\n",
      "98/98 [==============================] - 47s 481ms/step - loss: 3.1728 - categorical_accuracy: 0.2428 - val_loss: 2.9872 - val_categorical_accuracy: 0.2666\n",
      "\n",
      "Epoch 00012: LearningRateScheduler reducing learning rate to 0.1.\n",
      "Epoch 12/60\n",
      "97/98 [============================>.] - ETA: 0s - loss: 3.0614 - categorical_accuracy: 0.2593\n",
      "Epoch 00012: val_categorical_accuracy improved from 0.26660 to 0.28670, saving model to /content/drive/My Drive/models/resnet18_cifar100_fine_tuned.h5\n",
      "98/98 [==============================] - 47s 481ms/step - loss: 3.0627 - categorical_accuracy: 0.2593 - val_loss: 2.9133 - val_categorical_accuracy: 0.2867\n",
      "\n",
      "Epoch 00013: LearningRateScheduler reducing learning rate to 0.1.\n",
      "Epoch 13/60\n",
      "97/98 [============================>.] - ETA: 0s - loss: 2.9542 - categorical_accuracy: 0.2749\n",
      "Epoch 00013: val_categorical_accuracy did not improve from 0.28670\n",
      "98/98 [==============================] - 46s 467ms/step - loss: 2.9557 - categorical_accuracy: 0.2747 - val_loss: 3.1187 - val_categorical_accuracy: 0.2441\n",
      "\n",
      "Epoch 00014: LearningRateScheduler reducing learning rate to 0.1.\n",
      "Epoch 14/60\n",
      "97/98 [============================>.] - ETA: 0s - loss: 2.9104 - categorical_accuracy: 0.2798\n",
      "Epoch 00014: val_categorical_accuracy improved from 0.28670 to 0.30070, saving model to /content/drive/My Drive/models/resnet18_cifar100_fine_tuned.h5\n",
      "98/98 [==============================] - 47s 477ms/step - loss: 2.9086 - categorical_accuracy: 0.2800 - val_loss: 2.7638 - val_categorical_accuracy: 0.3007\n",
      "\n",
      "Epoch 00015: LearningRateScheduler reducing learning rate to 0.1.\n",
      "Epoch 15/60\n",
      "97/98 [============================>.] - ETA: 0s - loss: 2.7683 - categorical_accuracy: 0.3047\n",
      "Epoch 00015: val_categorical_accuracy improved from 0.30070 to 0.31290, saving model to /content/drive/My Drive/models/resnet18_cifar100_fine_tuned.h5\n",
      "98/98 [==============================] - 47s 478ms/step - loss: 2.7681 - categorical_accuracy: 0.3046 - val_loss: 2.6859 - val_categorical_accuracy: 0.3129\n",
      "\n",
      "Epoch 00016: LearningRateScheduler reducing learning rate to 0.1.\n",
      "Epoch 16/60\n",
      "97/98 [============================>.] - ETA: 0s - loss: 2.7006 - categorical_accuracy: 0.3143\n",
      "Epoch 00016: val_categorical_accuracy improved from 0.31290 to 0.33280, saving model to /content/drive/My Drive/models/resnet18_cifar100_fine_tuned.h5\n",
      "98/98 [==============================] - 47s 478ms/step - loss: 2.7004 - categorical_accuracy: 0.3145 - val_loss: 2.6385 - val_categorical_accuracy: 0.3328\n",
      "\n",
      "Epoch 00017: LearningRateScheduler reducing learning rate to 0.1.\n",
      "Epoch 17/60\n",
      "97/98 [============================>.] - ETA: 0s - loss: 2.6524 - categorical_accuracy: 0.3250\n",
      "Epoch 00017: val_categorical_accuracy did not improve from 0.33280\n",
      "98/98 [==============================] - 46s 467ms/step - loss: 2.6505 - categorical_accuracy: 0.3252 - val_loss: 2.8988 - val_categorical_accuracy: 0.2915\n",
      "\n",
      "Epoch 00018: LearningRateScheduler reducing learning rate to 0.1.\n",
      "Epoch 18/60\n",
      "97/98 [============================>.] - ETA: 0s - loss: 2.6231 - categorical_accuracy: 0.3320\n",
      "Epoch 00018: val_categorical_accuracy did not improve from 0.33280\n",
      "98/98 [==============================] - 46s 471ms/step - loss: 2.6225 - categorical_accuracy: 0.3321 - val_loss: 2.6727 - val_categorical_accuracy: 0.3184\n",
      "\n",
      "Epoch 00019: LearningRateScheduler reducing learning rate to 0.1.\n",
      "Epoch 19/60\n",
      "97/98 [============================>.] - ETA: 0s - loss: 2.5852 - categorical_accuracy: 0.3390\n",
      "Epoch 00019: val_categorical_accuracy improved from 0.33280 to 0.33450, saving model to /content/drive/My Drive/models/resnet18_cifar100_fine_tuned.h5\n",
      "98/98 [==============================] - 47s 478ms/step - loss: 2.5832 - categorical_accuracy: 0.3397 - val_loss: 2.6289 - val_categorical_accuracy: 0.3345\n",
      "\n",
      "Epoch 00020: LearningRateScheduler reducing learning rate to 0.1.\n",
      "Epoch 20/60\n",
      "97/98 [============================>.] - ETA: 0s - loss: 2.5432 - categorical_accuracy: 0.3499\n",
      "Epoch 00020: val_categorical_accuracy improved from 0.33450 to 0.33660, saving model to /content/drive/My Drive/models/resnet18_cifar100_fine_tuned.h5\n",
      "98/98 [==============================] - 47s 476ms/step - loss: 2.5430 - categorical_accuracy: 0.3499 - val_loss: 2.6444 - val_categorical_accuracy: 0.3366\n",
      "\n",
      "Epoch 00021: LearningRateScheduler reducing learning rate to 0.1.\n",
      "Epoch 21/60\n",
      "97/98 [============================>.] - ETA: 0s - loss: 2.5035 - categorical_accuracy: 0.3578\n",
      "Epoch 00021: val_categorical_accuracy did not improve from 0.33660\n",
      "98/98 [==============================] - 46s 468ms/step - loss: 2.5040 - categorical_accuracy: 0.3578 - val_loss: 2.6853 - val_categorical_accuracy: 0.3202\n",
      "\n",
      "Epoch 00022: LearningRateScheduler reducing learning rate to 0.1.\n",
      "Epoch 22/60\n",
      "97/98 [============================>.] - ETA: 0s - loss: 2.5163 - categorical_accuracy: 0.3523\n",
      "Epoch 00022: val_categorical_accuracy did not improve from 0.33660\n",
      "98/98 [==============================] - 46s 469ms/step - loss: 2.5170 - categorical_accuracy: 0.3522 - val_loss: 2.6788 - val_categorical_accuracy: 0.3357\n",
      "\n",
      "Epoch 00023: LearningRateScheduler reducing learning rate to 0.1.\n",
      "Epoch 23/60\n",
      "97/98 [============================>.] - ETA: 0s - loss: 2.4281 - categorical_accuracy: 0.3726\n",
      "Epoch 00023: val_categorical_accuracy improved from 0.33660 to 0.35850, saving model to /content/drive/My Drive/models/resnet18_cifar100_fine_tuned.h5\n",
      "98/98 [==============================] - 47s 478ms/step - loss: 2.4285 - categorical_accuracy: 0.3723 - val_loss: 2.5462 - val_categorical_accuracy: 0.3585\n",
      "\n",
      "Epoch 00024: LearningRateScheduler reducing learning rate to 0.1.\n",
      "Epoch 24/60\n",
      "97/98 [============================>.] - ETA: 0s - loss: 2.3995 - categorical_accuracy: 0.3781\n",
      "Epoch 00024: val_categorical_accuracy did not improve from 0.35850\n",
      "98/98 [==============================] - 46s 469ms/step - loss: 2.3995 - categorical_accuracy: 0.3781 - val_loss: 2.5831 - val_categorical_accuracy: 0.3514\n",
      "\n",
      "Epoch 00025: LearningRateScheduler reducing learning rate to 0.1.\n",
      "Epoch 25/60\n",
      "97/98 [============================>.] - ETA: 0s - loss: 2.3751 - categorical_accuracy: 0.3838\n",
      "Epoch 00025: val_categorical_accuracy improved from 0.35850 to 0.37750, saving model to /content/drive/My Drive/models/resnet18_cifar100_fine_tuned.h5\n",
      "98/98 [==============================] - 47s 478ms/step - loss: 2.3752 - categorical_accuracy: 0.3839 - val_loss: 2.4163 - val_categorical_accuracy: 0.3775\n",
      "\n",
      "Epoch 00026: LearningRateScheduler reducing learning rate to 0.1.\n",
      "Epoch 26/60\n",
      "97/98 [============================>.] - ETA: 0s - loss: 2.3377 - categorical_accuracy: 0.3905\n",
      "Epoch 00026: val_categorical_accuracy did not improve from 0.37750\n",
      "98/98 [==============================] - 46s 468ms/step - loss: 2.3380 - categorical_accuracy: 0.3905 - val_loss: 2.4584 - val_categorical_accuracy: 0.3748\n",
      "\n",
      "Epoch 00027: LearningRateScheduler reducing learning rate to 0.1.\n",
      "Epoch 27/60\n",
      "97/98 [============================>.] - ETA: 0s - loss: 2.3131 - categorical_accuracy: 0.3965\n",
      "Epoch 00027: val_categorical_accuracy did not improve from 0.37750\n",
      "98/98 [==============================] - 46s 467ms/step - loss: 2.3133 - categorical_accuracy: 0.3966 - val_loss: 2.5473 - val_categorical_accuracy: 0.3589\n",
      "\n",
      "Epoch 00028: LearningRateScheduler reducing learning rate to 0.1.\n",
      "Epoch 28/60\n",
      "97/98 [============================>.] - ETA: 0s - loss: 2.2847 - categorical_accuracy: 0.4010\n",
      "Epoch 00028: val_categorical_accuracy did not improve from 0.37750\n",
      "98/98 [==============================] - 46s 469ms/step - loss: 2.2843 - categorical_accuracy: 0.4011 - val_loss: 2.5008 - val_categorical_accuracy: 0.3673\n",
      "\n",
      "Epoch 00029: LearningRateScheduler reducing learning rate to 0.1.\n",
      "Epoch 29/60\n",
      "97/98 [============================>.] - ETA: 0s - loss: 2.2624 - categorical_accuracy: 0.4072\n",
      "Epoch 00029: val_categorical_accuracy did not improve from 0.37750\n",
      "98/98 [==============================] - 46s 468ms/step - loss: 2.2625 - categorical_accuracy: 0.4071 - val_loss: 2.5335 - val_categorical_accuracy: 0.3673\n",
      "\n",
      "Epoch 00030: LearningRateScheduler reducing learning rate to 0.1.\n",
      "Epoch 30/60\n",
      "97/98 [============================>.] - ETA: 0s - loss: 2.2439 - categorical_accuracy: 0.4119\n",
      "Epoch 00030: val_categorical_accuracy improved from 0.37750 to 0.38700, saving model to /content/drive/My Drive/models/resnet18_cifar100_fine_tuned.h5\n",
      "98/98 [==============================] - 47s 477ms/step - loss: 2.2455 - categorical_accuracy: 0.4116 - val_loss: 2.3676 - val_categorical_accuracy: 0.3870\n",
      "\n",
      "Epoch 00031: LearningRateScheduler reducing learning rate to 0.02.\n",
      "Epoch 31/60\n",
      "97/98 [============================>.] - ETA: 0s - loss: 2.1376 - categorical_accuracy: 0.4366\n",
      "Epoch 00031: val_categorical_accuracy improved from 0.38700 to 0.41560, saving model to /content/drive/My Drive/models/resnet18_cifar100_fine_tuned.h5\n",
      "98/98 [==============================] - 47s 476ms/step - loss: 2.1366 - categorical_accuracy: 0.4366 - val_loss: 2.2496 - val_categorical_accuracy: 0.4156\n",
      "\n",
      "Epoch 00032: LearningRateScheduler reducing learning rate to 0.02.\n",
      "Epoch 32/60\n",
      "97/98 [============================>.] - ETA: 0s - loss: 2.0688 - categorical_accuracy: 0.4497\n",
      "Epoch 00032: val_categorical_accuracy improved from 0.41560 to 0.42190, saving model to /content/drive/My Drive/models/resnet18_cifar100_fine_tuned.h5\n",
      "98/98 [==============================] - 47s 479ms/step - loss: 2.0688 - categorical_accuracy: 0.4498 - val_loss: 2.2415 - val_categorical_accuracy: 0.4219\n",
      "\n",
      "Epoch 00033: LearningRateScheduler reducing learning rate to 0.02.\n",
      "Epoch 33/60\n",
      "97/98 [============================>.] - ETA: 0s - loss: 2.0511 - categorical_accuracy: 0.4557\n",
      "Epoch 00033: val_categorical_accuracy improved from 0.42190 to 0.42670, saving model to /content/drive/My Drive/models/resnet18_cifar100_fine_tuned.h5\n",
      "98/98 [==============================] - 47s 479ms/step - loss: 2.0517 - categorical_accuracy: 0.4556 - val_loss: 2.2432 - val_categorical_accuracy: 0.4267\n",
      "\n",
      "Epoch 00034: LearningRateScheduler reducing learning rate to 0.02.\n",
      "Epoch 34/60\n",
      "97/98 [============================>.] - ETA: 0s - loss: 2.0385 - categorical_accuracy: 0.4565\n",
      "Epoch 00034: val_categorical_accuracy did not improve from 0.42670\n",
      "98/98 [==============================] - 46s 470ms/step - loss: 2.0388 - categorical_accuracy: 0.4564 - val_loss: 2.2511 - val_categorical_accuracy: 0.4250\n",
      "\n",
      "Epoch 00035: LearningRateScheduler reducing learning rate to 0.02.\n",
      "Epoch 35/60\n",
      "97/98 [============================>.] - ETA: 0s - loss: 2.0182 - categorical_accuracy: 0.4614\n",
      "Epoch 00035: val_categorical_accuracy did not improve from 0.42670\n",
      "98/98 [==============================] - 46s 467ms/step - loss: 2.0173 - categorical_accuracy: 0.4616 - val_loss: 2.2427 - val_categorical_accuracy: 0.4260\n",
      "\n",
      "Epoch 00036: LearningRateScheduler reducing learning rate to 0.02.\n",
      "Epoch 36/60\n",
      "97/98 [============================>.] - ETA: 0s - loss: 2.0072 - categorical_accuracy: 0.4633\n",
      "Epoch 00036: val_categorical_accuracy did not improve from 0.42670\n",
      "98/98 [==============================] - 46s 468ms/step - loss: 2.0086 - categorical_accuracy: 0.4632 - val_loss: 2.2364 - val_categorical_accuracy: 0.4216\n",
      "\n",
      "Epoch 00037: LearningRateScheduler reducing learning rate to 0.02.\n",
      "Epoch 37/60\n",
      "97/98 [============================>.] - ETA: 0s - loss: 1.9964 - categorical_accuracy: 0.4665\n",
      "Epoch 00037: val_categorical_accuracy did not improve from 0.42670\n",
      "98/98 [==============================] - 46s 466ms/step - loss: 1.9977 - categorical_accuracy: 0.4665 - val_loss: 2.2532 - val_categorical_accuracy: 0.4235\n",
      "\n",
      "Epoch 00038: LearningRateScheduler reducing learning rate to 0.02.\n",
      "Epoch 38/60\n",
      "97/98 [============================>.] - ETA: 0s - loss: 1.9911 - categorical_accuracy: 0.4668\n",
      "Epoch 00038: val_categorical_accuracy improved from 0.42670 to 0.43990, saving model to /content/drive/My Drive/models/resnet18_cifar100_fine_tuned.h5\n",
      "98/98 [==============================] - 47s 478ms/step - loss: 1.9904 - categorical_accuracy: 0.4670 - val_loss: 2.2104 - val_categorical_accuracy: 0.4399\n",
      "\n",
      "Epoch 00039: LearningRateScheduler reducing learning rate to 0.02.\n",
      "Epoch 39/60\n",
      "97/98 [============================>.] - ETA: 0s - loss: 1.9808 - categorical_accuracy: 0.4666\n",
      "Epoch 00039: val_categorical_accuracy did not improve from 0.43990\n",
      "98/98 [==============================] - 46s 466ms/step - loss: 1.9810 - categorical_accuracy: 0.4667 - val_loss: 2.2492 - val_categorical_accuracy: 0.4292\n",
      "\n",
      "Epoch 00040: LearningRateScheduler reducing learning rate to 0.02.\n",
      "Epoch 40/60\n",
      "97/98 [============================>.] - ETA: 0s - loss: 1.9697 - categorical_accuracy: 0.4708\n",
      "Epoch 00040: val_categorical_accuracy did not improve from 0.43990\n",
      "98/98 [==============================] - 46s 470ms/step - loss: 1.9698 - categorical_accuracy: 0.4706 - val_loss: 2.2481 - val_categorical_accuracy: 0.4260\n",
      "\n",
      "Epoch 00041: LearningRateScheduler reducing learning rate to 0.02.\n",
      "Epoch 41/60\n",
      "97/98 [============================>.] - ETA: 0s - loss: 1.9661 - categorical_accuracy: 0.4745\n",
      "Epoch 00041: val_categorical_accuracy did not improve from 0.43990\n",
      "98/98 [==============================] - 46s 466ms/step - loss: 1.9651 - categorical_accuracy: 0.4744 - val_loss: 2.2565 - val_categorical_accuracy: 0.4238\n",
      "\n",
      "Epoch 00042: LearningRateScheduler reducing learning rate to 0.02.\n",
      "Epoch 42/60\n",
      "97/98 [============================>.] - ETA: 0s - loss: 1.9488 - categorical_accuracy: 0.4767\n",
      "Epoch 00042: val_categorical_accuracy did not improve from 0.43990\n",
      "98/98 [==============================] - 46s 467ms/step - loss: 1.9482 - categorical_accuracy: 0.4770 - val_loss: 2.2346 - val_categorical_accuracy: 0.4289\n",
      "\n",
      "Epoch 00043: LearningRateScheduler reducing learning rate to 0.02.\n",
      "Epoch 43/60\n",
      "97/98 [============================>.] - ETA: 0s - loss: 1.9401 - categorical_accuracy: 0.4787\n",
      "Epoch 00043: val_categorical_accuracy did not improve from 0.43990\n",
      "98/98 [==============================] - 46s 469ms/step - loss: 1.9403 - categorical_accuracy: 0.4786 - val_loss: 2.2131 - val_categorical_accuracy: 0.4304\n",
      "\n",
      "Epoch 00044: LearningRateScheduler reducing learning rate to 0.02.\n",
      "Epoch 44/60\n",
      "97/98 [============================>.] - ETA: 0s - loss: 1.9297 - categorical_accuracy: 0.4825\n",
      "Epoch 00044: val_categorical_accuracy did not improve from 0.43990\n",
      "98/98 [==============================] - 46s 469ms/step - loss: 1.9297 - categorical_accuracy: 0.4827 - val_loss: 2.2482 - val_categorical_accuracy: 0.4325\n",
      "\n",
      "Epoch 00045: LearningRateScheduler reducing learning rate to 0.02.\n",
      "Epoch 45/60\n",
      "97/98 [============================>.] - ETA: 0s - loss: 1.9221 - categorical_accuracy: 0.4826\n",
      "Epoch 00045: val_categorical_accuracy did not improve from 0.43990\n",
      "98/98 [==============================] - 46s 468ms/step - loss: 1.9223 - categorical_accuracy: 0.4825 - val_loss: 2.2272 - val_categorical_accuracy: 0.4334\n",
      "\n",
      "Epoch 00046: LearningRateScheduler reducing learning rate to 0.02.\n",
      "Epoch 46/60\n",
      "97/98 [============================>.] - ETA: 0s - loss: 1.9110 - categorical_accuracy: 0.4842\n",
      "Epoch 00046: val_categorical_accuracy did not improve from 0.43990\n",
      "98/98 [==============================] - 46s 467ms/step - loss: 1.9112 - categorical_accuracy: 0.4845 - val_loss: 2.2225 - val_categorical_accuracy: 0.4321\n",
      "\n",
      "Epoch 00047: LearningRateScheduler reducing learning rate to 0.02.\n",
      "Epoch 47/60\n",
      "97/98 [============================>.] - ETA: 0s - loss: 1.9062 - categorical_accuracy: 0.4859\n",
      "Epoch 00047: val_categorical_accuracy did not improve from 0.43990\n",
      "98/98 [==============================] - 46s 467ms/step - loss: 1.9061 - categorical_accuracy: 0.4858 - val_loss: 2.2157 - val_categorical_accuracy: 0.4355\n",
      "\n",
      "Epoch 00048: LearningRateScheduler reducing learning rate to 0.02.\n",
      "Epoch 48/60\n",
      "97/98 [============================>.] - ETA: 0s - loss: 1.8886 - categorical_accuracy: 0.4916\n",
      "Epoch 00048: val_categorical_accuracy did not improve from 0.43990\n",
      "98/98 [==============================] - 46s 466ms/step - loss: 1.8890 - categorical_accuracy: 0.4916 - val_loss: 2.2935 - val_categorical_accuracy: 0.4206\n",
      "\n",
      "Epoch 00049: LearningRateScheduler reducing learning rate to 0.02.\n",
      "Epoch 49/60\n",
      "97/98 [============================>.] - ETA: 0s - loss: 1.8849 - categorical_accuracy: 0.4921\n",
      "Epoch 00049: val_categorical_accuracy did not improve from 0.43990\n",
      "98/98 [==============================] - 46s 467ms/step - loss: 1.8851 - categorical_accuracy: 0.4922 - val_loss: 2.2875 - val_categorical_accuracy: 0.4260\n",
      "\n",
      "Epoch 00050: LearningRateScheduler reducing learning rate to 0.02.\n",
      "Epoch 50/60\n",
      "97/98 [============================>.] - ETA: 0s - loss: 1.8808 - categorical_accuracy: 0.4919\n",
      "Epoch 00050: val_categorical_accuracy did not improve from 0.43990\n",
      "98/98 [==============================] - 46s 469ms/step - loss: 1.8805 - categorical_accuracy: 0.4916 - val_loss: 2.2489 - val_categorical_accuracy: 0.4309\n",
      "\n",
      "Epoch 00051: LearningRateScheduler reducing learning rate to 0.02.\n",
      "Epoch 51/60\n",
      "97/98 [============================>.] - ETA: 0s - loss: 1.8621 - categorical_accuracy: 0.4963\n",
      "Epoch 00051: val_categorical_accuracy did not improve from 0.43990\n",
      "98/98 [==============================] - 46s 466ms/step - loss: 1.8616 - categorical_accuracy: 0.4964 - val_loss: 2.2742 - val_categorical_accuracy: 0.4311\n",
      "\n",
      "Epoch 00052: LearningRateScheduler reducing learning rate to 0.02.\n",
      "Epoch 52/60\n",
      "97/98 [============================>.] - ETA: 0s - loss: 1.8550 - categorical_accuracy: 0.4972\n",
      "Epoch 00052: val_categorical_accuracy did not improve from 0.43990\n",
      "98/98 [==============================] - 46s 467ms/step - loss: 1.8559 - categorical_accuracy: 0.4970 - val_loss: 2.2505 - val_categorical_accuracy: 0.4321\n",
      "\n",
      "Epoch 00053: LearningRateScheduler reducing learning rate to 0.02.\n",
      "Epoch 53/60\n",
      "97/98 [============================>.] - ETA: 0s - loss: 1.8459 - categorical_accuracy: 0.5008\n",
      "Epoch 00053: val_categorical_accuracy did not improve from 0.43990\n",
      "98/98 [==============================] - 46s 467ms/step - loss: 1.8453 - categorical_accuracy: 0.5011 - val_loss: 2.3131 - val_categorical_accuracy: 0.4182\n",
      "\n",
      "Epoch 00054: LearningRateScheduler reducing learning rate to 0.02.\n",
      "Epoch 54/60\n",
      "97/98 [============================>.] - ETA: 0s - loss: 1.8367 - categorical_accuracy: 0.5053\n",
      "Epoch 00054: val_categorical_accuracy improved from 0.43990 to 0.44290, saving model to /content/drive/My Drive/models/resnet18_cifar100_fine_tuned.h5\n",
      "98/98 [==============================] - 47s 478ms/step - loss: 1.8359 - categorical_accuracy: 0.5054 - val_loss: 2.2098 - val_categorical_accuracy: 0.4429\n",
      "\n",
      "Epoch 00055: LearningRateScheduler reducing learning rate to 0.02.\n",
      "Epoch 55/60\n",
      "97/98 [============================>.] - ETA: 0s - loss: 1.8232 - categorical_accuracy: 0.5028\n",
      "Epoch 00055: val_categorical_accuracy did not improve from 0.44290\n",
      "98/98 [==============================] - 46s 466ms/step - loss: 1.8226 - categorical_accuracy: 0.5029 - val_loss: 2.2872 - val_categorical_accuracy: 0.4323\n",
      "\n",
      "Epoch 00056: LearningRateScheduler reducing learning rate to 0.02.\n",
      "Epoch 56/60\n",
      "97/98 [============================>.] - ETA: 0s - loss: 1.8195 - categorical_accuracy: 0.5070\n",
      "Epoch 00056: val_categorical_accuracy did not improve from 0.44290\n",
      "98/98 [==============================] - 46s 467ms/step - loss: 1.8192 - categorical_accuracy: 0.5071 - val_loss: 2.2962 - val_categorical_accuracy: 0.4264\n",
      "\n",
      "Epoch 00057: LearningRateScheduler reducing learning rate to 0.02.\n",
      "Epoch 57/60\n",
      "97/98 [============================>.] - ETA: 0s - loss: 1.8119 - categorical_accuracy: 0.5061\n",
      "Epoch 00057: val_categorical_accuracy did not improve from 0.44290\n",
      "98/98 [==============================] - 46s 468ms/step - loss: 1.8121 - categorical_accuracy: 0.5059 - val_loss: 2.2439 - val_categorical_accuracy: 0.4347\n",
      "\n",
      "Epoch 00058: LearningRateScheduler reducing learning rate to 0.02.\n",
      "Epoch 58/60\n",
      "97/98 [============================>.] - ETA: 0s - loss: 1.8039 - categorical_accuracy: 0.5097\n",
      "Epoch 00058: val_categorical_accuracy did not improve from 0.44290\n",
      "98/98 [==============================] - 46s 469ms/step - loss: 1.8047 - categorical_accuracy: 0.5096 - val_loss: 2.2270 - val_categorical_accuracy: 0.4342\n",
      "\n",
      "Epoch 00059: LearningRateScheduler reducing learning rate to 0.02.\n",
      "Epoch 59/60\n",
      "97/98 [============================>.] - ETA: 0s - loss: 1.7854 - categorical_accuracy: 0.5145\n",
      "Epoch 00059: val_categorical_accuracy did not improve from 0.44290\n",
      "98/98 [==============================] - 46s 468ms/step - loss: 1.7859 - categorical_accuracy: 0.5142 - val_loss: 2.2622 - val_categorical_accuracy: 0.4345\n",
      "\n",
      "Epoch 00060: LearningRateScheduler reducing learning rate to 0.02.\n",
      "Epoch 60/60\n",
      "97/98 [============================>.] - ETA: 0s - loss: 1.7699 - categorical_accuracy: 0.5178\n",
      "Epoch 00060: val_categorical_accuracy did not improve from 0.44290\n",
      "98/98 [==============================] - 46s 467ms/step - loss: 1.7692 - categorical_accuracy: 0.5179 - val_loss: 2.2670 - val_categorical_accuracy: 0.4332\n"
     ]
    },
    {
     "data": {
      "text/plain": [
       "<tensorflow.python.keras.callbacks.History at 0x7f9ff627c198>"
      ]
     },
     "execution_count": 49,
     "metadata": {
      "tags": []
     },
     "output_type": "execute_result"
    }
   ],
   "source": [
    "# Train the model for 60 epochs with step learning rate\n",
    "\n",
    "from math import ceil\n",
    "from tensorflow.keras.callbacks import ModelCheckpoint\n",
    "checkpointer = ModelCheckpoint(\"/content/drive/My Drive/models/resnet18_cifar100_fine_tuned.h5\", monitor='val_categorical_accuracy', verbose=1, save_best_only=True)\n",
    "\n",
    "batch_size = 512\n",
    "\n",
    "\n",
    "model.fit_generator(datagen.flow(x_train,y_train,batch_size=batch_size), steps_per_epoch=ceil(len(x_train)/batch_size), epochs = 60, validation_data = datagen_val.flow(x_test,y_test, batch_size=batch_size), validation_steps=ceil(len(x_test)/batch_size), callbacks=[LearningRateScheduler(scheduler, verbose=1),checkpointer])\n"
   ]
  },
  {
   "cell_type": "code",
   "execution_count": 0,
   "metadata": {
    "colab": {},
    "colab_type": "code",
    "id": "9vHX7Jf8J5qK"
   },
   "outputs": [],
   "source": []
  },
  {
   "cell_type": "markdown",
   "metadata": {
    "colab_type": "text",
    "id": "kzQHP5-Iul1l"
   },
   "source": [
    "### Further Fine Tuning"
   ]
  },
  {
   "cell_type": "code",
   "execution_count": 50,
   "metadata": {
    "colab": {
     "base_uri": "https://localhost:8080/",
     "height": 34
    },
    "colab_type": "code",
    "id": "ETh9-yH_nwmO",
    "outputId": "bbe400cd-2b87-4533-a656-dcf21e9c5abc"
   },
   "outputs": [
    {
     "name": "stdout",
     "output_type": "stream",
     "text": [
      "65\n"
     ]
    }
   ],
   "source": [
    "fine_tune_at = len(base_model_cifar.layers) - 20\n",
    "print(fine_tune_at)"
   ]
  },
  {
   "cell_type": "code",
   "execution_count": 0,
   "metadata": {
    "colab": {},
    "colab_type": "code",
    "id": "vbN0eknsn3mh"
   },
   "outputs": [],
   "source": [
    "# Set more convolutional layers as trainable.\n",
    "\n",
    "for layer in base_model_cifar.layers[:fine_tune_at]:\n",
    "  layer.trainable = False"
   ]
  },
  {
   "cell_type": "code",
   "execution_count": 52,
   "metadata": {
    "colab": {
     "base_uri": "https://localhost:8080/",
     "height": 1000
    },
    "colab_type": "code",
    "id": "briV6Ln6n43M",
    "outputId": "21d4e99e-e0e4-4a37-e6b6-be9e64a16738"
   },
   "outputs": [
    {
     "name": "stdout",
     "output_type": "stream",
     "text": [
      "<tensorflow.python.keras.engine.input_layer.InputLayer object at 0x7fa061d0d780> False\n",
      "<tensorflow.python.keras.layers.normalization_v2.BatchNormalization object at 0x7fa061cafbe0> False\n",
      "<tensorflow.python.keras.layers.convolutional.ZeroPadding2D object at 0x7fa050513f60> False\n",
      "<tensorflow.python.keras.layers.convolutional.Conv2D object at 0x7fa0798ecf28> False\n",
      "<tensorflow.python.keras.layers.normalization_v2.BatchNormalization object at 0x7fa0504cde10> False\n",
      "<tensorflow.python.keras.layers.core.Activation object at 0x7fa050466940> False\n",
      "<tensorflow.python.keras.layers.convolutional.ZeroPadding2D object at 0x7fa0504666d8> False\n",
      "<tensorflow.python.keras.layers.normalization_v2.BatchNormalization object at 0x7fa0503dbda0> False\n",
      "<tensorflow.python.keras.layers.core.Activation object at 0x7fa0503ec5c0> False\n",
      "<tensorflow.python.keras.layers.convolutional.ZeroPadding2D object at 0x7fa050366ac8> False\n",
      "<tensorflow.python.keras.layers.convolutional.Conv2D object at 0x7fa0503669e8> False\n",
      "<tensorflow.python.keras.layers.normalization_v2.BatchNormalization object at 0x7fa050374dd8> False\n",
      "<tensorflow.python.keras.layers.core.Activation object at 0x7fa050341da0> False\n",
      "<tensorflow.python.keras.layers.convolutional.ZeroPadding2D object at 0x7fa0503816a0> False\n",
      "<tensorflow.python.keras.layers.convolutional.Conv2D object at 0x7fa0503817b8> False\n",
      "<tensorflow.python.keras.layers.convolutional.Conv2D object at 0x7fa0503b0eb8> False\n",
      "<tensorflow.python.keras.layers.merge.Add object at 0x7fa050309518> False\n",
      "<tensorflow.python.keras.layers.normalization_v2.BatchNormalization object at 0x7fa050309eb8> False\n",
      "<tensorflow.python.keras.layers.core.Activation object at 0x7fa05030e630> False\n",
      "<tensorflow.python.keras.layers.convolutional.ZeroPadding2D object at 0x7fa0502d8f28> False\n",
      "<tensorflow.python.keras.layers.convolutional.Conv2D object at 0x7fa05030e5f8> False\n",
      "<tensorflow.python.keras.layers.normalization_v2.BatchNormalization object at 0x7fa05028df98> False\n",
      "<tensorflow.python.keras.layers.core.Activation object at 0x7fa0501fa978> False\n",
      "<tensorflow.python.keras.layers.convolutional.ZeroPadding2D object at 0x7fa05021f9b0> False\n",
      "<tensorflow.python.keras.layers.convolutional.Conv2D object at 0x7fa05021fac8> False\n",
      "<tensorflow.python.keras.layers.merge.Add object at 0x7fa0501a87f0> False\n",
      "<tensorflow.python.keras.layers.normalization_v2.BatchNormalization object at 0x7fa0501a8da0> False\n",
      "<tensorflow.python.keras.layers.core.Activation object at 0x7fa0501b1898> False\n",
      "<tensorflow.python.keras.layers.convolutional.ZeroPadding2D object at 0x7fa05012ddd8> False\n",
      "<tensorflow.python.keras.layers.convolutional.Conv2D object at 0x7fa05012dcf8> False\n",
      "<tensorflow.python.keras.layers.normalization_v2.BatchNormalization object at 0x7fa050139f98> False\n",
      "<tensorflow.python.keras.layers.core.Activation object at 0x7fa05013c9e8> False\n",
      "<tensorflow.python.keras.layers.convolutional.ZeroPadding2D object at 0x7fa0500a7978> False\n",
      "<tensorflow.python.keras.layers.convolutional.Conv2D object at 0x7fa05013cac8> False\n",
      "<tensorflow.python.keras.layers.convolutional.Conv2D object at 0x7fa0501b1828> False\n",
      "<tensorflow.python.keras.layers.merge.Add object at 0x7fa0500d37f0> False\n",
      "<tensorflow.python.keras.layers.normalization_v2.BatchNormalization object at 0x7fa0500d3da0> False\n",
      "<tensorflow.python.keras.layers.core.Activation object at 0x7fa05005b898> False\n",
      "<tensorflow.python.keras.layers.convolutional.ZeroPadding2D object at 0x7fa05005b828> False\n",
      "<tensorflow.python.keras.layers.convolutional.Conv2D object at 0x7fa05003cef0> False\n",
      "<tensorflow.python.keras.layers.normalization_v2.BatchNormalization object at 0x7fa00e5783c8> False\n",
      "<tensorflow.python.keras.layers.core.Activation object at 0x7fa00e5820b8> False\n",
      "<tensorflow.python.keras.layers.convolutional.ZeroPadding2D object at 0x7fa00e54fc18> False\n",
      "<tensorflow.python.keras.layers.convolutional.Conv2D object at 0x7fa00e578d68> False\n",
      "<tensorflow.python.keras.layers.merge.Add object at 0x7fa00e4fbac8> False\n",
      "<tensorflow.python.keras.layers.normalization_v2.BatchNormalization object at 0x7fa00e4fba58> False\n",
      "<tensorflow.python.keras.layers.core.Activation object at 0x7fa00e567c88> False\n",
      "<tensorflow.python.keras.layers.convolutional.ZeroPadding2D object at 0x7fa00e47df28> False\n",
      "<tensorflow.python.keras.layers.convolutional.Conv2D object at 0x7fa00e47ddd8> False\n",
      "<tensorflow.python.keras.layers.normalization_v2.BatchNormalization object at 0x7fa00e4a43c8> False\n",
      "<tensorflow.python.keras.layers.core.Activation object at 0x7fa00e42e0b8> False\n",
      "<tensorflow.python.keras.layers.convolutional.ZeroPadding2D object at 0x7fa00e3f7c18> False\n",
      "<tensorflow.python.keras.layers.convolutional.Conv2D object at 0x7fa00e4a4d68> False\n",
      "<tensorflow.python.keras.layers.convolutional.Conv2D object at 0x7fa00e508b00> False\n",
      "<tensorflow.python.keras.layers.merge.Add object at 0x7fa00e3a8ac8> False\n",
      "<tensorflow.python.keras.layers.normalization_v2.BatchNormalization object at 0x7fa00e3a8a58> False\n",
      "<tensorflow.python.keras.layers.core.Activation object at 0x7fa00e412c88> False\n",
      "<tensorflow.python.keras.layers.convolutional.ZeroPadding2D object at 0x7fa00e3b7b00> False\n",
      "<tensorflow.python.keras.layers.convolutional.Conv2D object at 0x7fa00e3b7b38> False\n",
      "<tensorflow.python.keras.layers.normalization_v2.BatchNormalization object at 0x7fa00e33d668> False\n",
      "<tensorflow.python.keras.layers.core.Activation object at 0x7fa00e33def0> False\n",
      "<tensorflow.python.keras.layers.convolutional.ZeroPadding2D object at 0x7fa00e33deb8> False\n",
      "<tensorflow.python.keras.layers.convolutional.Conv2D object at 0x7fa00e346048> False\n",
      "<tensorflow.python.keras.layers.merge.Add object at 0x7fa00e2c2d68> False\n",
      "<tensorflow.python.keras.layers.normalization_v2.BatchNormalization object at 0x7fa00e2c2cf8> False\n",
      "<tensorflow.python.keras.layers.core.Activation object at 0x7fa00e2d0e10> False\n",
      "<tensorflow.python.keras.layers.convolutional.ZeroPadding2D object at 0x7fa00e25c358> False\n",
      "<tensorflow.python.keras.layers.convolutional.Conv2D object at 0x7fa00e25cdd8> False\n",
      "<tensorflow.python.keras.layers.normalization_v2.BatchNormalization object at 0x7fa00e1eb668> True\n",
      "<tensorflow.python.keras.layers.core.Activation object at 0x7fa00e1ebef0> True\n",
      "<tensorflow.python.keras.layers.convolutional.ZeroPadding2D object at 0x7fa00e1ebeb8> True\n",
      "<tensorflow.python.keras.layers.convolutional.Conv2D object at 0x7fa00e1f0048> True\n",
      "<tensorflow.python.keras.layers.convolutional.Conv2D object at 0x7fa00e2d0da0> True\n",
      "<tensorflow.python.keras.layers.merge.Add object at 0x7fa00e170d68> True\n",
      "<tensorflow.python.keras.layers.normalization_v2.BatchNormalization object at 0x7fa00e170cf8> True\n",
      "<tensorflow.python.keras.layers.core.Activation object at 0x7fa00e17fe10> True\n",
      "<tensorflow.python.keras.layers.convolutional.ZeroPadding2D object at 0x7fa00e15da58> True\n",
      "<tensorflow.python.keras.layers.convolutional.Conv2D object at 0x7fa00e17fdd8> True\n",
      "<tensorflow.python.keras.layers.normalization_v2.BatchNormalization object at 0x7fa00e109908> True\n",
      "<tensorflow.python.keras.layers.core.Activation object at 0x7fa00e114208> True\n",
      "<tensorflow.python.keras.layers.convolutional.ZeroPadding2D object at 0x7fa00e0d5e48> True\n",
      "<tensorflow.python.keras.layers.convolutional.Conv2D object at 0x7fa00e1142e8> True\n",
      "<tensorflow.python.keras.layers.merge.Add object at 0x7fa00e08dd68> True\n",
      "<tensorflow.python.keras.layers.normalization_v2.BatchNormalization object at 0x7fa05043e0b8> True\n",
      "<tensorflow.python.keras.layers.core.Activation object at 0x7fa00e09df28> True\n"
     ]
    }
   ],
   "source": [
    "# Display layers and trainable status\n",
    "\n",
    "for i in base_model_cifar.layers:\n",
    "  print(i, i.trainable)"
   ]
  },
  {
   "cell_type": "code",
   "execution_count": 0,
   "metadata": {
    "colab": {},
    "colab_type": "code",
    "id": "y2FU4SJXohQy"
   },
   "outputs": [],
   "source": [
    "# Ensure all BN layers are trainable. Reference https://twitter.com/jeremyphoward/status/1182062808206213120?s=12\n",
    "\n",
    "for layer in base_model_cifar.layers:\n",
    "  if \"BatchNormalization\" in str(layer):\n",
    "    layer.trainable = True"
   ]
  },
  {
   "cell_type": "code",
   "execution_count": 54,
   "metadata": {
    "colab": {
     "base_uri": "https://localhost:8080/",
     "height": 102
    },
    "colab_type": "code",
    "id": "Wa9MlS8ln4p8",
    "outputId": "1936ddda-bfb5-4b1c-ac8f-4d37b057d736"
   },
   "outputs": [
    {
     "name": "stdout",
     "output_type": "stream",
     "text": [
      "<tensorflow.python.keras.engine.training.Model object at 0x7fa00e09dfd0> True\n",
      "<tensorflow.python.keras.layers.convolutional.Conv2D object at 0x7f9ff77a27f0> True\n",
      "<tensorflow.python.keras.layers.pooling.GlobalAveragePooling2D object at 0x7f9ff77a2a20> True\n",
      "<tensorflow.python.keras.layers.core.Dense object at 0x7fa061d0dfd0> True\n",
      "<tensorflow.python.keras.layers.advanced_activations.Softmax object at 0x7fa061d0da20> True\n"
     ]
    }
   ],
   "source": [
    "for i in model.layers:\n",
    "  print(i, i.trainable)"
   ]
  },
  {
   "cell_type": "code",
   "execution_count": 0,
   "metadata": {
    "colab": {},
    "colab_type": "code",
    "id": "Ux-b7OkQoBgw"
   },
   "outputs": [],
   "source": [
    "# Compile the model\n",
    "\n",
    "model.compile(optimizer=tf.keras.optimizers.SGD(learning_rate=0.01, momentum=0.9, nesterov=True), loss = 'categorical_crossentropy', metrics = [tf.keras.metrics.CategoricalAccuracy()])"
   ]
  },
  {
   "cell_type": "code",
   "execution_count": 56,
   "metadata": {
    "colab": {
     "base_uri": "https://localhost:8080/",
     "height": 323
    },
    "colab_type": "code",
    "id": "b2q5gAlfoBfA",
    "outputId": "e80dcfc7-925f-4b8f-e06f-3d36f41da858"
   },
   "outputs": [
    {
     "name": "stdout",
     "output_type": "stream",
     "text": [
      "Model: \"sequential\"\n",
      "_________________________________________________________________\n",
      "Layer (type)                 Output Shape              Param #   \n",
      "=================================================================\n",
      "model (Model)                (None, 5, 5, 512)         11186889  \n",
      "_________________________________________________________________\n",
      "conv2d (Conv2D)              (None, 5, 5, 100)         51200     \n",
      "_________________________________________________________________\n",
      "global_average_pooling2d (Gl (None, 100)               0         \n",
      "_________________________________________________________________\n",
      "dense (Dense)                (None, 100)               10100     \n",
      "_________________________________________________________________\n",
      "softmax (Softmax)            (None, 100)               0         \n",
      "=================================================================\n",
      "Total params: 11,248,189\n",
      "Trainable params: 7,278,199\n",
      "Non-trainable params: 3,969,990\n",
      "_________________________________________________________________\n"
     ]
    }
   ],
   "source": [
    "# Display model summary\n",
    "\n",
    "model.summary()"
   ]
  },
  {
   "cell_type": "code",
   "execution_count": 57,
   "metadata": {
    "colab": {
     "base_uri": "https://localhost:8080/",
     "height": 34
    },
    "colab_type": "code",
    "id": "AWL5k_mMoBZB",
    "outputId": "500a32b7-ce08-4c71-d8ed-5e0400e08de4"
   },
   "outputs": [
    {
     "data": {
      "text/plain": [
       "44"
      ]
     },
     "execution_count": 57,
     "metadata": {
      "tags": []
     },
     "output_type": "execute_result"
    }
   ],
   "source": [
    "len(model.trainable_variables)"
   ]
  },
  {
   "cell_type": "code",
   "execution_count": 58,
   "metadata": {
    "colab": {
     "base_uri": "https://localhost:8080/",
     "height": 1000
    },
    "colab_type": "code",
    "id": "uGnMOr8-oL-n",
    "outputId": "a1ffb5b5-af20-4e32-f6f0-99895053416b"
   },
   "outputs": [
    {
     "name": "stdout",
     "output_type": "stream",
     "text": [
      "\n",
      "Epoch 00001: LearningRateScheduler reducing learning rate to 0.1.\n",
      "Epoch 1/60\n",
      "97/98 [============================>.] - ETA: 0s - loss: 2.4277 - categorical_accuracy: 0.3913\n",
      "Epoch 00001: val_categorical_accuracy improved from -inf to 0.19080, saving model to /content/drive/My Drive/models/resnet18_cifar100_fine_tuned.h5\n",
      "98/98 [==============================] - 51s 523ms/step - loss: 2.4215 - categorical_accuracy: 0.3924 - val_loss: 5.9445 - val_categorical_accuracy: 0.1908\n",
      "\n",
      "Epoch 00002: LearningRateScheduler reducing learning rate to 0.1.\n",
      "Epoch 2/60\n",
      "97/98 [============================>.] - ETA: 0s - loss: 1.6493 - categorical_accuracy: 0.5350\n",
      "Epoch 00002: val_categorical_accuracy improved from 0.19080 to 0.44420, saving model to /content/drive/My Drive/models/resnet18_cifar100_fine_tuned.h5\n",
      "98/98 [==============================] - 51s 518ms/step - loss: 1.6493 - categorical_accuracy: 0.5350 - val_loss: 2.2661 - val_categorical_accuracy: 0.4442\n",
      "\n",
      "Epoch 00003: LearningRateScheduler reducing learning rate to 0.1.\n",
      "Epoch 3/60\n",
      "97/98 [============================>.] - ETA: 0s - loss: 1.4478 - categorical_accuracy: 0.5834\n",
      "Epoch 00003: val_categorical_accuracy improved from 0.44420 to 0.51460, saving model to /content/drive/My Drive/models/resnet18_cifar100_fine_tuned.h5\n",
      "98/98 [==============================] - 51s 521ms/step - loss: 1.4474 - categorical_accuracy: 0.5835 - val_loss: 1.8524 - val_categorical_accuracy: 0.5146\n",
      "\n",
      "Epoch 00004: LearningRateScheduler reducing learning rate to 0.1.\n",
      "Epoch 4/60\n",
      "97/98 [============================>.] - ETA: 0s - loss: 1.3205 - categorical_accuracy: 0.6184\n",
      "Epoch 00004: val_categorical_accuracy improved from 0.51460 to 0.57320, saving model to /content/drive/My Drive/models/resnet18_cifar100_fine_tuned.h5\n",
      "98/98 [==============================] - 51s 518ms/step - loss: 1.3214 - categorical_accuracy: 0.6182 - val_loss: 1.5428 - val_categorical_accuracy: 0.5732\n",
      "\n",
      "Epoch 00005: LearningRateScheduler reducing learning rate to 0.1.\n",
      "Epoch 5/60\n",
      "97/98 [============================>.] - ETA: 0s - loss: 1.2219 - categorical_accuracy: 0.6425\n",
      "Epoch 00005: val_categorical_accuracy improved from 0.57320 to 0.58310, saving model to /content/drive/My Drive/models/resnet18_cifar100_fine_tuned.h5\n",
      "98/98 [==============================] - 51s 520ms/step - loss: 1.2229 - categorical_accuracy: 0.6421 - val_loss: 1.4752 - val_categorical_accuracy: 0.5831\n",
      "\n",
      "Epoch 00006: LearningRateScheduler reducing learning rate to 0.1.\n",
      "Epoch 6/60\n",
      "97/98 [============================>.] - ETA: 0s - loss: 1.1462 - categorical_accuracy: 0.6652\n",
      "Epoch 00006: val_categorical_accuracy improved from 0.58310 to 0.61180, saving model to /content/drive/My Drive/models/resnet18_cifar100_fine_tuned.h5\n",
      "98/98 [==============================] - 51s 518ms/step - loss: 1.1454 - categorical_accuracy: 0.6655 - val_loss: 1.3897 - val_categorical_accuracy: 0.6118\n",
      "\n",
      "Epoch 00007: LearningRateScheduler reducing learning rate to 0.1.\n",
      "Epoch 7/60\n",
      "97/98 [============================>.] - ETA: 0s - loss: 1.0707 - categorical_accuracy: 0.6807\n",
      "Epoch 00007: val_categorical_accuracy did not improve from 0.61180\n",
      "98/98 [==============================] - 50s 507ms/step - loss: 1.0713 - categorical_accuracy: 0.6809 - val_loss: 1.4455 - val_categorical_accuracy: 0.6097\n",
      "\n",
      "Epoch 00008: LearningRateScheduler reducing learning rate to 0.1.\n",
      "Epoch 8/60\n",
      "97/98 [============================>.] - ETA: 0s - loss: 1.0178 - categorical_accuracy: 0.6958\n",
      "Epoch 00008: val_categorical_accuracy improved from 0.61180 to 0.62300, saving model to /content/drive/My Drive/models/resnet18_cifar100_fine_tuned.h5\n",
      "98/98 [==============================] - 51s 519ms/step - loss: 1.0178 - categorical_accuracy: 0.6959 - val_loss: 1.3592 - val_categorical_accuracy: 0.6230\n",
      "\n",
      "Epoch 00009: LearningRateScheduler reducing learning rate to 0.1.\n",
      "Epoch 9/60\n",
      "97/98 [============================>.] - ETA: 0s - loss: 0.9529 - categorical_accuracy: 0.7147\n",
      "Epoch 00009: val_categorical_accuracy improved from 0.62300 to 0.62690, saving model to /content/drive/My Drive/models/resnet18_cifar100_fine_tuned.h5\n",
      "98/98 [==============================] - 51s 517ms/step - loss: 0.9536 - categorical_accuracy: 0.7145 - val_loss: 1.3427 - val_categorical_accuracy: 0.6269\n",
      "\n",
      "Epoch 00010: LearningRateScheduler reducing learning rate to 0.1.\n",
      "Epoch 10/60\n",
      "97/98 [============================>.] - ETA: 0s - loss: 0.8966 - categorical_accuracy: 0.7283\n",
      "Epoch 00010: val_categorical_accuracy improved from 0.62690 to 0.63550, saving model to /content/drive/My Drive/models/resnet18_cifar100_fine_tuned.h5\n",
      "98/98 [==============================] - 51s 519ms/step - loss: 0.8984 - categorical_accuracy: 0.7281 - val_loss: 1.3630 - val_categorical_accuracy: 0.6355\n",
      "\n",
      "Epoch 00011: LearningRateScheduler reducing learning rate to 0.1.\n",
      "Epoch 11/60\n",
      "97/98 [============================>.] - ETA: 0s - loss: 0.8536 - categorical_accuracy: 0.7409\n",
      "Epoch 00011: val_categorical_accuracy improved from 0.63550 to 0.64100, saving model to /content/drive/My Drive/models/resnet18_cifar100_fine_tuned.h5\n",
      "98/98 [==============================] - 51s 521ms/step - loss: 0.8533 - categorical_accuracy: 0.7409 - val_loss: 1.3218 - val_categorical_accuracy: 0.6410\n",
      "\n",
      "Epoch 00012: LearningRateScheduler reducing learning rate to 0.1.\n",
      "Epoch 12/60\n",
      "97/98 [============================>.] - ETA: 0s - loss: 0.8024 - categorical_accuracy: 0.7548\n",
      "Epoch 00012: val_categorical_accuracy improved from 0.64100 to 0.65180, saving model to /content/drive/My Drive/models/resnet18_cifar100_fine_tuned.h5\n",
      "98/98 [==============================] - 51s 516ms/step - loss: 0.8034 - categorical_accuracy: 0.7543 - val_loss: 1.2967 - val_categorical_accuracy: 0.6518\n",
      "\n",
      "Epoch 00013: LearningRateScheduler reducing learning rate to 0.1.\n",
      "Epoch 13/60\n",
      "97/98 [============================>.] - ETA: 0s - loss: 0.7585 - categorical_accuracy: 0.7658\n",
      "Epoch 00013: val_categorical_accuracy did not improve from 0.65180\n",
      "98/98 [==============================] - 50s 510ms/step - loss: 0.7587 - categorical_accuracy: 0.7657 - val_loss: 1.4199 - val_categorical_accuracy: 0.6396\n",
      "\n",
      "Epoch 00014: LearningRateScheduler reducing learning rate to 0.1.\n",
      "Epoch 14/60\n",
      "97/98 [============================>.] - ETA: 0s - loss: 0.7167 - categorical_accuracy: 0.7782\n",
      "Epoch 00014: val_categorical_accuracy did not improve from 0.65180\n",
      "98/98 [==============================] - 49s 504ms/step - loss: 0.7176 - categorical_accuracy: 0.7779 - val_loss: 1.3852 - val_categorical_accuracy: 0.6446\n",
      "\n",
      "Epoch 00015: LearningRateScheduler reducing learning rate to 0.1.\n",
      "Epoch 15/60\n",
      "97/98 [============================>.] - ETA: 0s - loss: 0.6809 - categorical_accuracy: 0.7892\n",
      "Epoch 00015: val_categorical_accuracy did not improve from 0.65180\n",
      "98/98 [==============================] - 50s 506ms/step - loss: 0.6808 - categorical_accuracy: 0.7893 - val_loss: 1.4414 - val_categorical_accuracy: 0.6488\n",
      "\n",
      "Epoch 00016: LearningRateScheduler reducing learning rate to 0.1.\n",
      "Epoch 16/60\n",
      "97/98 [============================>.] - ETA: 0s - loss: 0.6399 - categorical_accuracy: 0.8017\n",
      "Epoch 00016: val_categorical_accuracy improved from 0.65180 to 0.66390, saving model to /content/drive/My Drive/models/resnet18_cifar100_fine_tuned.h5\n",
      "98/98 [==============================] - 50s 514ms/step - loss: 0.6398 - categorical_accuracy: 0.8015 - val_loss: 1.3624 - val_categorical_accuracy: 0.6639\n",
      "\n",
      "Epoch 00017: LearningRateScheduler reducing learning rate to 0.1.\n",
      "Epoch 17/60\n",
      "97/98 [============================>.] - ETA: 0s - loss: 0.6142 - categorical_accuracy: 0.8076\n",
      "Epoch 00017: val_categorical_accuracy did not improve from 0.66390\n",
      "98/98 [==============================] - 50s 508ms/step - loss: 0.6146 - categorical_accuracy: 0.8074 - val_loss: 1.4337 - val_categorical_accuracy: 0.6551\n",
      "\n",
      "Epoch 00018: LearningRateScheduler reducing learning rate to 0.1.\n",
      "Epoch 18/60\n",
      "97/98 [============================>.] - ETA: 0s - loss: 0.5784 - categorical_accuracy: 0.8191\n",
      "Epoch 00018: val_categorical_accuracy did not improve from 0.66390\n",
      "98/98 [==============================] - 50s 506ms/step - loss: 0.5789 - categorical_accuracy: 0.8190 - val_loss: 1.3689 - val_categorical_accuracy: 0.6607\n",
      "\n",
      "Epoch 00019: LearningRateScheduler reducing learning rate to 0.1.\n",
      "Epoch 19/60\n",
      "97/98 [============================>.] - ETA: 0s - loss: 0.5406 - categorical_accuracy: 0.8288\n",
      "Epoch 00019: val_categorical_accuracy did not improve from 0.66390\n",
      "98/98 [==============================] - 50s 506ms/step - loss: 0.5405 - categorical_accuracy: 0.8288 - val_loss: 1.4522 - val_categorical_accuracy: 0.6598\n",
      "\n",
      "Epoch 00020: LearningRateScheduler reducing learning rate to 0.1.\n",
      "Epoch 20/60\n",
      "97/98 [============================>.] - ETA: 0s - loss: 0.5148 - categorical_accuracy: 0.8359\n",
      "Epoch 00020: val_categorical_accuracy did not improve from 0.66390\n",
      "98/98 [==============================] - 50s 506ms/step - loss: 0.5153 - categorical_accuracy: 0.8357 - val_loss: 1.4598 - val_categorical_accuracy: 0.6615\n",
      "\n",
      "Epoch 00021: LearningRateScheduler reducing learning rate to 0.1.\n",
      "Epoch 21/60\n",
      "97/98 [============================>.] - ETA: 0s - loss: 0.4914 - categorical_accuracy: 0.8440\n",
      "Epoch 00021: val_categorical_accuracy improved from 0.66390 to 0.66720, saving model to /content/drive/My Drive/models/resnet18_cifar100_fine_tuned.h5\n",
      "98/98 [==============================] - 50s 514ms/step - loss: 0.4911 - categorical_accuracy: 0.8442 - val_loss: 1.4837 - val_categorical_accuracy: 0.6672\n",
      "\n",
      "Epoch 00022: LearningRateScheduler reducing learning rate to 0.1.\n",
      "Epoch 22/60\n",
      "97/98 [============================>.] - ETA: 0s - loss: 0.4576 - categorical_accuracy: 0.8531\n",
      "Epoch 00022: val_categorical_accuracy did not improve from 0.66720\n",
      "98/98 [==============================] - 50s 506ms/step - loss: 0.4580 - categorical_accuracy: 0.8529 - val_loss: 1.5498 - val_categorical_accuracy: 0.6570\n",
      "\n",
      "Epoch 00023: LearningRateScheduler reducing learning rate to 0.1.\n",
      "Epoch 23/60\n",
      "97/98 [============================>.] - ETA: 0s - loss: 0.4359 - categorical_accuracy: 0.8600\n",
      "Epoch 00023: val_categorical_accuracy did not improve from 0.66720\n",
      "98/98 [==============================] - 50s 510ms/step - loss: 0.4369 - categorical_accuracy: 0.8598 - val_loss: 1.7087 - val_categorical_accuracy: 0.6432\n",
      "\n",
      "Epoch 00024: LearningRateScheduler reducing learning rate to 0.1.\n",
      "Epoch 24/60\n",
      "97/98 [============================>.] - ETA: 0s - loss: 0.4132 - categorical_accuracy: 0.8676\n",
      "Epoch 00024: val_categorical_accuracy did not improve from 0.66720\n",
      "98/98 [==============================] - 49s 504ms/step - loss: 0.4131 - categorical_accuracy: 0.8675 - val_loss: 1.6286 - val_categorical_accuracy: 0.6492\n",
      "\n",
      "Epoch 00025: LearningRateScheduler reducing learning rate to 0.1.\n",
      "Epoch 25/60\n",
      "97/98 [============================>.] - ETA: 0s - loss: 0.3953 - categorical_accuracy: 0.8731\n",
      "Epoch 00025: val_categorical_accuracy did not improve from 0.66720\n",
      "98/98 [==============================] - 49s 504ms/step - loss: 0.3954 - categorical_accuracy: 0.8731 - val_loss: 1.5384 - val_categorical_accuracy: 0.6599\n",
      "\n",
      "Epoch 00026: LearningRateScheduler reducing learning rate to 0.1.\n",
      "Epoch 26/60\n",
      "97/98 [============================>.] - ETA: 0s - loss: 0.3681 - categorical_accuracy: 0.8817\n",
      "Epoch 00026: val_categorical_accuracy did not improve from 0.66720\n",
      "98/98 [==============================] - 50s 505ms/step - loss: 0.3691 - categorical_accuracy: 0.8813 - val_loss: 1.5902 - val_categorical_accuracy: 0.6604\n",
      "\n",
      "Epoch 00027: LearningRateScheduler reducing learning rate to 0.1.\n",
      "Epoch 27/60\n",
      "97/98 [============================>.] - ETA: 0s - loss: 0.3564 - categorical_accuracy: 0.8847\n",
      "Epoch 00027: val_categorical_accuracy did not improve from 0.66720\n",
      "98/98 [==============================] - 49s 504ms/step - loss: 0.3564 - categorical_accuracy: 0.8847 - val_loss: 1.6964 - val_categorical_accuracy: 0.6547\n",
      "\n",
      "Epoch 00028: LearningRateScheduler reducing learning rate to 0.1.\n",
      "Epoch 28/60\n",
      "97/98 [============================>.] - ETA: 0s - loss: 0.3444 - categorical_accuracy: 0.8904\n",
      "Epoch 00028: val_categorical_accuracy did not improve from 0.66720\n",
      "98/98 [==============================] - 50s 507ms/step - loss: 0.3448 - categorical_accuracy: 0.8903 - val_loss: 1.6213 - val_categorical_accuracy: 0.6601\n",
      "\n",
      "Epoch 00029: LearningRateScheduler reducing learning rate to 0.1.\n",
      "Epoch 29/60\n",
      "97/98 [============================>.] - ETA: 0s - loss: 0.3198 - categorical_accuracy: 0.8976\n",
      "Epoch 00029: val_categorical_accuracy did not improve from 0.66720\n",
      "98/98 [==============================] - 50s 507ms/step - loss: 0.3201 - categorical_accuracy: 0.8975 - val_loss: 1.6366 - val_categorical_accuracy: 0.6616\n",
      "\n",
      "Epoch 00030: LearningRateScheduler reducing learning rate to 0.1.\n",
      "Epoch 30/60\n",
      "97/98 [============================>.] - ETA: 0s - loss: 0.3121 - categorical_accuracy: 0.9000\n",
      "Epoch 00030: val_categorical_accuracy improved from 0.66720 to 0.67130, saving model to /content/drive/My Drive/models/resnet18_cifar100_fine_tuned.h5\n",
      "98/98 [==============================] - 51s 516ms/step - loss: 0.3123 - categorical_accuracy: 0.8997 - val_loss: 1.6350 - val_categorical_accuracy: 0.6713\n",
      "\n",
      "Epoch 00031: LearningRateScheduler reducing learning rate to 0.02.\n",
      "Epoch 31/60\n",
      "97/98 [============================>.] - ETA: 0s - loss: 0.2458 - categorical_accuracy: 0.9223\n",
      "Epoch 00031: val_categorical_accuracy improved from 0.67130 to 0.71020, saving model to /content/drive/My Drive/models/resnet18_cifar100_fine_tuned.h5\n",
      "98/98 [==============================] - 51s 519ms/step - loss: 0.2456 - categorical_accuracy: 0.9224 - val_loss: 1.3566 - val_categorical_accuracy: 0.7102\n",
      "\n",
      "Epoch 00032: LearningRateScheduler reducing learning rate to 0.02.\n",
      "Epoch 32/60\n",
      "97/98 [============================>.] - ETA: 0s - loss: 0.1973 - categorical_accuracy: 0.9397\n",
      "Epoch 00032: val_categorical_accuracy improved from 0.71020 to 0.71200, saving model to /content/drive/My Drive/models/resnet18_cifar100_fine_tuned.h5\n",
      "98/98 [==============================] - 51s 516ms/step - loss: 0.1975 - categorical_accuracy: 0.9397 - val_loss: 1.3413 - val_categorical_accuracy: 0.7120\n",
      "\n",
      "Epoch 00033: LearningRateScheduler reducing learning rate to 0.02.\n",
      "Epoch 33/60\n",
      "97/98 [============================>.] - ETA: 0s - loss: 0.1799 - categorical_accuracy: 0.9461\n",
      "Epoch 00033: val_categorical_accuracy did not improve from 0.71200\n",
      "98/98 [==============================] - 49s 503ms/step - loss: 0.1802 - categorical_accuracy: 0.9462 - val_loss: 1.3569 - val_categorical_accuracy: 0.7101\n",
      "\n",
      "Epoch 00034: LearningRateScheduler reducing learning rate to 0.02.\n",
      "Epoch 34/60\n",
      "97/98 [============================>.] - ETA: 0s - loss: 0.1642 - categorical_accuracy: 0.9517\n",
      "Epoch 00034: val_categorical_accuracy did not improve from 0.71200\n",
      "98/98 [==============================] - 49s 505ms/step - loss: 0.1642 - categorical_accuracy: 0.9516 - val_loss: 1.3979 - val_categorical_accuracy: 0.7116\n",
      "\n",
      "Epoch 00035: LearningRateScheduler reducing learning rate to 0.02.\n",
      "Epoch 35/60\n",
      "97/98 [============================>.] - ETA: 0s - loss: 0.1573 - categorical_accuracy: 0.9532\n",
      "Epoch 00035: val_categorical_accuracy did not improve from 0.71200\n",
      "98/98 [==============================] - 49s 503ms/step - loss: 0.1571 - categorical_accuracy: 0.9532 - val_loss: 1.3909 - val_categorical_accuracy: 0.7095\n",
      "\n",
      "Epoch 00036: LearningRateScheduler reducing learning rate to 0.02.\n",
      "Epoch 36/60\n",
      "97/98 [============================>.] - ETA: 0s - loss: 0.1526 - categorical_accuracy: 0.9547\n",
      "Epoch 00036: val_categorical_accuracy improved from 0.71200 to 0.71270, saving model to /content/drive/My Drive/models/resnet18_cifar100_fine_tuned.h5\n",
      "98/98 [==============================] - 50s 515ms/step - loss: 0.1525 - categorical_accuracy: 0.9546 - val_loss: 1.3642 - val_categorical_accuracy: 0.7127\n",
      "\n",
      "Epoch 00037: LearningRateScheduler reducing learning rate to 0.02.\n",
      "Epoch 37/60\n",
      "97/98 [============================>.] - ETA: 0s - loss: 0.1456 - categorical_accuracy: 0.9567\n",
      "Epoch 00037: val_categorical_accuracy improved from 0.71270 to 0.71310, saving model to /content/drive/My Drive/models/resnet18_cifar100_fine_tuned.h5\n",
      "98/98 [==============================] - 50s 513ms/step - loss: 0.1458 - categorical_accuracy: 0.9566 - val_loss: 1.3879 - val_categorical_accuracy: 0.7131\n",
      "\n",
      "Epoch 00038: LearningRateScheduler reducing learning rate to 0.02.\n",
      "Epoch 38/60\n",
      "97/98 [============================>.] - ETA: 0s - loss: 0.1435 - categorical_accuracy: 0.9575\n",
      "Epoch 00038: val_categorical_accuracy did not improve from 0.71310\n",
      "98/98 [==============================] - 49s 502ms/step - loss: 0.1435 - categorical_accuracy: 0.9576 - val_loss: 1.4004 - val_categorical_accuracy: 0.7118\n",
      "\n",
      "Epoch 00039: LearningRateScheduler reducing learning rate to 0.02.\n",
      "Epoch 39/60\n",
      "97/98 [============================>.] - ETA: 0s - loss: 0.1390 - categorical_accuracy: 0.9582\n",
      "Epoch 00039: val_categorical_accuracy did not improve from 0.71310\n",
      "98/98 [==============================] - 49s 503ms/step - loss: 0.1390 - categorical_accuracy: 0.9581 - val_loss: 1.4182 - val_categorical_accuracy: 0.7129\n",
      "\n",
      "Epoch 00040: LearningRateScheduler reducing learning rate to 0.02.\n",
      "Epoch 40/60\n",
      "97/98 [============================>.] - ETA: 0s - loss: 0.1339 - categorical_accuracy: 0.9597\n",
      "Epoch 00040: val_categorical_accuracy did not improve from 0.71310\n",
      "98/98 [==============================] - 49s 501ms/step - loss: 0.1337 - categorical_accuracy: 0.9598 - val_loss: 1.4298 - val_categorical_accuracy: 0.7109\n",
      "\n",
      "Epoch 00041: LearningRateScheduler reducing learning rate to 0.02.\n",
      "Epoch 41/60\n",
      "97/98 [============================>.] - ETA: 0s - loss: 0.1326 - categorical_accuracy: 0.9591\n",
      "Epoch 00041: val_categorical_accuracy did not improve from 0.71310\n",
      "98/98 [==============================] - 49s 503ms/step - loss: 0.1327 - categorical_accuracy: 0.9590 - val_loss: 1.4255 - val_categorical_accuracy: 0.7123\n",
      "\n",
      "Epoch 00042: LearningRateScheduler reducing learning rate to 0.02.\n",
      "Epoch 42/60\n",
      "97/98 [============================>.] - ETA: 0s - loss: 0.1282 - categorical_accuracy: 0.9614\n",
      "Epoch 00042: val_categorical_accuracy improved from 0.71310 to 0.71470, saving model to /content/drive/My Drive/models/resnet18_cifar100_fine_tuned.h5\n",
      "98/98 [==============================] - 51s 518ms/step - loss: 0.1284 - categorical_accuracy: 0.9615 - val_loss: 1.4307 - val_categorical_accuracy: 0.7147\n",
      "\n",
      "Epoch 00043: LearningRateScheduler reducing learning rate to 0.02.\n",
      "Epoch 43/60\n",
      "97/98 [============================>.] - ETA: 0s - loss: 0.1281 - categorical_accuracy: 0.9623\n",
      "Epoch 00043: val_categorical_accuracy did not improve from 0.71470\n",
      "98/98 [==============================] - 49s 502ms/step - loss: 0.1280 - categorical_accuracy: 0.9623 - val_loss: 1.4561 - val_categorical_accuracy: 0.7132\n",
      "\n",
      "Epoch 00044: LearningRateScheduler reducing learning rate to 0.02.\n",
      "Epoch 44/60\n",
      "97/98 [============================>.] - ETA: 0s - loss: 0.1259 - categorical_accuracy: 0.9610\n",
      "Epoch 00044: val_categorical_accuracy did not improve from 0.71470\n",
      "98/98 [==============================] - 49s 503ms/step - loss: 0.1256 - categorical_accuracy: 0.9611 - val_loss: 1.4641 - val_categorical_accuracy: 0.7129\n",
      "\n",
      "Epoch 00045: LearningRateScheduler reducing learning rate to 0.02.\n",
      "Epoch 45/60\n",
      "97/98 [============================>.] - ETA: 0s - loss: 0.1240 - categorical_accuracy: 0.9620\n",
      "Epoch 00045: val_categorical_accuracy improved from 0.71470 to 0.71580, saving model to /content/drive/My Drive/models/resnet18_cifar100_fine_tuned.h5\n",
      "98/98 [==============================] - 50s 511ms/step - loss: 0.1237 - categorical_accuracy: 0.9620 - val_loss: 1.4670 - val_categorical_accuracy: 0.7158\n",
      "\n",
      "Epoch 00046: LearningRateScheduler reducing learning rate to 0.02.\n",
      "Epoch 46/60\n",
      "97/98 [============================>.] - ETA: 0s - loss: 0.1209 - categorical_accuracy: 0.9645\n",
      "Epoch 00046: val_categorical_accuracy did not improve from 0.71580\n",
      "98/98 [==============================] - 49s 504ms/step - loss: 0.1208 - categorical_accuracy: 0.9646 - val_loss: 1.4561 - val_categorical_accuracy: 0.7145\n",
      "\n",
      "Epoch 00047: LearningRateScheduler reducing learning rate to 0.02.\n",
      "Epoch 47/60\n",
      "97/98 [============================>.] - ETA: 0s - loss: 0.1153 - categorical_accuracy: 0.9661\n",
      "Epoch 00047: val_categorical_accuracy did not improve from 0.71580\n",
      "98/98 [==============================] - 49s 503ms/step - loss: 0.1153 - categorical_accuracy: 0.9661 - val_loss: 1.4771 - val_categorical_accuracy: 0.7117\n",
      "\n",
      "Epoch 00048: LearningRateScheduler reducing learning rate to 0.02.\n",
      "Epoch 48/60\n",
      "97/98 [============================>.] - ETA: 0s - loss: 0.1185 - categorical_accuracy: 0.9648\n",
      "Epoch 00048: val_categorical_accuracy did not improve from 0.71580\n",
      "98/98 [==============================] - 50s 505ms/step - loss: 0.1183 - categorical_accuracy: 0.9648 - val_loss: 1.4829 - val_categorical_accuracy: 0.7114\n",
      "\n",
      "Epoch 00049: LearningRateScheduler reducing learning rate to 0.02.\n",
      "Epoch 49/60\n",
      "97/98 [============================>.] - ETA: 0s - loss: 0.1105 - categorical_accuracy: 0.9670\n",
      "Epoch 00049: val_categorical_accuracy did not improve from 0.71580\n",
      "98/98 [==============================] - 49s 503ms/step - loss: 0.1106 - categorical_accuracy: 0.9669 - val_loss: 1.4755 - val_categorical_accuracy: 0.7134\n",
      "\n",
      "Epoch 00050: LearningRateScheduler reducing learning rate to 0.02.\n",
      "Epoch 50/60\n",
      "97/98 [============================>.] - ETA: 0s - loss: 0.1115 - categorical_accuracy: 0.9662\n",
      "Epoch 00050: val_categorical_accuracy did not improve from 0.71580\n",
      "98/98 [==============================] - 49s 503ms/step - loss: 0.1114 - categorical_accuracy: 0.9663 - val_loss: 1.5061 - val_categorical_accuracy: 0.7091\n",
      "\n",
      "Epoch 00051: LearningRateScheduler reducing learning rate to 0.02.\n",
      "Epoch 51/60\n",
      "97/98 [============================>.] - ETA: 0s - loss: 0.1090 - categorical_accuracy: 0.9668\n",
      "Epoch 00051: val_categorical_accuracy did not improve from 0.71580\n",
      "98/98 [==============================] - 49s 502ms/step - loss: 0.1087 - categorical_accuracy: 0.9669 - val_loss: 1.4961 - val_categorical_accuracy: 0.7155\n",
      "\n",
      "Epoch 00052: LearningRateScheduler reducing learning rate to 0.02.\n",
      "Epoch 52/60\n",
      "97/98 [============================>.] - ETA: 0s - loss: 0.1101 - categorical_accuracy: 0.9676\n",
      "Epoch 00052: val_categorical_accuracy did not improve from 0.71580\n",
      "98/98 [==============================] - 49s 504ms/step - loss: 0.1100 - categorical_accuracy: 0.9676 - val_loss: 1.4978 - val_categorical_accuracy: 0.7132\n",
      "\n",
      "Epoch 00053: LearningRateScheduler reducing learning rate to 0.02.\n",
      "Epoch 53/60\n",
      "97/98 [============================>.] - ETA: 0s - loss: 0.1066 - categorical_accuracy: 0.9681\n",
      "Epoch 00053: val_categorical_accuracy did not improve from 0.71580\n",
      "98/98 [==============================] - 49s 502ms/step - loss: 0.1067 - categorical_accuracy: 0.9681 - val_loss: 1.5230 - val_categorical_accuracy: 0.7120\n",
      "\n",
      "Epoch 00054: LearningRateScheduler reducing learning rate to 0.02.\n",
      "Epoch 54/60\n",
      "97/98 [============================>.] - ETA: 0s - loss: 0.1039 - categorical_accuracy: 0.9690\n",
      "Epoch 00054: val_categorical_accuracy did not improve from 0.71580\n",
      "98/98 [==============================] - 49s 505ms/step - loss: 0.1036 - categorical_accuracy: 0.9692 - val_loss: 1.4919 - val_categorical_accuracy: 0.7138\n",
      "\n",
      "Epoch 00055: LearningRateScheduler reducing learning rate to 0.02.\n",
      "Epoch 55/60\n",
      "97/98 [============================>.] - ETA: 0s - loss: 0.1024 - categorical_accuracy: 0.9700\n",
      "Epoch 00055: val_categorical_accuracy did not improve from 0.71580\n",
      "98/98 [==============================] - 49s 504ms/step - loss: 0.1020 - categorical_accuracy: 0.9701 - val_loss: 1.5328 - val_categorical_accuracy: 0.7116\n",
      "\n",
      "Epoch 00056: LearningRateScheduler reducing learning rate to 0.02.\n",
      "Epoch 56/60\n",
      "97/98 [============================>.] - ETA: 0s - loss: 0.1017 - categorical_accuracy: 0.9695\n",
      "Epoch 00056: val_categorical_accuracy did not improve from 0.71580\n",
      "98/98 [==============================] - 49s 503ms/step - loss: 0.1022 - categorical_accuracy: 0.9695 - val_loss: 1.5495 - val_categorical_accuracy: 0.7104\n",
      "\n",
      "Epoch 00057: LearningRateScheduler reducing learning rate to 0.02.\n",
      "Epoch 57/60\n",
      "97/98 [============================>.] - ETA: 0s - loss: 0.0991 - categorical_accuracy: 0.9704\n",
      "Epoch 00057: val_categorical_accuracy improved from 0.71580 to 0.71600, saving model to /content/drive/My Drive/models/resnet18_cifar100_fine_tuned.h5\n",
      "98/98 [==============================] - 50s 513ms/step - loss: 0.0991 - categorical_accuracy: 0.9704 - val_loss: 1.5182 - val_categorical_accuracy: 0.7160\n",
      "\n",
      "Epoch 00058: LearningRateScheduler reducing learning rate to 0.02.\n",
      "Epoch 58/60\n",
      "97/98 [============================>.] - ETA: 0s - loss: 0.1014 - categorical_accuracy: 0.9699\n",
      "Epoch 00058: val_categorical_accuracy did not improve from 0.71600\n",
      "98/98 [==============================] - 49s 500ms/step - loss: 0.1011 - categorical_accuracy: 0.9701 - val_loss: 1.5564 - val_categorical_accuracy: 0.7090\n",
      "\n",
      "Epoch 00059: LearningRateScheduler reducing learning rate to 0.02.\n",
      "Epoch 59/60\n",
      "97/98 [============================>.] - ETA: 0s - loss: 0.0974 - categorical_accuracy: 0.9706\n",
      "Epoch 00059: val_categorical_accuracy did not improve from 0.71600\n",
      "98/98 [==============================] - 49s 502ms/step - loss: 0.0974 - categorical_accuracy: 0.9706 - val_loss: 1.5658 - val_categorical_accuracy: 0.7069\n",
      "\n",
      "Epoch 00060: LearningRateScheduler reducing learning rate to 0.02.\n",
      "Epoch 60/60\n",
      "97/98 [============================>.] - ETA: 0s - loss: 0.0987 - categorical_accuracy: 0.9701\n",
      "Epoch 00060: val_categorical_accuracy did not improve from 0.71600\n",
      "98/98 [==============================] - 49s 503ms/step - loss: 0.0986 - categorical_accuracy: 0.9701 - val_loss: 1.5500 - val_categorical_accuracy: 0.7104\n"
     ]
    },
    {
     "data": {
      "text/plain": [
       "<tensorflow.python.keras.callbacks.History at 0x7f9ff6559f28>"
      ]
     },
     "execution_count": 58,
     "metadata": {
      "tags": []
     },
     "output_type": "execute_result"
    }
   ],
   "source": [
    "# Train the model i.e. perform further fine tuning\n",
    "\n",
    "from math import ceil\n",
    "from tensorflow.keras.callbacks import ModelCheckpoint\n",
    "checkpointer = ModelCheckpoint(\"/content/drive/My Drive/models/resnet18_cifar100_fine_tuned.h5\", monitor='val_categorical_accuracy', verbose=1, save_best_only=True)\n",
    "\n",
    "batch_size = 512\n",
    "\n",
    "\n",
    "model.fit_generator(datagen.flow(x_train,y_train,batch_size=batch_size), steps_per_epoch=ceil(len(x_train)/batch_size), epochs = 60, validation_data = datagen_val.flow(x_test,y_test, batch_size=batch_size), validation_steps=ceil(len(x_test)/batch_size), callbacks=[LearningRateScheduler(scheduler, verbose=1),checkpointer])\n"
   ]
  },
  {
   "cell_type": "code",
   "execution_count": 0,
   "metadata": {
    "colab": {},
    "colab_type": "code",
    "id": "LmwHJWY6oL9b"
   },
   "outputs": [],
   "source": []
  },
  {
   "cell_type": "markdown",
   "metadata": {
    "colab_type": "text",
    "id": "XFL3JnAD0uWL"
   },
   "source": [
    "## **Observations :**\n",
    "\n",
    "\n",
    "\n",
    "*   Transfer learning + Fine tuning is carried out for total of 150 epochs\n",
    "*   Final validation accuracy obtained is 71.60%\n",
    "*   ResNet18 model is modified so that it can be used with CIFAR100 dataset where image size is 32x32\n",
    "*   ResNet18 modifications - Removed Initial MaxPool layer. Reduced the stride of 7x7 Convolutional layer from Stride 2 to Stride 1. This helps with retaining the channel size(>2x2) after the last Convolutional layer.\n",
    "\n",
    "\n"
   ]
  },
  {
   "cell_type": "markdown",
   "metadata": {
    "colab_type": "text",
    "id": "BpuLNgLP02QB"
   },
   "source": [
    "## References & Attributions :\n",
    "\n",
    "\n",
    "\n",
    "*   https://twitter.com/jeremyphoward/status/1182062808206213120?s=12\n",
    "*   https://github.com/qubvel/classification_models\n",
    "\n"
   ]
  },
  {
   "cell_type": "markdown",
   "metadata": {
    "colab_type": "text",
    "id": "z_ZhTrRvxhJ6"
   },
   "source": [
    "###### Disclaimer: The contents of this notebook are used for educational purposes i.e. for learning and research."
   ]
  }
 ],
 "metadata": {
  "accelerator": "GPU",
  "colab": {
   "collapsed_sections": [],
   "machine_shape": "hm",
   "name": "Assignment20.ipynb",
   "provenance": []
  },
  "kernelspec": {
   "display_name": "Python 3",
   "language": "python",
   "name": "python3"
  },
  "language_info": {
   "codemirror_mode": {
    "name": "ipython",
    "version": 3
   },
   "file_extension": ".py",
   "mimetype": "text/x-python",
   "name": "python",
   "nbconvert_exporter": "python",
   "pygments_lexer": "ipython3",
   "version": "3.7.4"
  }
 },
 "nbformat": 4,
 "nbformat_minor": 1
}
