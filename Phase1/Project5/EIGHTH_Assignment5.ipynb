{
 "cells": [
  {
   "cell_type": "code",
   "execution_count": 0,
   "metadata": {
    "colab": {
     "base_uri": "https://localhost:8080/",
     "height": 34
    },
    "colab_type": "code",
    "id": "0SJyVpgSxHt4",
    "outputId": "aebb6291-8ef2-4cb8-ef50-d4705133f9fa"
   },
   "outputs": [
    {
     "name": "stderr",
     "output_type": "stream",
     "text": [
      "Using TensorFlow backend.\n"
     ]
    }
   ],
   "source": [
    "# Import numpy, Keras models, layers, utils, preprocessing and datasets modules\n",
    "\n",
    "import numpy as np\n",
    "\n",
    "from keras.models import Sequential\n",
    "from keras.layers import Dense, Dropout, Activation, Flatten, Add, BatchNormalization\n",
    "from keras.layers import Convolution2D, MaxPooling2D\n",
    "from keras.utils import np_utils\n",
    "from keras.preprocessing.image import ImageDataGenerator\n",
    "\n",
    "from keras.datasets import mnist"
   ]
  },
  {
   "cell_type": "code",
   "execution_count": 0,
   "metadata": {
    "colab": {
     "base_uri": "https://localhost:8080/",
     "height": 51
    },
    "colab_type": "code",
    "id": "YlEUplvoxKAT",
    "outputId": "783a12b4-a9ea-4f0e-bcf0-728f0814d0b8"
   },
   "outputs": [
    {
     "name": "stdout",
     "output_type": "stream",
     "text": [
      "Downloading data from https://s3.amazonaws.com/img-datasets/mnist.npz\n",
      "11493376/11490434 [==============================] - 0s 0us/step\n"
     ]
    }
   ],
   "source": [
    "# Load MNIST dataset from Keras datasets module seperately as train and test datasets\n",
    "(X_train, y_train), (X_test, y_test) = mnist.load_data()\n"
   ]
  },
  {
   "cell_type": "code",
   "execution_count": 0,
   "metadata": {
    "colab": {
     "base_uri": "https://localhost:8080/",
     "height": 303
    },
    "colab_type": "code",
    "id": "I6Y9Va-xxMXG",
    "outputId": "7a8b24fe-c357-428c-c769-5cc20672e532"
   },
   "outputs": [
    {
     "name": "stdout",
     "output_type": "stream",
     "text": [
      "(60000, 28, 28)\n"
     ]
    },
    {
     "data": {
      "text/plain": [
       "<matplotlib.image.AxesImage at 0x7f7c47e55198>"
      ]
     },
     "execution_count": 3,
     "metadata": {
      "tags": []
     },
     "output_type": "execute_result"
    },
    {
     "data": {
      "image/png": "[encoded data removed]",
      "text/plain": [
       "<Figure size 432x288 with 1 Axes>"
      ]
     },
     "metadata": {
      "tags": []
     },
     "output_type": "display_data"
    }
   ],
   "source": [
    "# Display the shape of train dataset. Also show the first image in the train dataset\n",
    "print (X_train.shape)\n",
    "from matplotlib import pyplot as plt\n",
    "%matplotlib inline\n",
    "plt.imshow(X_train[1])"
   ]
  },
  {
   "cell_type": "code",
   "execution_count": 0,
   "metadata": {
    "colab": {},
    "colab_type": "code",
    "id": "lxDZxPhhxOgO"
   },
   "outputs": [],
   "source": [
    "# Reshape train and test dataset so that it also contains the channel information. MNIST contains grey scale images, hence this has just 1 channel\n",
    "X_train = X_train.reshape(X_train.shape[0], 28, 28,1)\n",
    "X_test = X_test.reshape(X_test.shape[0], 28, 28,1)"
   ]
  },
  {
   "cell_type": "code",
   "execution_count": 0,
   "metadata": {
    "colab": {},
    "colab_type": "code",
    "id": "3HzMqbTnxQQW"
   },
   "outputs": [],
   "source": [
    "# Convert the Tensor i.e. train and test dataset to float tensors. Also perform a min-max normalization where min = 0 and max = 255 for each pixel. This is also called Pixel normalization.\n",
    "\n",
    "X_train = X_train.astype('float32')\n",
    "X_test = X_test.astype('float32')\n",
    "X_train /= 255\n",
    "X_test /= 255"
   ]
  },
  {
   "cell_type": "code",
   "execution_count": 0,
   "metadata": {
    "colab": {},
    "colab_type": "code",
    "id": "7LdYiW6ixR9e"
   },
   "outputs": [],
   "source": [
    "# Show 10 items of labels from train dataset\n",
    "# Convert 1-dimensional class arrays to 10-dimensional class matrices for train and test labels\n",
    "\n",
    "y_train[:10]\n",
    "Y_train = np_utils.to_categorical(y_train, 10)\n",
    "Y_test = np_utils.to_categorical(y_test, 10)"
   ]
  },
  {
   "cell_type": "code",
   "execution_count": 0,
   "metadata": {
    "colab": {
     "base_uri": "https://localhost:8080/",
     "height": 187
    },
    "colab_type": "code",
    "id": "rFR0F9j0xVp2",
    "outputId": "cd7b5b57-c042-4c5b-e73c-2c7345c1b82f"
   },
   "outputs": [
    {
     "data": {
      "text/plain": [
       "array([[0., 0., 0., 0., 0., 1., 0., 0., 0., 0.],\n",
       "       [1., 0., 0., 0., 0., 0., 0., 0., 0., 0.],\n",
       "       [0., 0., 0., 0., 1., 0., 0., 0., 0., 0.],\n",
       "       [0., 1., 0., 0., 0., 0., 0., 0., 0., 0.],\n",
       "       [0., 0., 0., 0., 0., 0., 0., 0., 0., 1.],\n",
       "       [0., 0., 1., 0., 0., 0., 0., 0., 0., 0.],\n",
       "       [0., 1., 0., 0., 0., 0., 0., 0., 0., 0.],\n",
       "       [0., 0., 0., 1., 0., 0., 0., 0., 0., 0.],\n",
       "       [0., 1., 0., 0., 0., 0., 0., 0., 0., 0.],\n",
       "       [0., 0., 0., 0., 1., 0., 0., 0., 0., 0.]], dtype=float32)"
      ]
     },
     "execution_count": 7,
     "metadata": {
      "tags": []
     },
     "output_type": "execute_result"
    }
   ],
   "source": [
    "# Show 10 labels from train dataset\n",
    "\n",
    "Y_train[:10]"
   ]
  },
  {
   "cell_type": "code",
   "execution_count": 0,
   "metadata": {
    "colab": {},
    "colab_type": "code",
    "id": "kdXWLFOyvkeQ"
   },
   "outputs": [],
   "source": [
    "#Utilize ImageDataGenerator from Keras to perform Image Normalization i.e. set input mean to 0 over the dataset, feature-wise and divide inputs by std of the dataset, feature-wise\n",
    "\n",
    "datagen = ImageDataGenerator(featurewise_center=True, featurewise_std_normalization=True)"
   ]
  },
  {
   "cell_type": "code",
   "execution_count": 0,
   "metadata": {
    "colab": {},
    "colab_type": "code",
    "id": "AndYn2Aevkq7"
   },
   "outputs": [],
   "source": [
    "#Fit the ImageDataGenerator so that mean and standard deviation are obtained for train dataset\n",
    "\n",
    "datagen.fit(X_train)"
   ]
  },
  {
   "cell_type": "code",
   "execution_count": 0,
   "metadata": {
    "colab": {
     "base_uri": "https://localhost:8080/",
     "height": 34
    },
    "colab_type": "code",
    "id": "-rgcb0gnvoqW",
    "outputId": "99af228f-fe78-426b-a1ef-03b3d228c15c"
   },
   "outputs": [
    {
     "name": "stdout",
     "output_type": "stream",
     "text": [
      "Batches train=469, test=79\n"
     ]
    }
   ],
   "source": [
    "# Obtain iterators for train and test datasets. This is useful to process huge data and perform Image Normalization/Augmentation at run time\n",
    "\n",
    "batch_size=128\n",
    "train_iterator = datagen.flow(X_train, Y_train, batch_size=batch_size)\n",
    "test_iterator = datagen.flow(X_test, Y_test, batch_size=batch_size, shuffle = False)\n",
    "print('Batches train=%d, test=%d' % (len(train_iterator), len(test_iterator)))"
   ]
  },
  {
   "cell_type": "code",
   "execution_count": 0,
   "metadata": {
    "colab": {
     "base_uri": "https://localhost:8080/",
     "height": 51
    },
    "colab_type": "code",
    "id": "LxB2iAD7lNw3",
    "outputId": "bcbe81a2-9ca6-4fb4-ff96-be0ce948e6f1"
   },
   "outputs": [
    {
     "name": "stdout",
     "output_type": "stream",
     "text": [
      "Statistics train=0.131 (0.308), test=0.133 (0.310)\n",
      "Data Generator mean=0.131, std=0.308\n"
     ]
    }
   ],
   "source": [
    "#Validate mean and standard deviation from ImageDataGenerator using train dataset with values calculated from train dataset\n",
    "\n",
    "batchX, batchy = train_iterator.next()\n",
    "\n",
    "\n",
    "print('Statistics train=%.3f (%.3f), test=%.3f (%.3f)' % (X_train.mean(), X_train.std(), X_test.mean(), X_test.std()))\n",
    "\n",
    "print('Data Generator mean=%.3f, std=%.3f' % (datagen.mean, datagen.std))"
   ]
  },
  {
   "cell_type": "code",
   "execution_count": 0,
   "metadata": {
    "colab": {
     "base_uri": "https://localhost:8080/",
     "height": 1499
    },
    "colab_type": "code",
    "id": "mDpXf4YQxXRm",
    "outputId": "08d213de-7026-45d1-c3a9-2351679a8064"
   },
   "outputs": [
    {
     "name": "stdout",
     "output_type": "stream",
     "text": [
      "WARNING:tensorflow:From /usr/local/lib/python3.6/dist-packages/tensorflow/python/framework/op_def_library.py:263: colocate_with (from tensorflow.python.framework.ops) is deprecated and will be removed in a future version.\n",
      "Instructions for updating:\n",
      "Colocations handled automatically by placer.\n"
     ]
    },
    {
     "name": "stderr",
     "output_type": "stream",
     "text": [
      "/usr/local/lib/python3.6/dist-packages/ipykernel_launcher.py:5: UserWarning: Update your `Conv2D` call to the Keras 2 API: `Conv2D(16, (3, 3), activation=None, use_bias=False, kernel_regularizer=<keras.reg..., input_shape=(28, 28, 1...)`\n",
      "  \"\"\"\n"
     ]
    },
    {
     "name": "stdout",
     "output_type": "stream",
     "text": [
      "WARNING:tensorflow:From /usr/local/lib/python3.6/dist-packages/keras/backend/tensorflow_backend.py:3445: calling dropout (from tensorflow.python.ops.nn_ops) with keep_prob is deprecated and will be removed in a future version.\n",
      "Instructions for updating:\n",
      "Please use `rate` instead of `keep_prob`. Rate should be set to `rate = 1 - keep_prob`.\n"
     ]
    },
    {
     "name": "stderr",
     "output_type": "stream",
     "text": [
      "/usr/local/lib/python3.6/dist-packages/ipykernel_launcher.py:10: UserWarning: Update your `Conv2D` call to the Keras 2 API: `Conv2D(32, (3, 3), activation=None, use_bias=False, kernel_regularizer=<keras.reg...)`\n",
      "  # Remove the CWD from sys.path while we load stuff.\n",
      "/usr/local/lib/python3.6/dist-packages/ipykernel_launcher.py:15: UserWarning: Update your `Conv2D` call to the Keras 2 API: `Conv2D(10, (1, 1), activation=\"relu\", use_bias=False, kernel_regularizer=<keras.reg...)`\n",
      "  from ipykernel import kernelapp as app\n",
      "/usr/local/lib/python3.6/dist-packages/ipykernel_launcher.py:19: UserWarning: Update your `Conv2D` call to the Keras 2 API: `Conv2D(16, (3, 3), activation=None, use_bias=False, kernel_regularizer=<keras.reg...)`\n",
      "/usr/local/lib/python3.6/dist-packages/ipykernel_launcher.py:25: UserWarning: Update your `Conv2D` call to the Keras 2 API: `Conv2D(16, (3, 3), activation=None, use_bias=False, kernel_regularizer=<keras.reg...)`\n",
      "/usr/local/lib/python3.6/dist-packages/ipykernel_launcher.py:31: UserWarning: Update your `Conv2D` call to the Keras 2 API: `Conv2D(16, (3, 3), activation=None, use_bias=False, kernel_regularizer=<keras.reg...)`\n",
      "/usr/local/lib/python3.6/dist-packages/ipykernel_launcher.py:37: UserWarning: Update your `Conv2D` call to the Keras 2 API: `Conv2D(16, (3, 3), activation=None, use_bias=False, kernel_regularizer=<keras.reg...)`\n",
      "/usr/local/lib/python3.6/dist-packages/ipykernel_launcher.py:43: UserWarning: Update your `Conv2D` call to the Keras 2 API: `Conv2D(10, (4, 4), use_bias=False)`\n"
     ]
    },
    {
     "name": "stdout",
     "output_type": "stream",
     "text": [
      "_________________________________________________________________\n",
      "Layer (type)                 Output Shape              Param #   \n",
      "=================================================================\n",
      "conv2d_1 (Conv2D)            (None, 26, 26, 16)        144       \n",
      "_________________________________________________________________\n",
      "batch_normalization_1 (Batch (None, 26, 26, 16)        64        \n",
      "_________________________________________________________________\n",
      "activation_1 (Activation)    (None, 26, 26, 16)        0         \n",
      "_________________________________________________________________\n",
      "dropout_1 (Dropout)          (None, 26, 26, 16)        0         \n",
      "_________________________________________________________________\n",
      "conv2d_2 (Conv2D)            (None, 24, 24, 32)        4608      \n",
      "_________________________________________________________________\n",
      "batch_normalization_2 (Batch (None, 24, 24, 32)        128       \n",
      "_________________________________________________________________\n",
      "activation_2 (Activation)    (None, 24, 24, 32)        0         \n",
      "_________________________________________________________________\n",
      "dropout_2 (Dropout)          (None, 24, 24, 32)        0         \n",
      "_________________________________________________________________\n",
      "conv2d_3 (Conv2D)            (None, 24, 24, 10)        320       \n",
      "_________________________________________________________________\n",
      "max_pooling2d_1 (MaxPooling2 (None, 12, 12, 10)        0         \n",
      "_________________________________________________________________\n",
      "conv2d_4 (Conv2D)            (None, 10, 10, 16)        1440      \n",
      "_________________________________________________________________\n",
      "batch_normalization_3 (Batch (None, 10, 10, 16)        64        \n",
      "_________________________________________________________________\n",
      "activation_3 (Activation)    (None, 10, 10, 16)        0         \n",
      "_________________________________________________________________\n",
      "dropout_3 (Dropout)          (None, 10, 10, 16)        0         \n",
      "_________________________________________________________________\n",
      "conv2d_5 (Conv2D)            (None, 8, 8, 16)          2304      \n",
      "_________________________________________________________________\n",
      "batch_normalization_4 (Batch (None, 8, 8, 16)          64        \n",
      "_________________________________________________________________\n",
      "activation_4 (Activation)    (None, 8, 8, 16)          0         \n",
      "_________________________________________________________________\n",
      "dropout_4 (Dropout)          (None, 8, 8, 16)          0         \n",
      "_________________________________________________________________\n",
      "conv2d_6 (Conv2D)            (None, 6, 6, 16)          2304      \n",
      "_________________________________________________________________\n",
      "batch_normalization_5 (Batch (None, 6, 6, 16)          64        \n",
      "_________________________________________________________________\n",
      "activation_5 (Activation)    (None, 6, 6, 16)          0         \n",
      "_________________________________________________________________\n",
      "dropout_5 (Dropout)          (None, 6, 6, 16)          0         \n",
      "_________________________________________________________________\n",
      "conv2d_7 (Conv2D)            (None, 4, 4, 16)          2304      \n",
      "_________________________________________________________________\n",
      "batch_normalization_6 (Batch (None, 4, 4, 16)          64        \n",
      "_________________________________________________________________\n",
      "activation_6 (Activation)    (None, 4, 4, 16)          0         \n",
      "_________________________________________________________________\n",
      "dropout_6 (Dropout)          (None, 4, 4, 16)          0         \n",
      "_________________________________________________________________\n",
      "conv2d_8 (Conv2D)            (None, 1, 1, 10)          2560      \n",
      "_________________________________________________________________\n",
      "batch_normalization_7 (Batch (None, 1, 1, 10)          40        \n",
      "_________________________________________________________________\n",
      "dropout_7 (Dropout)          (None, 1, 1, 10)          0         \n",
      "_________________________________________________________________\n",
      "flatten_1 (Flatten)          (None, 10)                0         \n",
      "_________________________________________________________________\n",
      "activation_7 (Activation)    (None, 10)                0         \n",
      "=================================================================\n",
      "Total params: 16,472\n",
      "Trainable params: 16,228\n",
      "Non-trainable params: 244\n",
      "_________________________________________________________________\n"
     ]
    }
   ],
   "source": [
    "# Create a CNN model using Keras functions. Use relu for all layers, except at the end. The logits are passed into softmax layer to represent everything between 0 and 1.\n",
    "\n",
    "from keras.layers import Activation\n",
    "from keras.regularizers import l2\n",
    "\n",
    "# Input is an image of size 28x28 with 1 channel\n",
    "model = Sequential()\n",
    " \n",
    "model.add(Convolution2D(16, 3, 3, activation=None, use_bias = False, kernel_regularizer=l2(1e-2), input_shape=(28,28,1))) #Input channel 1, number of filters 16, filter size is 3x3 with 1 channel. Receptive field is 3x3. Image Size after convolution is 26. L2 regularization is added and relu is moved after batch normalization.\n",
    "model.add(BatchNormalization()) #Batch normalization layer\n",
    "model.add(Activation('relu')) #relu activation function\n",
    "model.add(Dropout(0.1)) #Dropout\n",
    "\n",
    "model.add(Convolution2D(32, 3, 3, activation=None, use_bias = False, kernel_regularizer=l2(1e-2))) #Input channel 16, number of filters 32, filter size is 3x3 with 16 channel. Receptive field is 5x5. Image Size after convolution is 24. L2 regularization is added and relu is moved after batch normalization.\n",
    "model.add(BatchNormalization()) #Batch normalization layer\n",
    "model.add(Activation('relu')) #relu activation function\n",
    "model.add(Dropout(0.1)) #Dropout\n",
    "\n",
    "model.add(Convolution2D(10, 1, 1, activation='relu', use_bias = False, kernel_regularizer=l2(1e-2)))  #Input channel 32, number of filters 10, filter size is 1x1 with 32 channel. Receptive field is 5x5. Image Size after convolution is 24. L2 regularization is added. This is transition block.\n",
    "\n",
    "model.add(MaxPooling2D(pool_size=(2, 2))) #Input channels 10, number of filters n/a, filter size is n/a with n/a channels. Receptive field is 10x10. Image Size after max pooling is 12. This is max pooling.\n",
    "\n",
    "model.add(Convolution2D(16, 3, 3, activation=None, use_bias = False, kernel_regularizer=l2(1e-2))) #Input channel 10, number of filters 16, filter size is 3x3 with 10 channel. Receptive field is 12x12. Image Size after convolution is 10. L2 regularization is added and relu is moved after batch normalization.\n",
    "model.add(BatchNormalization()) #Batch normalization layer\n",
    "model.add(Activation('relu')) #relu activation function\n",
    "model.add(Dropout(0.1)) #Dropout\n",
    "\n",
    "\n",
    "model.add(Convolution2D(16, 3, 3, activation=None, use_bias = False, kernel_regularizer=l2(1e-2)))  #Input channel 16, number of filters 16, filter size is 3x3 with 16 channel. Receptive field is 14x14. Image Size after convolution is 8. L2 regularization is added and relu is moved after batch normalization.\n",
    "model.add(BatchNormalization()) #Batch normalization layer\n",
    "model.add(Activation('relu')) #relu activation function\n",
    "model.add(Dropout(0.1)) #Dropout\n",
    "\n",
    "\n",
    "model.add(Convolution2D(16, 3, 3, activation=None, use_bias = False, kernel_regularizer=l2(1e-2)))   #Input channel 16, number of filters 16, filter size is 3x3 with 16 channel. Receptive field is 16x16. Image Size after convolution is 6. L2 regularization is added and relu is moved after batch normalization.\n",
    "model.add(BatchNormalization()) #Batch normalization layer\n",
    "model.add(Activation('relu')) #relu activation function\n",
    "model.add(Dropout(0.1)) #Dropout\n",
    "\n",
    "\n",
    "model.add(Convolution2D(16, 3, 3, activation=None, use_bias = False, kernel_regularizer=l2(1e-2)))  #Input channel 16, number of filters 16, filter size is 3x3 with 16 channel. Receptive field is 18x18. Image Size after convolution is 4. L2 regularization is added and relu is moved after batch normalization.\n",
    "model.add(BatchNormalization()) #Batch normalization layer\n",
    "model.add(Activation('relu')) #relu activation function\n",
    "model.add(Dropout(0.1)) #Dropout\n",
    "\n",
    "\n",
    "model.add(Convolution2D(10, 4, 4,  use_bias = False)) #Input channel 16, number of filters 10, filter size is 4x4 with 16 channels. \n",
    "model.add(BatchNormalization()) #Batch normalization layer\n",
    "model.add(Dropout(0.1)) #Dropout\n",
    "\n",
    "\n",
    "model.add(Flatten()) #The outputs from the previous layer are flattened\n",
    "model.add(Activation('softmax')) #Softmax layer activation layer.So that the values of logits are squished between 0 and 1\n",
    "\n",
    "\n",
    "model.summary() # Displays the summary of the model i.e. gives the details of different shapes and channels in different layers of the model."
   ]
  },
  {
   "cell_type": "code",
   "execution_count": 0,
   "metadata": {
    "colab": {},
    "colab_type": "code",
    "id": "L2IicGJ4x3Be"
   },
   "outputs": [],
   "source": [
    "# Define learning rate scheduler, compile the model and also create a checkpoint to save the model when accuracy improves\n",
    "\n",
    "from keras.optimizers import Adam\n",
    "from keras.callbacks import LearningRateScheduler,ModelCheckpoint\n",
    "def scheduler(epoch, lr):\n",
    "  return round(0.003 * 1/(1 + 0.319 * epoch), 10)\n",
    "\n",
    "model.compile(loss='categorical_crossentropy', optimizer=Adam(lr=0.003), metrics=['accuracy'])\n",
    "\n",
    "model_ckpt = ModelCheckpoint('best_model.h5', monitor='val_acc', mode='max', verbose=1, save_best_only=True)\n",
    "\n",
    "#model.fit(X_train, Y_train, batch_size=128, epochs=20, verbose=1, validation_data=(X_test, Y_test), callbacks=[LearningRateScheduler(scheduler, verbose=1)])"
   ]
  },
  {
   "cell_type": "code",
   "execution_count": 0,
   "metadata": {
    "colab": {},
    "colab_type": "code",
    "id": "iHry_6IBR4Wa"
   },
   "outputs": [],
   "source": [
    "# Calculate steps per epoch and validation steps\n",
    "\n",
    "from math import ceil\n",
    "steps_per_epoch = ceil(len(X_train) / batch_size)\n",
    "validation_steps = ceil(len(X_test)/ batch_size)"
   ]
  },
  {
   "cell_type": "code",
   "execution_count": 0,
   "metadata": {
    "colab": {
     "base_uri": "https://localhost:8080/",
     "height": 4185
    },
    "colab_type": "code",
    "id": "tIvIPteLwHtX",
    "outputId": "e5d4515f-1a86-417a-8852-d2299ec8389a"
   },
   "outputs": [
    {
     "name": "stdout",
     "output_type": "stream",
     "text": [
      "WARNING:tensorflow:From /usr/local/lib/python3.6/dist-packages/tensorflow/python/ops/math_ops.py:3066: to_int32 (from tensorflow.python.ops.math_ops) is deprecated and will be removed in a future version.\n",
      "Instructions for updating:\n",
      "Use tf.cast instead.\n",
      "Epoch 1/40\n",
      "\n",
      "Epoch 00001: LearningRateScheduler setting learning rate to 0.003.\n",
      "469/469 [==============================] - 12s 26ms/step - loss: 0.8310 - acc: 0.8542 - val_loss: 1.8754 - val_acc: 0.3150\n",
      "\n",
      "Epoch 00001: val_acc improved from -inf to 0.31500, saving model to best_model.h5\n",
      "Epoch 2/40\n",
      "\n",
      "Epoch 00002: LearningRateScheduler setting learning rate to 0.0022744503.\n",
      "469/469 [==============================] - 8s 18ms/step - loss: 0.3363 - acc: 0.9172 - val_loss: 0.2283 - val_acc: 0.9657\n",
      "\n",
      "Epoch 00002: val_acc improved from 0.31500 to 0.96570, saving model to best_model.h5\n",
      "Epoch 3/40\n",
      "\n",
      "Epoch 00003: LearningRateScheduler setting learning rate to 0.0018315018.\n",
      "469/469 [==============================] - 8s 17ms/step - loss: 0.2840 - acc: 0.9312 - val_loss: 0.2014 - val_acc: 0.9649\n",
      "\n",
      "Epoch 00003: val_acc did not improve from 0.96570\n",
      "Epoch 4/40\n",
      "\n",
      "Epoch 00004: LearningRateScheduler setting learning rate to 0.0015329586.\n",
      "469/469 [==============================] - 8s 17ms/step - loss: 0.2502 - acc: 0.9375 - val_loss: 0.1219 - val_acc: 0.9818\n",
      "\n",
      "Epoch 00004: val_acc improved from 0.96570 to 0.98180, saving model to best_model.h5\n",
      "Epoch 5/40\n",
      "\n",
      "Epoch 00005: LearningRateScheduler setting learning rate to 0.0013181019.\n",
      "469/469 [==============================] - 9s 19ms/step - loss: 0.2290 - acc: 0.9426 - val_loss: 0.1241 - val_acc: 0.9791\n",
      "\n",
      "Epoch 00005: val_acc did not improve from 0.98180\n",
      "Epoch 6/40\n",
      "\n",
      "Epoch 00006: LearningRateScheduler setting learning rate to 0.0011560694.\n",
      "469/469 [==============================] - 9s 19ms/step - loss: 0.2150 - acc: 0.9431 - val_loss: 0.1002 - val_acc: 0.9877\n",
      "\n",
      "Epoch 00006: val_acc improved from 0.98180 to 0.98770, saving model to best_model.h5\n",
      "Epoch 7/40\n",
      "\n",
      "Epoch 00007: LearningRateScheduler setting learning rate to 0.0010295127.\n",
      "469/469 [==============================] - 8s 17ms/step - loss: 0.2004 - acc: 0.9449 - val_loss: 0.1163 - val_acc: 0.9818\n",
      "\n",
      "Epoch 00007: val_acc did not improve from 0.98770\n",
      "Epoch 8/40\n",
      "\n",
      "Epoch 00008: LearningRateScheduler setting learning rate to 0.0009279307.\n",
      "469/469 [==============================] - 8s 17ms/step - loss: 0.1930 - acc: 0.9455 - val_loss: 0.1006 - val_acc: 0.9823\n",
      "\n",
      "Epoch 00008: val_acc did not improve from 0.98770\n",
      "Epoch 9/40\n",
      "\n",
      "Epoch 00009: LearningRateScheduler setting learning rate to 0.0008445946.\n",
      "469/469 [==============================] - 8s 16ms/step - loss: 0.1817 - acc: 0.9475 - val_loss: 0.0910 - val_acc: 0.9869\n",
      "\n",
      "Epoch 00009: val_acc did not improve from 0.98770\n",
      "Epoch 10/40\n",
      "\n",
      "Epoch 00010: LearningRateScheduler setting learning rate to 0.0007749935.\n",
      "469/469 [==============================] - 8s 16ms/step - loss: 0.1752 - acc: 0.9496 - val_loss: 0.0805 - val_acc: 0.9874\n",
      "\n",
      "Epoch 00010: val_acc did not improve from 0.98770\n",
      "Epoch 11/40\n",
      "\n",
      "Epoch 00011: LearningRateScheduler setting learning rate to 0.0007159905.\n",
      "469/469 [==============================] - 8s 16ms/step - loss: 0.1692 - acc: 0.9494 - val_loss: 0.0716 - val_acc: 0.9894\n",
      "\n",
      "Epoch 00011: val_acc improved from 0.98770 to 0.98940, saving model to best_model.h5\n",
      "Epoch 12/40\n",
      "\n",
      "Epoch 00012: LearningRateScheduler setting learning rate to 0.000665336.\n",
      "469/469 [==============================] - 8s 16ms/step - loss: 0.1642 - acc: 0.9499 - val_loss: 0.0782 - val_acc: 0.9870\n",
      "\n",
      "Epoch 00012: val_acc did not improve from 0.98940\n",
      "Epoch 13/40\n",
      "\n",
      "Epoch 00013: LearningRateScheduler setting learning rate to 0.0006213753.\n",
      "469/469 [==============================] - 8s 16ms/step - loss: 0.1606 - acc: 0.9500 - val_loss: 0.0686 - val_acc: 0.9902\n",
      "\n",
      "Epoch 00013: val_acc improved from 0.98940 to 0.99020, saving model to best_model.h5\n",
      "Epoch 14/40\n",
      "\n",
      "Epoch 00014: LearningRateScheduler setting learning rate to 0.0005828638.\n",
      "469/469 [==============================] - 8s 16ms/step - loss: 0.1582 - acc: 0.9495 - val_loss: 0.0669 - val_acc: 0.9901\n",
      "\n",
      "Epoch 00014: val_acc did not improve from 0.99020\n",
      "Epoch 15/40\n",
      "\n",
      "Epoch 00015: LearningRateScheduler setting learning rate to 0.0005488474.\n",
      "469/469 [==============================] - 8s 17ms/step - loss: 0.1522 - acc: 0.9508 - val_loss: 0.0687 - val_acc: 0.9901\n",
      "\n",
      "Epoch 00015: val_acc did not improve from 0.99020\n",
      "Epoch 16/40\n",
      "\n",
      "Epoch 00016: LearningRateScheduler setting learning rate to 0.0005185825.\n",
      "469/469 [==============================] - 8s 17ms/step - loss: 0.1464 - acc: 0.9526 - val_loss: 0.0575 - val_acc: 0.9909\n",
      "\n",
      "Epoch 00016: val_acc improved from 0.99020 to 0.99090, saving model to best_model.h5\n",
      "Epoch 17/40\n",
      "\n",
      "Epoch 00017: LearningRateScheduler setting learning rate to 0.000491481.\n",
      "469/469 [==============================] - 8s 18ms/step - loss: 0.1455 - acc: 0.9509 - val_loss: 0.0636 - val_acc: 0.9898\n",
      "\n",
      "Epoch 00017: val_acc did not improve from 0.99090\n",
      "Epoch 18/40\n",
      "\n",
      "Epoch 00018: LearningRateScheduler setting learning rate to 0.0004670715.\n",
      "469/469 [==============================] - 8s 17ms/step - loss: 0.1455 - acc: 0.9516 - val_loss: 0.0561 - val_acc: 0.9924\n",
      "\n",
      "Epoch 00018: val_acc improved from 0.99090 to 0.99240, saving model to best_model.h5\n",
      "Epoch 19/40\n",
      "\n",
      "Epoch 00019: LearningRateScheduler setting learning rate to 0.0004449718.\n",
      "469/469 [==============================] - 8s 16ms/step - loss: 0.1420 - acc: 0.9514 - val_loss: 0.0539 - val_acc: 0.9918\n",
      "\n",
      "Epoch 00019: val_acc did not improve from 0.99240\n",
      "Epoch 20/40\n",
      "\n",
      "Epoch 00020: LearningRateScheduler setting learning rate to 0.000424869.\n",
      "469/469 [==============================] - 8s 16ms/step - loss: 0.1417 - acc: 0.9513 - val_loss: 0.0550 - val_acc: 0.9919\n",
      "\n",
      "Epoch 00020: val_acc did not improve from 0.99240\n",
      "Epoch 21/40\n",
      "\n",
      "Epoch 00021: LearningRateScheduler setting learning rate to 0.0004065041.\n",
      "469/469 [==============================] - 8s 16ms/step - loss: 0.1346 - acc: 0.9543 - val_loss: 0.0554 - val_acc: 0.9915\n",
      "\n",
      "Epoch 00021: val_acc did not improve from 0.99240\n",
      "Epoch 22/40\n",
      "\n",
      "Epoch 00022: LearningRateScheduler setting learning rate to 0.000389661.\n",
      "469/469 [==============================] - 8s 16ms/step - loss: 0.1355 - acc: 0.9543 - val_loss: 0.0536 - val_acc: 0.9922\n",
      "\n",
      "Epoch 00022: val_acc did not improve from 0.99240\n",
      "Epoch 23/40\n",
      "\n",
      "Epoch 00023: LearningRateScheduler setting learning rate to 0.0003741581.\n",
      "469/469 [==============================] - 8s 16ms/step - loss: 0.1355 - acc: 0.9524 - val_loss: 0.0511 - val_acc: 0.9918\n",
      "\n",
      "Epoch 00023: val_acc did not improve from 0.99240\n",
      "Epoch 24/40\n",
      "\n",
      "Epoch 00024: LearningRateScheduler setting learning rate to 0.0003598417.\n",
      "469/469 [==============================] - 8s 16ms/step - loss: 0.1348 - acc: 0.9533 - val_loss: 0.0556 - val_acc: 0.9909\n",
      "\n",
      "Epoch 00024: val_acc did not improve from 0.99240\n",
      "Epoch 25/40\n",
      "\n",
      "Epoch 00025: LearningRateScheduler setting learning rate to 0.0003465804.\n",
      "469/469 [==============================] - 8s 16ms/step - loss: 0.1283 - acc: 0.9548 - val_loss: 0.0527 - val_acc: 0.9919\n",
      "\n",
      "Epoch 00025: val_acc did not improve from 0.99240\n",
      "Epoch 26/40\n",
      "\n",
      "Epoch 00026: LearningRateScheduler setting learning rate to 0.0003342618.\n",
      "469/469 [==============================] - 8s 17ms/step - loss: 0.1318 - acc: 0.9534 - val_loss: 0.0477 - val_acc: 0.9927\n",
      "\n",
      "Epoch 00026: val_acc improved from 0.99240 to 0.99270, saving model to best_model.h5\n",
      "Epoch 27/40\n",
      "\n",
      "Epoch 00027: LearningRateScheduler setting learning rate to 0.0003227889.\n",
      "469/469 [==============================] - 8s 18ms/step - loss: 0.1304 - acc: 0.9533 - val_loss: 0.0512 - val_acc: 0.9919\n",
      "\n",
      "Epoch 00027: val_acc did not improve from 0.99270\n",
      "Epoch 28/40\n",
      "\n",
      "Epoch 00028: LearningRateScheduler setting learning rate to 0.0003120774.\n",
      "469/469 [==============================] - 8s 16ms/step - loss: 0.1279 - acc: 0.9528 - val_loss: 0.0435 - val_acc: 0.9939\n",
      "\n",
      "Epoch 00028: val_acc improved from 0.99270 to 0.99390, saving model to best_model.h5\n",
      "Epoch 29/40\n",
      "\n",
      "Epoch 00029: LearningRateScheduler setting learning rate to 0.000302054.\n",
      "469/469 [==============================] - 8s 16ms/step - loss: 0.1242 - acc: 0.9557 - val_loss: 0.0454 - val_acc: 0.9922\n",
      "\n",
      "Epoch 00029: val_acc did not improve from 0.99390\n",
      "Epoch 30/40\n",
      "\n",
      "Epoch 00030: LearningRateScheduler setting learning rate to 0.0002926544.\n",
      "469/469 [==============================] - 8s 16ms/step - loss: 0.1241 - acc: 0.9533 - val_loss: 0.0422 - val_acc: 0.9940\n",
      "\n",
      "Epoch 00030: val_acc improved from 0.99390 to 0.99400, saving model to best_model.h5\n",
      "Epoch 31/40\n",
      "\n",
      "Epoch 00031: LearningRateScheduler setting learning rate to 0.0002838221.\n",
      "469/469 [==============================] - 8s 16ms/step - loss: 0.1221 - acc: 0.9556 - val_loss: 0.0420 - val_acc: 0.9938\n",
      "\n",
      "Epoch 00031: val_acc did not improve from 0.99400\n",
      "Epoch 32/40\n",
      "\n",
      "Epoch 00032: LearningRateScheduler setting learning rate to 0.0002755074.\n",
      "469/469 [==============================] - 8s 16ms/step - loss: 0.1221 - acc: 0.9551 - val_loss: 0.0407 - val_acc: 0.9939\n",
      "\n",
      "Epoch 00032: val_acc did not improve from 0.99400\n",
      "Epoch 33/40\n",
      "\n",
      "Epoch 00033: LearningRateScheduler setting learning rate to 0.000267666.\n",
      "469/469 [==============================] - 8s 16ms/step - loss: 0.1212 - acc: 0.9543 - val_loss: 0.0404 - val_acc: 0.9937\n",
      "\n",
      "Epoch 00033: val_acc did not improve from 0.99400\n",
      "Epoch 34/40\n",
      "\n",
      "Epoch 00034: LearningRateScheduler setting learning rate to 0.0002602585.\n",
      "469/469 [==============================] - 8s 16ms/step - loss: 0.1199 - acc: 0.9551 - val_loss: 0.0409 - val_acc: 0.9930\n",
      "\n",
      "Epoch 00034: val_acc did not improve from 0.99400\n",
      "Epoch 35/40\n",
      "\n",
      "Epoch 00035: LearningRateScheduler setting learning rate to 0.00025325.\n",
      "469/469 [==============================] - 8s 16ms/step - loss: 0.1208 - acc: 0.9548 - val_loss: 0.0490 - val_acc: 0.9916\n",
      "\n",
      "Epoch 00035: val_acc did not improve from 0.99400\n",
      "Epoch 36/40\n",
      "\n",
      "Epoch 00036: LearningRateScheduler setting learning rate to 0.0002466091.\n",
      "469/469 [==============================] - 8s 16ms/step - loss: 0.1215 - acc: 0.9551 - val_loss: 0.0398 - val_acc: 0.9937\n",
      "\n",
      "Epoch 00036: val_acc did not improve from 0.99400\n",
      "Epoch 37/40\n",
      "\n",
      "Epoch 00037: LearningRateScheduler setting learning rate to 0.0002403076.\n",
      "469/469 [==============================] - 9s 18ms/step - loss: 0.1154 - acc: 0.9560 - val_loss: 0.0390 - val_acc: 0.9938\n",
      "\n",
      "Epoch 00037: val_acc did not improve from 0.99400\n",
      "Epoch 38/40\n",
      "\n",
      "Epoch 00038: LearningRateScheduler setting learning rate to 0.0002343201.\n",
      "469/469 [==============================] - 8s 17ms/step - loss: 0.1167 - acc: 0.9553 - val_loss: 0.0485 - val_acc: 0.9909\n",
      "\n",
      "Epoch 00038: val_acc did not improve from 0.99400\n",
      "Epoch 39/40\n",
      "\n",
      "Epoch 00039: LearningRateScheduler setting learning rate to 0.0002286237.\n",
      "469/469 [==============================] - 8s 16ms/step - loss: 0.1161 - acc: 0.9558 - val_loss: 0.0446 - val_acc: 0.9925\n",
      "\n",
      "Epoch 00039: val_acc did not improve from 0.99400\n",
      "Epoch 40/40\n",
      "\n",
      "Epoch 00040: LearningRateScheduler setting learning rate to 0.0002231977.\n",
      "469/469 [==============================] - 8s 16ms/step - loss: 0.1160 - acc: 0.9546 - val_loss: 0.0361 - val_acc: 0.9947\n",
      "\n",
      "Epoch 00040: val_acc improved from 0.99400 to 0.99470, saving model to best_model.h5\n"
     ]
    },
    {
     "data": {
      "text/plain": [
       "<keras.callbacks.History at 0x7f7c47e26f98>"
      ]
     },
     "execution_count": 15,
     "metadata": {
      "tags": []
     },
     "output_type": "execute_result"
    }
   ],
   "source": [
    "#Train the model using fit_generator\n",
    "\n",
    "model.fit_generator(train_iterator, steps_per_epoch=steps_per_epoch, epochs=40, verbose=1, validation_data=test_iterator, validation_steps=validation_steps, callbacks=[LearningRateScheduler(scheduler, verbose=1),model_ckpt])"
   ]
  },
  {
   "cell_type": "code",
   "execution_count": 0,
   "metadata": {
    "colab": {},
    "colab_type": "code",
    "id": "-De_6O-sOeY8"
   },
   "outputs": [],
   "source": [
    "# Load the best saved model\n",
    "\n",
    "from keras.models import load_model\n",
    "saved_model = load_model('best_model.h5')"
   ]
  },
  {
   "cell_type": "code",
   "execution_count": 0,
   "metadata": {
    "colab": {
     "base_uri": "https://localhost:8080/",
     "height": 51
    },
    "colab_type": "code",
    "id": "m2qDl21ozBnW",
    "outputId": "f6f754f9-e13d-4fab-cba9-ef2aa20e4c95"
   },
   "outputs": [
    {
     "name": "stdout",
     "output_type": "stream",
     "text": [
      "79/79 [==============================] - 1s 9ms/step\n",
      "[0.03607373569905758, 0.9947]\n"
     ]
    }
   ],
   "source": [
    "#Evaluate the model and print the score i.e. loss and validation accuracy\n",
    "\n",
    "test_iterator = datagen.flow(X_test, Y_test, batch_size=128, shuffle = False)\n",
    "score = saved_model.evaluate_generator(test_iterator, verbose=1, steps = validation_steps)\n",
    "print(score)"
   ]
  },
  {
   "cell_type": "code",
   "execution_count": 0,
   "metadata": {
    "colab": {
     "base_uri": "https://localhost:8080/",
     "height": 34
    },
    "colab_type": "code",
    "id": "kywDuCCCcfuc",
    "outputId": "22ed9720-be57-4caf-d926-f21bd7113659"
   },
   "outputs": [
    {
     "name": "stdout",
     "output_type": "stream",
     "text": [
      "\r",
      "1/1 [==============================] - 0s 272ms/step\n"
     ]
    }
   ],
   "source": [
    "#Obtain predictions, create another iterator for test data such that batch size is same as total number of validation examples and steps = 1\n",
    "\n",
    "test_iterator = datagen.flow(X_test, Y_test, batch_size=len(Y_test), shuffle = False)\n",
    "y_pred = saved_model.predict_generator(test_iterator, verbose=1, steps = 1)"
   ]
  },
  {
   "cell_type": "code",
   "execution_count": 0,
   "metadata": {
    "colab": {
     "base_uri": "https://localhost:8080/",
     "height": 629
    },
    "colab_type": "code",
    "id": "SD9rBiWe6hCy",
    "outputId": "190f5ade-99b6-4ddb-8a81-d68298dc1762"
   },
   "outputs": [
    {
     "name": "stdout",
     "output_type": "stream",
     "text": [
      "[[1.06152504e-06 1.55568409e-06 8.53974780e-06 2.03259492e-06\n",
      "  2.79066080e-06 2.47913636e-06 5.26657232e-06 9.99969602e-01\n",
      "  3.80350525e-06 2.89127001e-06]\n",
      " [6.82521613e-06 1.01810633e-06 9.99977469e-01 4.11588815e-07\n",
      "  1.53047961e-06 3.67945290e-06 5.16335922e-06 1.02687954e-06\n",
      "  1.07531935e-06 1.76436208e-06]\n",
      " [2.51569486e-06 9.99925613e-01 6.54391170e-06 1.03673456e-05\n",
      "  5.78349136e-06 3.01163473e-05 3.10308701e-06 4.60490173e-06\n",
      "  8.16722968e-06 3.21052403e-06]\n",
      " [9.99812424e-01 1.64359808e-05 8.58678777e-06 8.89464718e-06\n",
      "  9.73601800e-06 1.67130656e-05 1.00154666e-05 1.44297701e-05\n",
      "  3.41017076e-05 6.86654530e-05]\n",
      " [3.37685333e-06 2.86508930e-06 2.29225725e-06 2.90466801e-06\n",
      "  9.99978900e-01 2.21797200e-06 2.80137397e-06 1.44136652e-06\n",
      "  1.52792370e-06 1.52719986e-06]\n",
      " [1.84123166e-06 9.99943137e-01 5.52300708e-06 6.92836784e-06\n",
      "  4.61078253e-06 1.70619096e-05 2.27099099e-06 9.54874577e-06\n",
      "  5.34255560e-06 3.87604587e-06]\n",
      " [2.77466315e-05 4.19602984e-05 4.48728770e-06 9.75967669e-06\n",
      "  9.99755204e-01 2.52737427e-05 3.60673548e-05 7.69293110e-05\n",
      "  9.53747713e-06 1.30978342e-05]\n",
      " [2.75778093e-05 4.84261633e-04 1.66074067e-04 1.43465368e-04\n",
      "  1.80040966e-04 3.74538678e-04 3.18489947e-05 1.82677049e-05\n",
      "  2.13129082e-04 9.98360813e-01]\n",
      " [3.25179280e-05 5.14637895e-06 7.00036762e-05 8.67551989e-06\n",
      "  1.14112583e-04 9.98277545e-01 1.31798326e-03 3.82777907e-05\n",
      "  1.13734066e-04 2.18716832e-05]]\n",
      "[[0. 0. 0. 0. 0. 0. 0. 1. 0. 0.]\n",
      " [0. 0. 1. 0. 0. 0. 0. 0. 0. 0.]\n",
      " [0. 1. 0. 0. 0. 0. 0. 0. 0. 0.]\n",
      " [1. 0. 0. 0. 0. 0. 0. 0. 0. 0.]\n",
      " [0. 0. 0. 0. 1. 0. 0. 0. 0. 0.]\n",
      " [0. 1. 0. 0. 0. 0. 0. 0. 0. 0.]\n",
      " [0. 0. 0. 0. 1. 0. 0. 0. 0. 0.]\n",
      " [0. 0. 0. 0. 0. 0. 0. 0. 0. 1.]\n",
      " [0. 0. 0. 0. 0. 1. 0. 0. 0. 0.]]\n"
     ]
    }
   ],
   "source": [
    "# Print predictions and actual labels\n",
    "\n",
    "print(y_pred[:9])\n",
    "print(Y_test[:9])"
   ]
  },
  {
   "cell_type": "code",
   "execution_count": 0,
   "metadata": {
    "colab": {},
    "colab_type": "code",
    "id": "J8q1usm-43Rt"
   },
   "outputs": [],
   "source": [
    "# Calculate predicted labels and actual labels\n",
    "\n",
    "prediction_labels = np.argmax(y_pred, axis = -1)\n",
    "actual_labels = y_test"
   ]
  },
  {
   "cell_type": "code",
   "execution_count": 0,
   "metadata": {
    "colab": {
     "base_uri": "https://localhost:8080/",
     "height": 51
    },
    "colab_type": "code",
    "id": "UOwIbWkP5OiO",
    "outputId": "49ea08da-3b21-495a-fd6a-32fee313d1cd"
   },
   "outputs": [
    {
     "name": "stdout",
     "output_type": "stream",
     "text": [
      "[7 2 1 0 4 1 4 9 5]\n",
      "[7 2 1 0 4 1 4 9 5]\n"
     ]
    }
   ],
   "source": [
    "# Print predicted and actual labels\n",
    "\n",
    "print(prediction_labels[:9])\n",
    "print(actual_labels[:9])"
   ]
  },
  {
   "cell_type": "code",
   "execution_count": 0,
   "metadata": {
    "colab": {
     "base_uri": "https://localhost:8080/",
     "height": 34
    },
    "colab_type": "code",
    "id": "rg8dU_7Y6_HY",
    "outputId": "cd3c2e58-839a-4c32-e14a-705b3ea76b53"
   },
   "outputs": [
    {
     "name": "stdout",
     "output_type": "stream",
     "text": [
      "[359, 445, 449, 582, 625, 938, 947, 965, 1014]\n"
     ]
    }
   ],
   "source": [
    "# Obtain indexes of the images where the actual labels are different from the predicted labels i.e. indexes of misclassified images\n",
    "\n",
    "mc_idx = []\n",
    "for idx,val in enumerate(actual_labels):\n",
    "  if val != prediction_labels[idx]:\n",
    "    mc_idx.append(idx)\n",
    "    \n",
    "print(mc_idx[:9])"
   ]
  },
  {
   "cell_type": "code",
   "execution_count": 0,
   "metadata": {
    "colab": {
     "base_uri": "https://localhost:8080/",
     "height": 34
    },
    "colab_type": "code",
    "id": "CmArIEDZE5Yp",
    "outputId": "f22b6c06-499d-4f69-eeac-518218a21104"
   },
   "outputs": [
    {
     "name": "stdout",
     "output_type": "stream",
     "text": [
      "53\n"
     ]
    }
   ],
   "source": [
    "# Print total number of misclassified images\n",
    "\n",
    "print(len(mc_idx))"
   ]
  },
  {
   "cell_type": "code",
   "execution_count": 0,
   "metadata": {
    "colab": {
     "base_uri": "https://localhost:8080/",
     "height": 879
    },
    "colab_type": "code",
    "id": "PMBGiIxIAwjk",
    "outputId": "01f3ba68-e2d8-4cf8-cea7-a9f32339c089"
   },
   "outputs": [
    {
     "data": {
      "image/png": "[encoded data removed]",
      "text/plain": [
       "<Figure size 1080x1080 with 25 Axes>"
      ]
     },
     "metadata": {
      "tags": []
     },
     "output_type": "display_data"
    }
   ],
   "source": [
    "# Image gallery of 25 misclassified images from the validation dataset\n",
    "\n",
    "w=10\n",
    "h=10\n",
    "fig=plt.figure(figsize=(15, 15))\n",
    "columns = 5\n",
    "rows = 5\n",
    "for i in range(1, columns*rows + 1):\n",
    "    idx = mc_idx[i-1]\n",
    "    img = X_test.reshape(X_test.shape[0], 28, 28)[idx]\n",
    "    fig.add_subplot(rows, columns, i)\n",
    "    plt.title('%d'%prediction_labels[idx])\n",
    "    plt.imshow(img)\n",
    "plt.show()"
   ]
  },
  {
   "cell_type": "markdown",
   "metadata": {},
   "source": [
    "### **References & Attributions:**\n",
    "\n",
    "*   Keras (https://keras.io/)\n",
    "\n",
    "*   Tensorflow 2.1 (https://www.tensorflow.org/api_docs/python/)\n",
    "\n",
    "\n",
    "*Disclaimer: The contents of this notebook are used for educational purposes i.e. for learning and research.*"
   ]
  },
  {
   "cell_type": "code",
   "execution_count": 0,
   "metadata": {
    "colab": {},
    "colab_type": "code",
    "id": "gS-1x1m0QlYc"
   },
   "outputs": [],
   "source": []
  }
 ],
 "metadata": {
  "accelerator": "GPU",
  "colab": {
   "collapsed_sections": [],
   "name": "EIGHTH-Assignment5.ipynb",
   "provenance": [],
   "version": "0.3.2"
  },
  "kernelspec": {
   "display_name": "Python 3",
   "language": "python",
   "name": "python3"
  },
  "language_info": {
   "codemirror_mode": {
    "name": "ipython",
    "version": 3
   },
   "file_extension": ".py",
   "mimetype": "text/x-python",
   "name": "python",
   "nbconvert_exporter": "python",
   "pygments_lexer": "ipython3",
   "version": "3.7.4"
  }
 },
 "nbformat": 4,
 "nbformat_minor": 1
}
