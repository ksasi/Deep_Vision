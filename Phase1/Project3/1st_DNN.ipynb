{
 "cells": [
  {
   "cell_type": "markdown",
   "metadata": {
    "colab_type": "text",
    "id": "aNyZv-Ec52ot"
   },
   "source": [
    "# **Import Libraries and modules**"
   ]
  },
  {
   "cell_type": "code",
   "execution_count": 2,
   "metadata": {
    "colab": {
     "base_uri": "https://localhost:8080/",
     "height": 34
    },
    "colab_type": "code",
    "id": "3m3w1Cw49Zkt",
    "outputId": "70a9d7bd-9589-48d4-c9f7-f9fd5996e57b"
   },
   "outputs": [
    {
     "name": "stderr",
     "output_type": "stream",
     "text": [
      "Using TensorFlow backend.\n"
     ]
    }
   ],
   "source": [
    "# https://keras.io/\n",
    "# Installing Keras in Colab environment(Colab is Docker container with its own setup) and then import Keras library\n",
    "!pip install -q keras\n",
    "import keras"
   ]
  },
  {
   "cell_type": "code",
   "execution_count": 0,
   "metadata": {
    "colab": {},
    "colab_type": "code",
    "id": "Eso6UHE080D4"
   },
   "outputs": [],
   "source": [
    "# Import numpy, Keras models, layers, utils and datasets modules\n",
    "import numpy as np\n",
    "\n",
    "from keras.models import Sequential\n",
    "from keras.layers import Dense, Dropout, Activation, Flatten, Add\n",
    "from keras.layers import Convolution2D, MaxPooling2D\n",
    "from keras.utils import np_utils\n",
    "\n",
    "from keras.datasets import mnist"
   ]
  },
  {
   "cell_type": "markdown",
   "metadata": {
    "colab_type": "text",
    "id": "zByEi95J86RD"
   },
   "source": [
    "### Load pre-shuffled MNIST data into train and test sets"
   ]
  },
  {
   "cell_type": "code",
   "execution_count": 4,
   "metadata": {
    "colab": {
     "base_uri": "https://localhost:8080/",
     "height": 51
    },
    "colab_type": "code",
    "id": "7eRM0QWN83PV",
    "outputId": "ce57d730-6d81-4dc2-ea67-42671c5e8c1f"
   },
   "outputs": [
    {
     "name": "stdout",
     "output_type": "stream",
     "text": [
      "Downloading data from https://s3.amazonaws.com/img-datasets/mnist.npz\n",
      "11493376/11490434 [==============================] - 2s 0us/step\n"
     ]
    }
   ],
   "source": [
    "# Load MNIST dataset from Keras datasets module seperately as train and test datasets\n",
    "(X_train, y_train), (X_test, y_test) = mnist.load_data()"
   ]
  },
  {
   "cell_type": "code",
   "execution_count": 5,
   "metadata": {
    "colab": {
     "base_uri": "https://localhost:8080/",
     "height": 303
    },
    "colab_type": "code",
    "id": "4a4Be72j8-ZC",
    "outputId": "539332dc-e735-40a5-ad32-682f18a651d3"
   },
   "outputs": [
    {
     "name": "stdout",
     "output_type": "stream",
     "text": [
      "(60000, 28, 28)\n"
     ]
    },
    {
     "data": {
      "text/plain": [
       "<matplotlib.image.AxesImage at 0x7f5a7fe49e48>"
      ]
     },
     "execution_count": 5,
     "metadata": {
      "tags": []
     },
     "output_type": "execute_result"
    },
    {
     "data": {
      "image/png": "[encoded data removed]",
      "text/plain": [
       "<Figure size 432x288 with 1 Axes>"
      ]
     },
     "metadata": {
      "tags": []
     },
     "output_type": "display_data"
    }
   ],
   "source": [
    "# Display the shape of train dataset. Also show the first image in the train dataset\n",
    "print (X_train.shape)\n",
    "from matplotlib import pyplot as plt\n",
    "%matplotlib inline\n",
    "plt.imshow(X_train[0])"
   ]
  },
  {
   "cell_type": "code",
   "execution_count": 0,
   "metadata": {
    "colab": {},
    "colab_type": "code",
    "id": "dkmprriw9AnZ"
   },
   "outputs": [],
   "source": [
    "# Reshape train and test dataset so that it also contains the channel information. MNIST contains grey scale images, hence this has just 1 channel\n",
    "X_train = X_train.reshape(X_train.shape[0], 28, 28,1)\n",
    "X_test = X_test.reshape(X_test.shape[0], 28, 28,1)"
   ]
  },
  {
   "cell_type": "code",
   "execution_count": 0,
   "metadata": {
    "colab": {},
    "colab_type": "code",
    "id": "X2m4YS4E9CRh"
   },
   "outputs": [],
   "source": [
    "# Convert the Tensor i.e. train and test dataset to float tensors. Also perform a min-max normalization where min = 0 and max = 255\n",
    "X_train = X_train.astype('float32')\n",
    "X_test = X_test.astype('float32')\n",
    "X_train /= 255\n",
    "X_test /= 255"
   ]
  },
  {
   "cell_type": "code",
   "execution_count": 8,
   "metadata": {
    "colab": {
     "base_uri": "https://localhost:8080/",
     "height": 34
    },
    "colab_type": "code",
    "id": "0Mn0vAYD9DvB",
    "outputId": "0ef0e395-5831-41c1-b4cd-8c01abf7359f"
   },
   "outputs": [
    {
     "data": {
      "text/plain": [
       "array([5, 0, 4, 1, 9, 2, 1, 3, 1, 4], dtype=uint8)"
      ]
     },
     "execution_count": 8,
     "metadata": {
      "tags": []
     },
     "output_type": "execute_result"
    }
   ],
   "source": [
    "# Show 10 items of labels from train dataset\n",
    "y_train[:10]"
   ]
  },
  {
   "cell_type": "code",
   "execution_count": 0,
   "metadata": {
    "colab": {},
    "colab_type": "code",
    "id": "ZG8JiXR39FHC"
   },
   "outputs": [],
   "source": [
    "# Convert 1-dimensional class arrays to 10-dimensional class matrices\n",
    "Y_train = np_utils.to_categorical(y_train, 10)\n",
    "Y_test = np_utils.to_categorical(y_test, 10)"
   ]
  },
  {
   "cell_type": "code",
   "execution_count": 10,
   "metadata": {
    "colab": {
     "base_uri": "https://localhost:8080/",
     "height": 187
    },
    "colab_type": "code",
    "id": "fYlFRvKS9HMB",
    "outputId": "ff70ca5a-89ca-4977-bd8c-65487517d35d"
   },
   "outputs": [
    {
     "data": {
      "text/plain": [
       "array([[0., 0., 0., 0., 0., 1., 0., 0., 0., 0.],\n",
       "       [1., 0., 0., 0., 0., 0., 0., 0., 0., 0.],\n",
       "       [0., 0., 0., 0., 1., 0., 0., 0., 0., 0.],\n",
       "       [0., 1., 0., 0., 0., 0., 0., 0., 0., 0.],\n",
       "       [0., 0., 0., 0., 0., 0., 0., 0., 0., 1.],\n",
       "       [0., 0., 1., 0., 0., 0., 0., 0., 0., 0.],\n",
       "       [0., 1., 0., 0., 0., 0., 0., 0., 0., 0.],\n",
       "       [0., 0., 0., 1., 0., 0., 0., 0., 0., 0.],\n",
       "       [0., 1., 0., 0., 0., 0., 0., 0., 0., 0.],\n",
       "       [0., 0., 0., 0., 1., 0., 0., 0., 0., 0.]], dtype=float32)"
      ]
     },
     "execution_count": 10,
     "metadata": {
      "tags": []
     },
     "output_type": "execute_result"
    }
   ],
   "source": [
    "# Show 10 labels from train dataset\n",
    "Y_train[:10]\n"
   ]
  },
  {
   "cell_type": "code",
   "execution_count": 0,
   "metadata": {
    "colab": {},
    "colab_type": "code",
    "id": "w0lBtZqtJRnk"
   },
   "outputs": [],
   "source": [
    "# Create a CNN model using Keras functions. Use relu for all layers, except at the end. The logits are passed into softmax layer to represent everything between 0 and 1.\n",
    "#1x1 convolution used as a Transition block\n",
    "from keras.layers import Activation\n",
    "from keras.regularizers import l2\n",
    "from keras.layers import Conv2D, MaxPool2D,  Dropout, Flatten, BatchNormalization\n",
    "\n",
    "# Input is an image of size 28x28 with 1 channel\n",
    "model = Sequential()\n",
    "\n",
    " \n",
    "model.add(Convolution2D(8, (3, 3), activation='relu', use_bias = False, input_shape=(28,28,1)))#Input channel 1, number of filters 8, filter size is 3x3 with 1 channel. Receptive field is 3x3\n",
    "model.add(BatchNormalization()) #Batch normalization layer\n",
    "\n",
    "model.add(Convolution2D(18, (3, 3), activation='relu', use_bias = False))#Input channel 8, number of filters 18, filter size is 3x3 with 8 channels. Receptive field is 5x5\n",
    "model.add(BatchNormalization()) #Batch normalization layer\n",
    "\n",
    "model.add(Convolution2D(40, (3, 3), activation='relu', use_bias = False))#Input channel 18, number of filters 40, filter size is 3x3 with 18 channels. Receptive field is 7x7\n",
    "model.add(BatchNormalization()) #Batch normalization layer\n",
    "\n",
    "model.add(Convolution2D(8, 1,  activation='relu', use_bias = False))#Input channel 40, number of filters 8, filter size is 1x1 with 40 channels. Receptive field is 7x7. This is transition block.\n",
    "model.add(BatchNormalization()) #Batch normalization layer\n",
    "\n",
    "model.add(MaxPooling2D(pool_size=(2, 2), strides=None))#Input channels 8, number of filters n/a, filter size is n/a with n/a channels. Receptive field is 14x14. This is max pooling.\n",
    "model.add(BatchNormalization()) #Batch normalization layer\n",
    "\n",
    "model.add(Dropout(0.4)) #Droput layer\n",
    "\n",
    "\n",
    "\n",
    "\n",
    "\n",
    "model.add(Convolution2D(16, (3, 3), activation='relu', use_bias = False))#Input channel 8, number of filters 16, filter size is 3x3 with 8 channels. Receptive field is 16x16\n",
    "model.add(BatchNormalization()) #Batch normalization layer\n",
    "\n",
    "model.add(Convolution2D(32, (3, 3), activation='relu', use_bias = False))#Input channel 16, number of filters 32, filter size is 3x3 with 16 channels. Receptive field is 18x18\n",
    "model.add(BatchNormalization()) #Batch normalization layer\n",
    "\n",
    "model.add(Convolution2D(10, 1,  activation='relu', use_bias = False))#Input channel 32, number of filters 10, filter size is 1x1 with 32 channels. Receptive field is 18x18. This is transition block.\n",
    "model.add(BatchNormalization()) #Batch normalization layer\n",
    "\n",
    "model.add(Dropout(0.4)) #Droput layer\n",
    "\n",
    "\n",
    "\n",
    "model.add(Convolution2D(10, 7,  use_bias = False))#Input channel 10, number of filters 10, filter size is 7x7 with 10 channels. \n",
    "model.add(BatchNormalization()) #Batch normalization layer\n",
    "\n",
    "\n",
    "model.add(Flatten()) #The outputs from the previous layer are flattened\n",
    "model.add(Dropout(0.5)) #Droput layer\n",
    "model.add(Activation('softmax')) #Softmax layer activation layer.So that the values of logits are squished between 0 and 1"
   ]
  },
  {
   "cell_type": "code",
   "execution_count": 23,
   "metadata": {
    "colab": {
     "base_uri": "https://localhost:8080/",
     "height": 918
    },
    "colab_type": "code",
    "id": "1TN-xIHkJavg",
    "outputId": "74beedd6-ce0f-4d3f-9107-9544b5fd1a16"
   },
   "outputs": [
    {
     "name": "stdout",
     "output_type": "stream",
     "text": [
      "_________________________________________________________________\n",
      "Layer (type)                 Output Shape              Param #   \n",
      "=================================================================\n",
      "conv2d_17 (Conv2D)           (None, 26, 26, 8)         72        \n",
      "_________________________________________________________________\n",
      "batch_normalization_19 (Batc (None, 26, 26, 8)         32        \n",
      "_________________________________________________________________\n",
      "conv2d_18 (Conv2D)           (None, 24, 24, 18)        1296      \n",
      "_________________________________________________________________\n",
      "batch_normalization_20 (Batc (None, 24, 24, 18)        72        \n",
      "_________________________________________________________________\n",
      "conv2d_19 (Conv2D)           (None, 22, 22, 40)        6480      \n",
      "_________________________________________________________________\n",
      "batch_normalization_21 (Batc (None, 22, 22, 40)        160       \n",
      "_________________________________________________________________\n",
      "conv2d_20 (Conv2D)           (None, 22, 22, 8)         320       \n",
      "_________________________________________________________________\n",
      "batch_normalization_22 (Batc (None, 22, 22, 8)         32        \n",
      "_________________________________________________________________\n",
      "max_pooling2d_3 (MaxPooling2 (None, 11, 11, 8)         0         \n",
      "_________________________________________________________________\n",
      "batch_normalization_23 (Batc (None, 11, 11, 8)         32        \n",
      "_________________________________________________________________\n",
      "dropout_7 (Dropout)          (None, 11, 11, 8)         0         \n",
      "_________________________________________________________________\n",
      "conv2d_21 (Conv2D)           (None, 9, 9, 16)          1152      \n",
      "_________________________________________________________________\n",
      "batch_normalization_24 (Batc (None, 9, 9, 16)          64        \n",
      "_________________________________________________________________\n",
      "conv2d_22 (Conv2D)           (None, 7, 7, 32)          4608      \n",
      "_________________________________________________________________\n",
      "batch_normalization_25 (Batc (None, 7, 7, 32)          128       \n",
      "_________________________________________________________________\n",
      "conv2d_23 (Conv2D)           (None, 7, 7, 10)          320       \n",
      "_________________________________________________________________\n",
      "batch_normalization_26 (Batc (None, 7, 7, 10)          40        \n",
      "_________________________________________________________________\n",
      "dropout_8 (Dropout)          (None, 7, 7, 10)          0         \n",
      "_________________________________________________________________\n",
      "conv2d_24 (Conv2D)           (None, 1, 1, 10)          4900      \n",
      "_________________________________________________________________\n",
      "batch_normalization_27 (Batc (None, 1, 1, 10)          40        \n",
      "_________________________________________________________________\n",
      "flatten_3 (Flatten)          (None, 10)                0         \n",
      "_________________________________________________________________\n",
      "dropout_9 (Dropout)          (None, 10)                0         \n",
      "_________________________________________________________________\n",
      "activation_3 (Activation)    (None, 10)                0         \n",
      "=================================================================\n",
      "Total params: 19,748\n",
      "Trainable params: 19,448\n",
      "Non-trainable params: 300\n",
      "_________________________________________________________________\n"
     ]
    }
   ],
   "source": [
    "# Displays the summary of the model i.e. gives the details of different shapes and channels in different layers of the model.\n",
    "model.summary()"
   ]
  },
  {
   "cell_type": "code",
   "execution_count": 0,
   "metadata": {
    "colab": {},
    "colab_type": "code",
    "id": "Zp6SuGrL9M3h"
   },
   "outputs": [],
   "source": [
    "# Compiles the model i.e. specify loss, type of optimizer to use while training, metrics that needs to be calculated and displayed, specify learning rate.\n",
    "from keras.optimizers import Adam\n",
    "model.compile(loss='categorical_crossentropy',\n",
    "             optimizer=Adam(0.1),\n",
    "             metrics=['accuracy'])"
   ]
  },
  {
   "cell_type": "code",
   "execution_count": 0,
   "metadata": {
    "colab": {},
    "colab_type": "code",
    "id": "NNiMSelCrGE9"
   },
   "outputs": [],
   "source": [
    "# Obtain checkpoints for the model and save the model whenever validation accuracy improves. At the end of training, this results in the best model being saved.\n",
    "from keras.callbacks import ModelCheckpoint\n",
    "\n",
    "mc = ModelCheckpoint('best_model.h5', monitor='val_acc', mode='max', verbose=1, save_best_only=True)"
   ]
  },
  {
   "cell_type": "code",
   "execution_count": 26,
   "metadata": {
    "colab": {
     "base_uri": "https://localhost:8080/",
     "height": 3434
    },
    "colab_type": "code",
    "id": "L-MiTPbLJKjE",
    "outputId": "925958dc-cb8d-409f-a3cf-455e939928f9"
   },
   "outputs": [
    {
     "name": "stdout",
     "output_type": "stream",
     "text": [
      "Train on 60000 samples, validate on 10000 samples\n",
      "Epoch 1/50\n",
      "60000/60000 [==============================] - 5s 76us/step - loss: 1.6116 - acc: 0.4427 - val_loss: 2.2743 - val_acc: 0.5265\n",
      "\n",
      "Epoch 00001: val_acc improved from -inf to 0.52650, saving model to best_model.h5\n",
      "Epoch 2/50\n",
      "60000/60000 [==============================] - 3s 50us/step - loss: 1.1223 - acc: 0.5515 - val_loss: 0.4520 - val_acc: 0.8500\n",
      "\n",
      "Epoch 00002: val_acc improved from 0.52650 to 0.85000, saving model to best_model.h5\n",
      "Epoch 3/50\n",
      "60000/60000 [==============================] - 3s 49us/step - loss: 1.0255 - acc: 0.5693 - val_loss: 0.1342 - val_acc: 0.9669\n",
      "\n",
      "Epoch 00003: val_acc improved from 0.85000 to 0.96690, saving model to best_model.h5\n",
      "Epoch 4/50\n",
      "60000/60000 [==============================] - 3s 49us/step - loss: 0.9829 - acc: 0.5775 - val_loss: 0.1150 - val_acc: 0.9728\n",
      "\n",
      "Epoch 00004: val_acc improved from 0.96690 to 0.97280, saving model to best_model.h5\n",
      "Epoch 5/50\n",
      "60000/60000 [==============================] - 3s 50us/step - loss: 0.9548 - acc: 0.5833 - val_loss: 0.2526 - val_acc: 0.9278\n",
      "\n",
      "Epoch 00005: val_acc did not improve from 0.97280\n",
      "Epoch 6/50\n",
      "60000/60000 [==============================] - 3s 50us/step - loss: 0.9420 - acc: 0.5812 - val_loss: 0.4583 - val_acc: 0.8455\n",
      "\n",
      "Epoch 00006: val_acc did not improve from 0.97280\n",
      "Epoch 7/50\n",
      "60000/60000 [==============================] - 3s 50us/step - loss: 0.9296 - acc: 0.5873 - val_loss: 0.1816 - val_acc: 0.9500\n",
      "\n",
      "Epoch 00007: val_acc did not improve from 0.97280\n",
      "Epoch 8/50\n",
      "60000/60000 [==============================] - 3s 50us/step - loss: 0.9306 - acc: 0.5826 - val_loss: 0.1814 - val_acc: 0.9458\n",
      "\n",
      "Epoch 00008: val_acc did not improve from 0.97280\n",
      "Epoch 9/50\n",
      "60000/60000 [==============================] - 3s 51us/step - loss: 0.9102 - acc: 0.5904 - val_loss: 0.1092 - val_acc: 0.9704\n",
      "\n",
      "Epoch 00009: val_acc did not improve from 0.97280\n",
      "Epoch 10/50\n",
      "60000/60000 [==============================] - 3s 51us/step - loss: 0.9112 - acc: 0.5886 - val_loss: 0.1328 - val_acc: 0.9609\n",
      "\n",
      "Epoch 00010: val_acc did not improve from 0.97280\n",
      "Epoch 11/50\n",
      "60000/60000 [==============================] - 3s 51us/step - loss: 0.9034 - acc: 0.5914 - val_loss: 0.3116 - val_acc: 0.9068\n",
      "\n",
      "Epoch 00011: val_acc did not improve from 0.97280\n",
      "Epoch 12/50\n",
      "60000/60000 [==============================] - 3s 51us/step - loss: 0.9037 - acc: 0.5918 - val_loss: 0.1013 - val_acc: 0.9687\n",
      "\n",
      "Epoch 00012: val_acc did not improve from 0.97280\n",
      "Epoch 13/50\n",
      "60000/60000 [==============================] - 3s 51us/step - loss: 0.9061 - acc: 0.5893 - val_loss: 0.2360 - val_acc: 0.9274\n",
      "\n",
      "Epoch 00013: val_acc did not improve from 0.97280\n",
      "Epoch 14/50\n",
      "60000/60000 [==============================] - 3s 50us/step - loss: 0.8954 - acc: 0.5915 - val_loss: 0.0912 - val_acc: 0.9709\n",
      "\n",
      "Epoch 00014: val_acc did not improve from 0.97280\n",
      "Epoch 15/50\n",
      "60000/60000 [==============================] - 3s 50us/step - loss: 0.8995 - acc: 0.5910 - val_loss: 0.0662 - val_acc: 0.9798\n",
      "\n",
      "Epoch 00015: val_acc improved from 0.97280 to 0.97980, saving model to best_model.h5\n",
      "Epoch 16/50\n",
      "60000/60000 [==============================] - 3s 49us/step - loss: 0.8901 - acc: 0.5936 - val_loss: 0.1072 - val_acc: 0.9681\n",
      "\n",
      "Epoch 00016: val_acc did not improve from 0.97980\n",
      "Epoch 17/50\n",
      "60000/60000 [==============================] - 3s 49us/step - loss: 0.8915 - acc: 0.5918 - val_loss: 0.0422 - val_acc: 0.9871\n",
      "\n",
      "Epoch 00017: val_acc improved from 0.97980 to 0.98710, saving model to best_model.h5\n",
      "Epoch 18/50\n",
      "60000/60000 [==============================] - 3s 49us/step - loss: 0.8957 - acc: 0.5900 - val_loss: 0.0414 - val_acc: 0.9862\n",
      "\n",
      "Epoch 00018: val_acc did not improve from 0.98710\n",
      "Epoch 19/50\n",
      "60000/60000 [==============================] - 3s 49us/step - loss: 0.8834 - acc: 0.5955 - val_loss: 0.0523 - val_acc: 0.9828\n",
      "\n",
      "Epoch 00019: val_acc did not improve from 0.98710\n",
      "Epoch 20/50\n",
      "60000/60000 [==============================] - 3s 49us/step - loss: 0.8907 - acc: 0.5912 - val_loss: 0.0517 - val_acc: 0.9839\n",
      "\n",
      "Epoch 00020: val_acc did not improve from 0.98710\n",
      "Epoch 21/50\n",
      "60000/60000 [==============================] - 3s 49us/step - loss: 0.8845 - acc: 0.5946 - val_loss: 0.0672 - val_acc: 0.9774\n",
      "\n",
      "Epoch 00021: val_acc did not improve from 0.98710\n",
      "Epoch 22/50\n",
      "60000/60000 [==============================] - 3s 49us/step - loss: 0.8768 - acc: 0.5979 - val_loss: 0.0584 - val_acc: 0.9824\n",
      "\n",
      "Epoch 00022: val_acc did not improve from 0.98710\n",
      "Epoch 23/50\n",
      "60000/60000 [==============================] - 3s 49us/step - loss: 0.8904 - acc: 0.5896 - val_loss: 0.0591 - val_acc: 0.9813\n",
      "\n",
      "Epoch 00023: val_acc did not improve from 0.98710\n",
      "Epoch 24/50\n",
      "60000/60000 [==============================] - 3s 49us/step - loss: 0.8784 - acc: 0.5968 - val_loss: 0.0322 - val_acc: 0.9890\n",
      "\n",
      "Epoch 00024: val_acc improved from 0.98710 to 0.98900, saving model to best_model.h5\n",
      "Epoch 25/50\n",
      "60000/60000 [==============================] - 3s 49us/step - loss: 0.8846 - acc: 0.5922 - val_loss: 0.0309 - val_acc: 0.9908\n",
      "\n",
      "Epoch 00025: val_acc improved from 0.98900 to 0.99080, saving model to best_model.h5\n",
      "Epoch 26/50\n",
      "60000/60000 [==============================] - 3s 49us/step - loss: 0.8840 - acc: 0.5907 - val_loss: 0.0370 - val_acc: 0.9868\n",
      "\n",
      "Epoch 00026: val_acc did not improve from 0.99080\n",
      "Epoch 27/50\n",
      "60000/60000 [==============================] - 3s 49us/step - loss: 0.8847 - acc: 0.5920 - val_loss: 0.0401 - val_acc: 0.9870\n",
      "\n",
      "Epoch 00027: val_acc did not improve from 0.99080\n",
      "Epoch 28/50\n",
      "60000/60000 [==============================] - 3s 49us/step - loss: 0.8789 - acc: 0.5942 - val_loss: 0.0330 - val_acc: 0.9899\n",
      "\n",
      "Epoch 00028: val_acc did not improve from 0.99080\n",
      "Epoch 29/50\n",
      "60000/60000 [==============================] - 3s 49us/step - loss: 0.8813 - acc: 0.5915 - val_loss: 0.0346 - val_acc: 0.9886\n",
      "\n",
      "Epoch 00029: val_acc did not improve from 0.99080\n",
      "Epoch 30/50\n",
      "60000/60000 [==============================] - 3s 50us/step - loss: 0.8725 - acc: 0.5950 - val_loss: 0.0401 - val_acc: 0.9877\n",
      "\n",
      "Epoch 00030: val_acc did not improve from 0.99080\n",
      "Epoch 31/50\n",
      "60000/60000 [==============================] - 3s 49us/step - loss: 0.8720 - acc: 0.5950 - val_loss: 0.0522 - val_acc: 0.9833\n",
      "\n",
      "Epoch 00031: val_acc did not improve from 0.99080\n",
      "Epoch 32/50\n",
      "60000/60000 [==============================] - 3s 50us/step - loss: 0.8715 - acc: 0.5962 - val_loss: 0.0638 - val_acc: 0.9792\n",
      "\n",
      "Epoch 00032: val_acc did not improve from 0.99080\n",
      "Epoch 33/50\n",
      "60000/60000 [==============================] - 3s 50us/step - loss: 0.8754 - acc: 0.5931 - val_loss: 0.0318 - val_acc: 0.9892\n",
      "\n",
      "Epoch 00033: val_acc did not improve from 0.99080\n",
      "Epoch 34/50\n",
      "60000/60000 [==============================] - 3s 50us/step - loss: 0.8737 - acc: 0.5950 - val_loss: 0.0365 - val_acc: 0.9890\n",
      "\n",
      "Epoch 00034: val_acc did not improve from 0.99080\n",
      "Epoch 35/50\n",
      "60000/60000 [==============================] - 3s 50us/step - loss: 0.8751 - acc: 0.5937 - val_loss: 0.0333 - val_acc: 0.9890\n",
      "\n",
      "Epoch 00035: val_acc did not improve from 0.99080\n",
      "Epoch 36/50\n",
      "60000/60000 [==============================] - 3s 50us/step - loss: 0.8729 - acc: 0.5958 - val_loss: 0.0393 - val_acc: 0.9883\n",
      "\n",
      "Epoch 00036: val_acc did not improve from 0.99080\n",
      "Epoch 37/50\n",
      "60000/60000 [==============================] - 3s 51us/step - loss: 0.8660 - acc: 0.5984 - val_loss: 0.0454 - val_acc: 0.9852\n",
      "\n",
      "Epoch 00037: val_acc did not improve from 0.99080\n",
      "Epoch 38/50\n",
      "60000/60000 [==============================] - 3s 50us/step - loss: 0.8732 - acc: 0.5949 - val_loss: 0.0662 - val_acc: 0.9792\n",
      "\n",
      "Epoch 00038: val_acc did not improve from 0.99080\n",
      "Epoch 39/50\n",
      "60000/60000 [==============================] - 3s 50us/step - loss: 0.8797 - acc: 0.5904 - val_loss: 0.0454 - val_acc: 0.9860\n",
      "\n",
      "Epoch 00039: val_acc did not improve from 0.99080\n",
      "Epoch 40/50\n",
      "60000/60000 [==============================] - 3s 50us/step - loss: 0.8755 - acc: 0.5913 - val_loss: 0.0296 - val_acc: 0.9905\n",
      "\n",
      "Epoch 00040: val_acc did not improve from 0.99080\n",
      "Epoch 41/50\n",
      "60000/60000 [==============================] - 3s 50us/step - loss: 0.8737 - acc: 0.5935 - val_loss: 0.0277 - val_acc: 0.9910\n",
      "\n",
      "Epoch 00041: val_acc improved from 0.99080 to 0.99100, saving model to best_model.h5\n",
      "Epoch 42/50\n",
      "60000/60000 [==============================] - 3s 50us/step - loss: 0.8758 - acc: 0.5915 - val_loss: 0.0506 - val_acc: 0.9840\n",
      "\n",
      "Epoch 00042: val_acc did not improve from 0.99100\n",
      "Epoch 43/50\n",
      "60000/60000 [==============================] - 3s 50us/step - loss: 0.8636 - acc: 0.5983 - val_loss: 0.0350 - val_acc: 0.9891\n",
      "\n",
      "Epoch 00043: val_acc did not improve from 0.99100\n",
      "Epoch 44/50\n",
      "60000/60000 [==============================] - 3s 50us/step - loss: 0.8608 - acc: 0.6001 - val_loss: 0.0378 - val_acc: 0.9880\n",
      "\n",
      "Epoch 00044: val_acc did not improve from 0.99100\n",
      "Epoch 45/50\n",
      "60000/60000 [==============================] - 3s 50us/step - loss: 0.8645 - acc: 0.5982 - val_loss: 0.0930 - val_acc: 0.9667\n",
      "\n",
      "Epoch 00045: val_acc did not improve from 0.99100\n",
      "Epoch 46/50\n",
      "60000/60000 [==============================] - 3s 50us/step - loss: 0.8709 - acc: 0.5947 - val_loss: 0.0363 - val_acc: 0.9878\n",
      "\n",
      "Epoch 00046: val_acc did not improve from 0.99100\n",
      "Epoch 47/50\n",
      "60000/60000 [==============================] - 3s 49us/step - loss: 0.8675 - acc: 0.5966 - val_loss: 0.0306 - val_acc: 0.9902\n",
      "\n",
      "Epoch 00047: val_acc did not improve from 0.99100\n",
      "Epoch 48/50\n",
      "60000/60000 [==============================] - 3s 50us/step - loss: 0.8712 - acc: 0.5947 - val_loss: 0.0357 - val_acc: 0.9883\n",
      "\n",
      "Epoch 00048: val_acc did not improve from 0.99100\n",
      "Epoch 49/50\n",
      "60000/60000 [==============================] - 3s 49us/step - loss: 0.8706 - acc: 0.5944 - val_loss: 0.0290 - val_acc: 0.9902\n",
      "\n",
      "Epoch 00049: val_acc did not improve from 0.99100\n",
      "Epoch 50/50\n",
      "60000/60000 [==============================] - 3s 49us/step - loss: 0.8718 - acc: 0.5942 - val_loss: 0.0303 - val_acc: 0.9890\n",
      "\n",
      "Epoch 00050: val_acc did not improve from 0.99100\n"
     ]
    }
   ],
   "source": [
    "# Train the model using fit function. Here, training set, validation set, batch size and number of epochs were passed as arguments\n",
    "\n",
    "history = model.fit(X_train, Y_train, batch_size=2048, epochs=50, verbose=1, validation_data = (X_test, Y_test), callbacks=[mc])\n"
   ]
  },
  {
   "cell_type": "code",
   "execution_count": 27,
   "metadata": {
    "colab": {
     "base_uri": "https://localhost:8080/",
     "height": 3434
    },
    "colab_type": "code",
    "id": "SArr7UbxtalC",
    "outputId": "061701e8-aba3-4ef6-83ed-ffd486453fb3"
   },
   "outputs": [
    {
     "name": "stdout",
     "output_type": "stream",
     "text": [
      "Train on 60000 samples, validate on 10000 samples\n",
      "Epoch 1/50\n",
      "60000/60000 [==============================] - 3s 50us/step - loss: 0.8695 - acc: 0.5934 - val_loss: 0.0261 - val_acc: 0.9919\n",
      "\n",
      "Epoch 00001: val_acc improved from 0.99100 to 0.99190, saving model to best_model.h5\n",
      "Epoch 2/50\n",
      "60000/60000 [==============================] - 3s 49us/step - loss: 0.8668 - acc: 0.5975 - val_loss: 0.0240 - val_acc: 0.9922\n",
      "\n",
      "Epoch 00002: val_acc improved from 0.99190 to 0.99220, saving model to best_model.h5\n",
      "Epoch 3/50\n",
      "60000/60000 [==============================] - 3s 49us/step - loss: 0.8702 - acc: 0.5958 - val_loss: 0.0242 - val_acc: 0.9919\n",
      "\n",
      "Epoch 00003: val_acc did not improve from 0.99220\n",
      "Epoch 4/50\n",
      "60000/60000 [==============================] - 3s 49us/step - loss: 0.8716 - acc: 0.5934 - val_loss: 0.0538 - val_acc: 0.9828\n",
      "\n",
      "Epoch 00004: val_acc did not improve from 0.99220\n",
      "Epoch 5/50\n",
      "60000/60000 [==============================] - 3s 49us/step - loss: 0.8660 - acc: 0.5971 - val_loss: 0.0240 - val_acc: 0.9927\n",
      "\n",
      "Epoch 00005: val_acc improved from 0.99220 to 0.99270, saving model to best_model.h5\n",
      "Epoch 6/50\n",
      "60000/60000 [==============================] - 3s 50us/step - loss: 0.8725 - acc: 0.5926 - val_loss: 0.0222 - val_acc: 0.9939\n",
      "\n",
      "Epoch 00006: val_acc improved from 0.99270 to 0.99390, saving model to best_model.h5\n",
      "Epoch 7/50\n",
      "60000/60000 [==============================] - 3s 50us/step - loss: 0.8657 - acc: 0.5958 - val_loss: 0.0257 - val_acc: 0.9912\n",
      "\n",
      "Epoch 00007: val_acc did not improve from 0.99390\n",
      "Epoch 8/50\n",
      "60000/60000 [==============================] - 3s 50us/step - loss: 0.8597 - acc: 0.5984 - val_loss: 0.0329 - val_acc: 0.9889\n",
      "\n",
      "Epoch 00008: val_acc did not improve from 0.99390\n",
      "Epoch 9/50\n",
      "60000/60000 [==============================] - 3s 51us/step - loss: 0.8658 - acc: 0.5960 - val_loss: 0.0398 - val_acc: 0.9872\n",
      "\n",
      "Epoch 00009: val_acc did not improve from 0.99390\n",
      "Epoch 10/50\n",
      "60000/60000 [==============================] - 3s 51us/step - loss: 0.8610 - acc: 0.5972 - val_loss: 0.0252 - val_acc: 0.9918\n",
      "\n",
      "Epoch 00010: val_acc did not improve from 0.99390\n",
      "Epoch 11/50\n",
      "60000/60000 [==============================] - 3s 51us/step - loss: 0.8599 - acc: 0.5993 - val_loss: 0.0273 - val_acc: 0.9910\n",
      "\n",
      "Epoch 00011: val_acc did not improve from 0.99390\n",
      "Epoch 12/50\n",
      "60000/60000 [==============================] - 3s 51us/step - loss: 0.8684 - acc: 0.5937 - val_loss: 0.0280 - val_acc: 0.9910\n",
      "\n",
      "Epoch 00012: val_acc did not improve from 0.99390\n",
      "Epoch 13/50\n",
      "60000/60000 [==============================] - 3s 50us/step - loss: 0.8691 - acc: 0.5954 - val_loss: 0.0237 - val_acc: 0.9924\n",
      "\n",
      "Epoch 00013: val_acc did not improve from 0.99390\n",
      "Epoch 14/50\n",
      "60000/60000 [==============================] - 3s 50us/step - loss: 0.8658 - acc: 0.5960 - val_loss: 0.0194 - val_acc: 0.9940\n",
      "\n",
      "Epoch 00014: val_acc improved from 0.99390 to 0.99400, saving model to best_model.h5\n",
      "Epoch 15/50\n",
      "60000/60000 [==============================] - 3s 50us/step - loss: 0.8538 - acc: 0.6021 - val_loss: 0.0396 - val_acc: 0.9872\n",
      "\n",
      "Epoch 00015: val_acc did not improve from 0.99400\n",
      "Epoch 16/50\n",
      "60000/60000 [==============================] - 3s 50us/step - loss: 0.8634 - acc: 0.5963 - val_loss: 0.0287 - val_acc: 0.9898\n",
      "\n",
      "Epoch 00016: val_acc did not improve from 0.99400\n",
      "Epoch 17/50\n",
      "60000/60000 [==============================] - 3s 50us/step - loss: 0.8576 - acc: 0.5992 - val_loss: 0.0390 - val_acc: 0.9866\n",
      "\n",
      "Epoch 00017: val_acc did not improve from 0.99400\n",
      "Epoch 18/50\n",
      "60000/60000 [==============================] - 3s 49us/step - loss: 0.8621 - acc: 0.5974 - val_loss: 0.0189 - val_acc: 0.9942\n",
      "\n",
      "Epoch 00018: val_acc improved from 0.99400 to 0.99420, saving model to best_model.h5\n",
      "Epoch 19/50\n",
      "60000/60000 [==============================] - 3s 49us/step - loss: 0.8533 - acc: 0.6009 - val_loss: 0.0278 - val_acc: 0.9909\n",
      "\n",
      "Epoch 00019: val_acc did not improve from 0.99420\n",
      "Epoch 20/50\n",
      "60000/60000 [==============================] - 3s 49us/step - loss: 0.8624 - acc: 0.5978 - val_loss: 0.0211 - val_acc: 0.9928\n",
      "\n",
      "Epoch 00020: val_acc did not improve from 0.99420\n",
      "Epoch 21/50\n",
      "60000/60000 [==============================] - 3s 49us/step - loss: 0.8650 - acc: 0.5947 - val_loss: 0.0238 - val_acc: 0.9917\n",
      "\n",
      "Epoch 00021: val_acc did not improve from 0.99420\n",
      "Epoch 22/50\n",
      "60000/60000 [==============================] - 3s 49us/step - loss: 0.8613 - acc: 0.5958 - val_loss: 0.0341 - val_acc: 0.9899\n",
      "\n",
      "Epoch 00022: val_acc did not improve from 0.99420\n",
      "Epoch 23/50\n",
      "60000/60000 [==============================] - 3s 49us/step - loss: 0.8632 - acc: 0.5953 - val_loss: 0.0299 - val_acc: 0.9906\n",
      "\n",
      "Epoch 00023: val_acc did not improve from 0.99420\n",
      "Epoch 24/50\n",
      "60000/60000 [==============================] - 3s 49us/step - loss: 0.8556 - acc: 0.6002 - val_loss: 0.0318 - val_acc: 0.9902\n",
      "\n",
      "Epoch 00024: val_acc did not improve from 0.99420\n",
      "Epoch 25/50\n",
      "60000/60000 [==============================] - 3s 49us/step - loss: 0.8675 - acc: 0.5940 - val_loss: 0.0342 - val_acc: 0.9887\n",
      "\n",
      "Epoch 00025: val_acc did not improve from 0.99420\n",
      "Epoch 26/50\n",
      "60000/60000 [==============================] - 3s 49us/step - loss: 0.8611 - acc: 0.5986 - val_loss: 0.0283 - val_acc: 0.9908\n",
      "\n",
      "Epoch 00026: val_acc did not improve from 0.99420\n",
      "Epoch 27/50\n",
      "60000/60000 [==============================] - 3s 49us/step - loss: 0.8578 - acc: 0.6007 - val_loss: 0.0261 - val_acc: 0.9907\n",
      "\n",
      "Epoch 00027: val_acc did not improve from 0.99420\n",
      "Epoch 28/50\n",
      "60000/60000 [==============================] - 3s 49us/step - loss: 0.8630 - acc: 0.5973 - val_loss: 0.0262 - val_acc: 0.9919\n",
      "\n",
      "Epoch 00028: val_acc did not improve from 0.99420\n",
      "Epoch 29/50\n",
      "60000/60000 [==============================] - 3s 50us/step - loss: 0.8639 - acc: 0.5950 - val_loss: 0.0178 - val_acc: 0.9939\n",
      "\n",
      "Epoch 00029: val_acc did not improve from 0.99420\n",
      "Epoch 30/50\n",
      "60000/60000 [==============================] - 3s 50us/step - loss: 0.8641 - acc: 0.5951 - val_loss: 0.0191 - val_acc: 0.9934\n",
      "\n",
      "Epoch 00030: val_acc did not improve from 0.99420\n",
      "Epoch 31/50\n",
      "60000/60000 [==============================] - 3s 50us/step - loss: 0.8578 - acc: 0.5991 - val_loss: 0.0222 - val_acc: 0.9931\n",
      "\n",
      "Epoch 00031: val_acc did not improve from 0.99420\n",
      "Epoch 32/50\n",
      "60000/60000 [==============================] - 3s 51us/step - loss: 0.8683 - acc: 0.5939 - val_loss: 0.0277 - val_acc: 0.9910\n",
      "\n",
      "Epoch 00032: val_acc did not improve from 0.99420\n",
      "Epoch 33/50\n",
      "60000/60000 [==============================] - 3s 51us/step - loss: 0.8626 - acc: 0.5961 - val_loss: 0.0195 - val_acc: 0.9932\n",
      "\n",
      "Epoch 00033: val_acc did not improve from 0.99420\n",
      "Epoch 34/50\n",
      "60000/60000 [==============================] - 3s 51us/step - loss: 0.8580 - acc: 0.5965 - val_loss: 0.0217 - val_acc: 0.9925\n",
      "\n",
      "Epoch 00034: val_acc did not improve from 0.99420\n",
      "Epoch 35/50\n",
      "60000/60000 [==============================] - 3s 51us/step - loss: 0.8601 - acc: 0.5967 - val_loss: 0.0235 - val_acc: 0.9929\n",
      "\n",
      "Epoch 00035: val_acc did not improve from 0.99420\n",
      "Epoch 36/50\n",
      "60000/60000 [==============================] - 3s 51us/step - loss: 0.8628 - acc: 0.5952 - val_loss: 0.0319 - val_acc: 0.9907\n",
      "\n",
      "Epoch 00036: val_acc did not improve from 0.99420\n",
      "Epoch 37/50\n",
      "60000/60000 [==============================] - 3s 51us/step - loss: 0.8597 - acc: 0.5985 - val_loss: 0.0185 - val_acc: 0.9947\n",
      "\n",
      "Epoch 00037: val_acc improved from 0.99420 to 0.99470, saving model to best_model.h5\n",
      "Epoch 38/50\n",
      "60000/60000 [==============================] - 3s 51us/step - loss: 0.8636 - acc: 0.5968 - val_loss: 0.0203 - val_acc: 0.9937\n",
      "\n",
      "Epoch 00038: val_acc did not improve from 0.99470\n",
      "Epoch 39/50\n",
      "60000/60000 [==============================] - 3s 51us/step - loss: 0.8579 - acc: 0.5995 - val_loss: 0.0375 - val_acc: 0.9886\n",
      "\n",
      "Epoch 00039: val_acc did not improve from 0.99470\n",
      "Epoch 40/50\n",
      "60000/60000 [==============================] - 3s 51us/step - loss: 0.8610 - acc: 0.5948 - val_loss: 0.0213 - val_acc: 0.9924\n",
      "\n",
      "Epoch 00040: val_acc did not improve from 0.99470\n",
      "Epoch 41/50\n",
      "60000/60000 [==============================] - 3s 51us/step - loss: 0.8606 - acc: 0.5979 - val_loss: 0.0222 - val_acc: 0.9930\n",
      "\n",
      "Epoch 00041: val_acc did not improve from 0.99470\n",
      "Epoch 42/50\n",
      "60000/60000 [==============================] - 3s 51us/step - loss: 0.8612 - acc: 0.5959 - val_loss: 0.0242 - val_acc: 0.9928\n",
      "\n",
      "Epoch 00042: val_acc did not improve from 0.99470\n",
      "Epoch 43/50\n",
      "60000/60000 [==============================] - 3s 51us/step - loss: 0.8600 - acc: 0.5963 - val_loss: 0.0223 - val_acc: 0.9926\n",
      "\n",
      "Epoch 00043: val_acc did not improve from 0.99470\n",
      "Epoch 44/50\n",
      "60000/60000 [==============================] - 3s 51us/step - loss: 0.8582 - acc: 0.5991 - val_loss: 0.0291 - val_acc: 0.9902\n",
      "\n",
      "Epoch 00044: val_acc did not improve from 0.99470\n",
      "Epoch 45/50\n",
      "60000/60000 [==============================] - 3s 50us/step - loss: 0.8606 - acc: 0.5988 - val_loss: 0.0288 - val_acc: 0.9903\n",
      "\n",
      "Epoch 00045: val_acc did not improve from 0.99470\n",
      "Epoch 46/50\n",
      "60000/60000 [==============================] - 3s 50us/step - loss: 0.8640 - acc: 0.5942 - val_loss: 0.0196 - val_acc: 0.9941\n",
      "\n",
      "Epoch 00046: val_acc did not improve from 0.99470\n",
      "Epoch 47/50\n",
      "60000/60000 [==============================] - 3s 51us/step - loss: 0.8574 - acc: 0.5985 - val_loss: 0.0183 - val_acc: 0.9939\n",
      "\n",
      "Epoch 00047: val_acc did not improve from 0.99470\n",
      "Epoch 48/50\n",
      "60000/60000 [==============================] - 3s 51us/step - loss: 0.8633 - acc: 0.5945 - val_loss: 0.0279 - val_acc: 0.9925\n",
      "\n",
      "Epoch 00048: val_acc did not improve from 0.99470\n",
      "Epoch 49/50\n",
      "60000/60000 [==============================] - 3s 51us/step - loss: 0.8548 - acc: 0.5996 - val_loss: 0.0355 - val_acc: 0.9880\n",
      "\n",
      "Epoch 00049: val_acc did not improve from 0.99470\n",
      "Epoch 50/50\n",
      "60000/60000 [==============================] - 3s 51us/step - loss: 0.8568 - acc: 0.5998 - val_loss: 0.0320 - val_acc: 0.9907\n",
      "\n",
      "Epoch 00050: val_acc did not improve from 0.99470\n"
     ]
    }
   ],
   "source": [
    "# Train the model using fit function. Here, training set, validation set, batch size and number of epochs were passed as arguments\n",
    "\n",
    "history = model.fit(X_train, Y_train, batch_size=2048, epochs=50, verbose=1, validation_data = (X_test, Y_test), callbacks=[mc])"
   ]
  },
  {
   "cell_type": "code",
   "execution_count": 0,
   "metadata": {
    "colab": {},
    "colab_type": "code",
    "id": "ZlU_eMbmraa4"
   },
   "outputs": [],
   "source": [
    "# Load the best model which is saved during training process\n",
    "\n",
    "from keras.models import load_model\n",
    "saved_model = load_model('best_model.h5')"
   ]
  },
  {
   "cell_type": "code",
   "execution_count": 0,
   "metadata": {
    "colab": {},
    "colab_type": "code",
    "id": "AtsH-lLk-eLb"
   },
   "outputs": [],
   "source": [
    "# Score the model i.e. evaluate the model using test data set.\n",
    "\n",
    "score = saved_model.evaluate(X_test, Y_test, verbose=0)\n",
    "#score = model.evaluate(X_test, Y_test, verbose=0)"
   ]
  },
  {
   "cell_type": "code",
   "execution_count": 31,
   "metadata": {
    "colab": {
     "base_uri": "https://localhost:8080/",
     "height": 34
    },
    "colab_type": "code",
    "id": "mkX8JMv79q9r",
    "outputId": "05937069-893e-4a65-fa4a-cfe3a251d7f3"
   },
   "outputs": [
    {
     "name": "stdout",
     "output_type": "stream",
     "text": [
      "[0.018491784818086308, 0.9947]\n"
     ]
    }
   ],
   "source": [
    "print(score)"
   ]
  },
  {
   "cell_type": "code",
   "execution_count": 0,
   "metadata": {
    "colab": {},
    "colab_type": "code",
    "id": "OCWoJkwE9suh"
   },
   "outputs": [],
   "source": [
    "# Obtain the predictions from the model from test dataset.\n",
    "\n",
    "y_pred = model.predict(X_test)"
   ]
  },
  {
   "cell_type": "code",
   "execution_count": 33,
   "metadata": {
    "colab": {
     "base_uri": "https://localhost:8080/",
     "height": 493
    },
    "colab_type": "code",
    "id": "Ym7iCFBm9uBs",
    "outputId": "8182281a-1b19-4f47-f29e-781658e8b8d4"
   },
   "outputs": [
    {
     "name": "stdout",
     "output_type": "stream",
     "text": [
      "[[1.69018062e-08 3.60681696e-07 3.10462633e-06 1.46334332e-06\n",
      "  2.85112208e-07 7.41371622e-08 9.32950694e-09 9.99994278e-01\n",
      "  9.76837100e-08 3.40164036e-07]\n",
      " [2.11215070e-06 2.01556595e-05 9.99945283e-01 3.04563486e-07\n",
      "  2.57309438e-07 1.83627904e-07 3.14105855e-05 9.70923324e-08\n",
      "  1.38294567e-07 2.48863401e-08]\n",
      " [9.80267032e-07 9.99958873e-01 3.09549762e-07 1.25562826e-06\n",
      "  2.11536571e-05 7.36688980e-06 2.43571480e-06 3.24601751e-06\n",
      "  1.87962030e-06 2.58421687e-06]\n",
      " [9.97506440e-01 5.35654317e-06 1.62478609e-04 5.61491252e-05\n",
      "  4.71103931e-06 1.13887945e-04 3.69043555e-04 4.56255202e-06\n",
      "  4.08645748e-04 1.36875326e-03]\n",
      " [3.12984002e-06 3.80658753e-06 3.05660001e-06 1.15579348e-06\n",
      "  9.99175847e-01 2.83056420e-06 1.01512678e-05 5.38488166e-07\n",
      "  3.05143885e-06 7.96257227e-04]\n",
      " [1.45859451e-06 9.99959588e-01 3.18674893e-07 1.25871395e-06\n",
      "  1.18593689e-05 7.77306377e-06 2.81618622e-06 3.83136512e-06\n",
      "  2.44619446e-06 8.80201333e-06]\n",
      " [1.14759375e-08 8.32776277e-05 5.68555479e-05 6.75551419e-08\n",
      "  9.99116361e-01 3.99655633e-04 2.15194814e-06 4.38783218e-07\n",
      "  5.73527541e-05 2.83778791e-04]\n",
      " [1.65095605e-06 9.99946405e-06 5.72565987e-05 5.61426987e-06\n",
      "  2.74984777e-04 6.55376334e-06 1.04935879e-07 1.10503242e-06\n",
      "  1.27617735e-04 9.99515176e-01]\n",
      " [1.88157006e-04 3.86870084e-07 1.56735608e-04 7.98348538e-06\n",
      "  6.73823175e-04 9.95669127e-01 1.30020559e-03 1.94256318e-05\n",
      "  7.05054321e-04 1.27909787e-03]]\n",
      "[7 2 1 0 4 1 4 9 5]\n"
     ]
    }
   ],
   "source": [
    "# Print 9 predictions from test dataset. Also print the actual labels from test dataset\n",
    "\n",
    "print(y_pred[:9])\n",
    "print(y_test[:9])"
   ]
  },
  {
   "cell_type": "code",
   "execution_count": 0,
   "metadata": {
    "colab": {},
    "colab_type": "code",
    "id": "CT--y98_dr2T"
   },
   "outputs": [],
   "source": [
    "# Load the layers and layer names as dictionary\n",
    "\n",
    "layer_dict = dict([(layer.name, layer) for layer in model.layers])"
   ]
  },
  {
   "cell_type": "code",
   "execution_count": 38,
   "metadata": {
    "colab": {
     "base_uri": "https://localhost:8080/",
     "height": 868
    },
    "colab_type": "code",
    "id": "2GY4Upv4dsUR",
    "outputId": "3d77d5f3-32cf-4bb0-8690-be97fd36f5ff"
   },
   "outputs": [
    {
     "data": {
      "image/png": "[encoded data removed]",
      "text/plain": [
       "<Figure size 864x864 with 36 Axes>"
      ]
     },
     "metadata": {
      "tags": []
     },
     "output_type": "display_data"
    }
   ],
   "source": [
    "# The below code is used to visualize the intermediate activations (Ex:- conv2d_19) i.e. from the layer specified in the code for any given image.\n",
    "\n",
    "import numpy as np\n",
    "from matplotlib import pyplot as plt\n",
    "from keras import backend as K\n",
    "%matplotlib inline\n",
    "# util function to convert a tensor into a valid image\n",
    "def deprocess_image(x):\n",
    "    # normalize tensor: center on 0., ensure std is 0.1\n",
    "    x -= x.mean()\n",
    "    x /= (x.std() + 1e-5)\n",
    "    x *= 0.1\n",
    "\n",
    "    # clip to [0, 1]\n",
    "    x += 0.5\n",
    "    x = np.clip(x, 0, 1)\n",
    "\n",
    "    # convert to RGB array\n",
    "    x *= 255\n",
    "    #x = x.transpose((1, 2, 0))\n",
    "    x = np.clip(x, 0, 255).astype('uint8')\n",
    "    return x\n",
    "\n",
    "def vis_img_in_filter(img = np.array(X_train[2]).reshape((1, 28, 28, 1)).astype(np.float64), \n",
    "                      layer_name = 'conv2d_19'):\n",
    "    layer_output = layer_dict[layer_name].output\n",
    "    img_ascs = list()\n",
    "    for filter_index in range(layer_output.shape[3]):\n",
    "        # build a loss function that maximizes the activation\n",
    "        # of the nth filter of the layer considered\n",
    "        loss = K.mean(layer_output[:, :, :, filter_index])\n",
    "\n",
    "        # compute the gradient of the input picture wrt this loss\n",
    "        grads = K.gradients(loss, model.input)[0]\n",
    "\n",
    "        # normalization trick: we normalize the gradient\n",
    "        grads /= (K.sqrt(K.mean(K.square(grads))) + 1e-5)\n",
    "\n",
    "        # this function returns the loss and grads given the input picture\n",
    "        iterate = K.function([model.input], [loss, grads])\n",
    "\n",
    "        # step size for gradient ascent\n",
    "        step = 5.\n",
    "\n",
    "        img_asc = np.array(img)\n",
    "        # run gradient ascent for 20 steps\n",
    "        for i in range(20):\n",
    "            loss_value, grads_value = iterate([img_asc])\n",
    "            img_asc += grads_value * step\n",
    "\n",
    "        img_asc = img_asc[0]\n",
    "        img_ascs.append(deprocess_image(img_asc).reshape((28, 28)))\n",
    "        \n",
    "    if layer_output.shape[3] >= 35:\n",
    "        plot_x, plot_y = 6, 6\n",
    "    elif layer_output.shape[3] >= 23:\n",
    "        plot_x, plot_y = 4, 6\n",
    "    elif layer_output.shape[3] >= 11:\n",
    "        plot_x, plot_y = 2, 6\n",
    "    else:\n",
    "        plot_x, plot_y = 1, 2\n",
    "    fig, ax = plt.subplots(plot_x, plot_y, figsize = (12, 12))\n",
    "    ax[0, 0].imshow(img.reshape((28, 28)), cmap = 'gray')\n",
    "    ax[0, 0].set_title('Input image')\n",
    "    fig.suptitle('Input image and %s filters' % (layer_name,))\n",
    "    fig.tight_layout(pad = 0.3, rect = [0, 0, 0.9, 0.9])\n",
    "    for (x, y) in [(i, j) for i in range(plot_x) for j in range(plot_y)]:\n",
    "        if x == 0 and y == 0:\n",
    "            continue\n",
    "        ax[x, y].imshow(img_ascs[x * plot_y + y - 1], cmap = 'gray')\n",
    "        ax[x, y].set_title('filter %d' % (x * plot_y + y - 1))\n",
    "\n",
    "vis_img_in_filter()"
   ]
  },
  {
   "cell_type": "markdown",
   "metadata": {},
   "source": [
    "### **References & Attributions:**\n",
    "\n",
    "*   Keras (https://keras.io/)\n",
    "\n",
    "*   Tensorflow 2.1 (https://www.tensorflow.org/api_docs/python/)\n",
    "\n",
    "\n",
    "*Disclaimer: The contents of this notebook are used for educational purposes i.e. for learning and research.*"
   ]
  },
  {
   "cell_type": "code",
   "execution_count": 0,
   "metadata": {
    "colab": {},
    "colab_type": "code",
    "id": "9tvptcn8dxvp"
   },
   "outputs": [],
   "source": []
  }
 ],
 "metadata": {
  "accelerator": "GPU",
  "colab": {
   "collapsed_sections": [],
   "name": "1st DNN.ipynb",
   "provenance": [],
   "version": "0.3.2"
  },
  "kernelspec": {
   "display_name": "Python 3",
   "language": "python",
   "name": "python3"
  },
  "language_info": {
   "codemirror_mode": {
    "name": "ipython",
    "version": 3
   },
   "file_extension": ".py",
   "mimetype": "text/x-python",
   "name": "python",
   "nbconvert_exporter": "python",
   "pygments_lexer": "ipython3",
   "version": "3.7.4"
  }
 },
 "nbformat": 4,
 "nbformat_minor": 1
}
